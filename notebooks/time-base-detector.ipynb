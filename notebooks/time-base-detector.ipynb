{
 "cells": [
  {
   "cell_type": "code",
   "execution_count": 3,
   "metadata": {},
   "outputs": [],
   "source": [
    "import os\n",
    "import sys  \n",
    "\n",
    "sys.path.insert(0, os.path.dirname(os.getcwd()) + \"/code/\")\n",
    "\n",
    "import helper_functions\n",
    "from importlib import reload\n",
    "\n",
    "from tqdm import tqdm\n",
    "import numpy as np\n",
    "import pandas as pd\n",
    "from scipy.integrate import quad\n",
    "\n",
    "import matplotlib.pyplot as plt\n",
    "%matplotlib inline\n",
    "\n",
    "import json\n",
    "import fnmatch\n",
    "import scipy\n",
    "\n",
    "from sklearn.metrics import auc\n",
    "from sklearn.covariance import EllipticEnvelope"
   ]
  },
  {
   "cell_type": "markdown",
   "metadata": {},
   "source": [
    "## Change Directory"
   ]
  },
  {
   "cell_type": "code",
   "execution_count": 4,
   "metadata": {},
   "outputs": [
    {
     "name": "stdout",
     "output_type": "stream",
     "text": [
      "/Users/8a6/Documents/Research/Projects/CAN/detect/autosec-analysis/data/ambient\n"
     ]
    }
   ],
   "source": [
    "os.chdir(os.path.dirname(os.getcwd()) + \"/data/ambient\")\n",
    "print(os.getcwd())"
   ]
  },
  {
   "cell_type": "code",
   "execution_count": 5,
   "metadata": {},
   "outputs": [
    {
     "data": {
      "text/plain": [
       "['ambient_dyno_exercise_all_bits.log',\n",
       " 'ambient_dyno_reverse.log',\n",
       " 'ambient_dyno_drive_basic_short.log',\n",
       " 'ambient_dyno_drive_radio_infotainment.log',\n",
       " 'ambient_dyno_drive_winter.log',\n",
       " 'ambient_dyno_drive_extended_short.log',\n",
       " 'ambient_dyno_drive_extended_long.log',\n",
       " 'ambient_dyno_drive_basic_long.log',\n",
       " 'ambient_dyno_idle_radio_infotainment.log',\n",
       " 'ambient_dyno_drive_benign_anomaly.log']"
      ]
     },
     "execution_count": 5,
     "metadata": {},
     "output_type": "execute_result"
    }
   ],
   "source": [
    "# List the files in the 'data' folder\n",
    "[file for file in os.listdir(\".\") if \"dyno\" in file]"
   ]
  },
  {
   "cell_type": "markdown",
   "metadata": {},
   "source": [
    "## Load Training Data"
   ]
  },
  {
   "cell_type": "markdown",
   "metadata": {},
   "source": [
    "Aggregate ambient data for training in a single file. Here we considered only data generated in dyno conditions. "
   ]
  },
  {
   "cell_type": "code",
   "execution_count": 6,
   "metadata": {},
   "outputs": [
    {
     "name": "stdout",
     "output_type": "stream",
     "text": [
      "ambient_dyno_exercise_all_bits.log\n",
      "(4135914, 4)\n",
      "ambient_dyno_reverse.log\n",
      "(115180, 4)\n",
      "ambient_dyno_drive_basic_short.log\n",
      "(996375, 4)\n",
      "ambient_dyno_drive_radio_infotainment.log\n",
      "(873911, 4)\n",
      "ambient_dyno_drive_winter.log\n",
      "(106832, 4)\n",
      "ambient_dyno_drive_extended_short.log\n",
      "(741466, 4)\n",
      "ambient_dyno_drive_extended_long.log\n",
      "(1334942, 4)\n",
      "ambient_dyno_drive_basic_long.log\n",
      "(2802326, 4)\n",
      "ambient_dyno_idle_radio_infotainment.log\n",
      "(1472991, 4)\n",
      "ambient_dyno_drive_benign_anomaly.log\n",
      "(720822, 4)\n"
     ]
    },
    {
     "data": {
      "text/html": [
       "<div>\n",
       "<style scoped>\n",
       "    .dataframe tbody tr th:only-of-type {\n",
       "        vertical-align: middle;\n",
       "    }\n",
       "\n",
       "    .dataframe tbody tr th {\n",
       "        vertical-align: top;\n",
       "    }\n",
       "\n",
       "    .dataframe thead th {\n",
       "        text-align: right;\n",
       "    }\n",
       "</style>\n",
       "<table border=\"1\" class=\"dataframe\">\n",
       "  <thead>\n",
       "    <tr style=\"text-align: right;\">\n",
       "      <th></th>\n",
       "      <th>time</th>\n",
       "      <th>aid</th>\n",
       "      <th>time_diffs</th>\n",
       "    </tr>\n",
       "  </thead>\n",
       "  <tbody>\n",
       "    <tr>\n",
       "      <th>192</th>\n",
       "      <td>0.313438</td>\n",
       "      <td>6</td>\n",
       "      <td>0.210577</td>\n",
       "    </tr>\n",
       "    <tr>\n",
       "      <th>984</th>\n",
       "      <td>1.307807</td>\n",
       "      <td>6</td>\n",
       "      <td>0.994369</td>\n",
       "    </tr>\n",
       "    <tr>\n",
       "      <th>1784</th>\n",
       "      <td>2.312546</td>\n",
       "      <td>6</td>\n",
       "      <td>1.004739</td>\n",
       "    </tr>\n",
       "    <tr>\n",
       "      <th>2581</th>\n",
       "      <td>3.316765</td>\n",
       "      <td>6</td>\n",
       "      <td>1.004219</td>\n",
       "    </tr>\n",
       "    <tr>\n",
       "      <th>3361</th>\n",
       "      <td>4.291507</td>\n",
       "      <td>6</td>\n",
       "      <td>0.974742</td>\n",
       "    </tr>\n",
       "    <tr>\n",
       "      <th>...</th>\n",
       "      <td>...</td>\n",
       "      <td>...</td>\n",
       "      <td>...</td>\n",
       "    </tr>\n",
       "    <tr>\n",
       "      <th>770462</th>\n",
       "      <td>455.992919</td>\n",
       "      <td>1788</td>\n",
       "      <td>0.099990</td>\n",
       "    </tr>\n",
       "    <tr>\n",
       "      <th>770703</th>\n",
       "      <td>456.092889</td>\n",
       "      <td>1788</td>\n",
       "      <td>0.099970</td>\n",
       "    </tr>\n",
       "    <tr>\n",
       "      <th>770941</th>\n",
       "      <td>456.192957</td>\n",
       "      <td>1788</td>\n",
       "      <td>0.100068</td>\n",
       "    </tr>\n",
       "    <tr>\n",
       "      <th>771132</th>\n",
       "      <td>456.292914</td>\n",
       "      <td>1788</td>\n",
       "      <td>0.099957</td>\n",
       "    </tr>\n",
       "    <tr>\n",
       "      <th>771368</th>\n",
       "      <td>456.392928</td>\n",
       "      <td>1788</td>\n",
       "      <td>0.100014</td>\n",
       "    </tr>\n",
       "  </tbody>\n",
       "</table>\n",
       "<p>13300759 rows × 3 columns</p>\n",
       "</div>"
      ],
      "text/plain": [
       "              time   aid  time_diffs\n",
       "192       0.313438     6    0.210577\n",
       "984       1.307807     6    0.994369\n",
       "1784      2.312546     6    1.004739\n",
       "2581      3.316765     6    1.004219\n",
       "3361      4.291507     6    0.974742\n",
       "...            ...   ...         ...\n",
       "770462  455.992919  1788    0.099990\n",
       "770703  456.092889  1788    0.099970\n",
       "770941  456.192957  1788    0.100068\n",
       "771132  456.292914  1788    0.099957\n",
       "771368  456.392928  1788    0.100014\n",
       "\n",
       "[13300759 rows x 3 columns]"
      ]
     },
     "metadata": {},
     "output_type": "display_data"
    }
   ],
   "source": [
    "# df_aggregation = []\n",
    "\n",
    "# for file_name in os.listdir(\".\"):\n",
    "    \n",
    "#     if \"dyno\" in file_name:\n",
    "        \n",
    "#         print(file_name)\n",
    "#         df = helper_functions.make_can_df(file_name)\n",
    "#         df = helper_functions.add_time_diff_per_aid_col(df)\n",
    "#         print(df.shape)\n",
    "#         # print(df.dtypes)\n",
    "             \n",
    "#         df_aggregation.append(df)\n",
    "\n",
    "# # Concatenate all training datasets on the dyno\n",
    "# df_training = pd.concat(df_aggregation)\n",
    "# df_training = df_training[[\"time\", \"aid\", \"time_diffs\"]]\n",
    "# display(df_training)"
   ]
  },
  {
   "cell_type": "markdown",
   "metadata": {},
   "source": [
    "## Save Aggregated Training Set"
   ]
  },
  {
   "cell_type": "code",
   "execution_count": 11,
   "metadata": {},
   "outputs": [],
   "source": [
    "df_training.to_csv(\"aggregated_training_data.csv\", index=False)"
   ]
  },
  {
   "cell_type": "markdown",
   "metadata": {},
   "source": [
    "## Loading Aggregated Training Data"
   ]
  },
  {
   "cell_type": "code",
   "execution_count": 13,
   "metadata": {},
   "outputs": [
    {
     "data": {
      "text/html": [
       "<div>\n",
       "<style scoped>\n",
       "    .dataframe tbody tr th:only-of-type {\n",
       "        vertical-align: middle;\n",
       "    }\n",
       "\n",
       "    .dataframe tbody tr th {\n",
       "        vertical-align: top;\n",
       "    }\n",
       "\n",
       "    .dataframe thead th {\n",
       "        text-align: right;\n",
       "    }\n",
       "</style>\n",
       "<table border=\"1\" class=\"dataframe\">\n",
       "  <thead>\n",
       "    <tr style=\"text-align: right;\">\n",
       "      <th></th>\n",
       "      <th>time</th>\n",
       "      <th>aid</th>\n",
       "      <th>time_diffs</th>\n",
       "    </tr>\n",
       "  </thead>\n",
       "  <tbody>\n",
       "    <tr>\n",
       "      <th>0</th>\n",
       "      <td>0.313438</td>\n",
       "      <td>6</td>\n",
       "      <td>0.210577</td>\n",
       "    </tr>\n",
       "    <tr>\n",
       "      <th>1</th>\n",
       "      <td>1.307807</td>\n",
       "      <td>6</td>\n",
       "      <td>0.994369</td>\n",
       "    </tr>\n",
       "    <tr>\n",
       "      <th>2</th>\n",
       "      <td>2.312546</td>\n",
       "      <td>6</td>\n",
       "      <td>1.004739</td>\n",
       "    </tr>\n",
       "    <tr>\n",
       "      <th>3</th>\n",
       "      <td>3.316765</td>\n",
       "      <td>6</td>\n",
       "      <td>1.004219</td>\n",
       "    </tr>\n",
       "    <tr>\n",
       "      <th>4</th>\n",
       "      <td>4.291507</td>\n",
       "      <td>6</td>\n",
       "      <td>0.974742</td>\n",
       "    </tr>\n",
       "    <tr>\n",
       "      <th>...</th>\n",
       "      <td>...</td>\n",
       "      <td>...</td>\n",
       "      <td>...</td>\n",
       "    </tr>\n",
       "    <tr>\n",
       "      <th>13300754</th>\n",
       "      <td>455.992919</td>\n",
       "      <td>1788</td>\n",
       "      <td>0.099990</td>\n",
       "    </tr>\n",
       "    <tr>\n",
       "      <th>13300755</th>\n",
       "      <td>456.092889</td>\n",
       "      <td>1788</td>\n",
       "      <td>0.099970</td>\n",
       "    </tr>\n",
       "    <tr>\n",
       "      <th>13300756</th>\n",
       "      <td>456.192957</td>\n",
       "      <td>1788</td>\n",
       "      <td>0.100068</td>\n",
       "    </tr>\n",
       "    <tr>\n",
       "      <th>13300757</th>\n",
       "      <td>456.292914</td>\n",
       "      <td>1788</td>\n",
       "      <td>0.099957</td>\n",
       "    </tr>\n",
       "    <tr>\n",
       "      <th>13300758</th>\n",
       "      <td>456.392928</td>\n",
       "      <td>1788</td>\n",
       "      <td>0.100014</td>\n",
       "    </tr>\n",
       "  </tbody>\n",
       "</table>\n",
       "<p>13300759 rows × 3 columns</p>\n",
       "</div>"
      ],
      "text/plain": [
       "                time   aid  time_diffs\n",
       "0           0.313438     6    0.210577\n",
       "1           1.307807     6    0.994369\n",
       "2           2.312546     6    1.004739\n",
       "3           3.316765     6    1.004219\n",
       "4           4.291507     6    0.974742\n",
       "...              ...   ...         ...\n",
       "13300754  455.992919  1788    0.099990\n",
       "13300755  456.092889  1788    0.099970\n",
       "13300756  456.192957  1788    0.100068\n",
       "13300757  456.292914  1788    0.099957\n",
       "13300758  456.392928  1788    0.100014\n",
       "\n",
       "[13300759 rows x 3 columns]"
      ]
     },
     "metadata": {},
     "output_type": "display_data"
    }
   ],
   "source": [
    "df_training = pd.read_csv(\"aggregated_training_data.csv\")\n",
    "display(df_training)\n",
    "\n",
    "# df_training = helper_functions.make_can_df(\"ambient_dyno_exercise_all_bits.log\") \n",
    "# df_training = helper_functions.make_can_df(\"ambient_dyno_drive_basic_long.log\") # Works well\n",
    "# df_training = helper_functions.add_time_diff_per_aid_col(df_training)"
   ]
  },
  {
   "cell_type": "markdown",
   "metadata": {},
   "source": [
    "## Train Model"
   ]
  },
  {
   "cell_type": "code",
   "execution_count": 14,
   "metadata": {},
   "outputs": [
    {
     "name": "stderr",
     "output_type": "stream",
     "text": [
      "  0%|          | 0/105 [00:00<?, ?it/s]"
     ]
    },
    {
     "name": "stdout",
     "output_type": "stream",
     "text": [
      "aid:  6\n",
      "before:  6340\n",
      "outliers:  1 0.015772870662460567\n",
      "after:  6339\n",
      "aid:  14\n",
      "before:  580454\n"
     ]
    },
    {
     "name": "stderr",
     "output_type": "stream",
     "text": [
      "  2%|▏         | 2/105 [00:01<00:59,  1.73it/s]"
     ]
    },
    {
     "name": "stdout",
     "output_type": "stream",
     "text": [
      "outliers:  59 0.010164457476389171\n",
      "after:  580395\n",
      "aid:  37\n",
      "before:  7656\n",
      "outliers:  1 0.013061650992685475\n",
      "after:  7655\n",
      "aid:  51\n",
      "before:  570718\n"
     ]
    },
    {
     "name": "stderr",
     "output_type": "stream",
     "text": [
      "  6%|▌         | 6/105 [00:02<00:34,  2.86it/s]"
     ]
    },
    {
     "name": "stdout",
     "output_type": "stream",
     "text": [
      "outliers:  58 0.010162637239407203\n",
      "after:  570660\n",
      "aid:  58\n",
      "before:  11572\n",
      "outliers:  2 0.017283097131005877\n",
      "after:  11570\n",
      "aid:  60\n",
      "before:  64264\n",
      "outliers:  7 0.010892568156355035\n",
      "after:  64257\n",
      "aid:  61\n"
     ]
    },
    {
     "name": "stderr",
     "output_type": "stream",
     "text": [
      "  7%|▋         | 7/105 [00:02<00:28,  3.39it/s]"
     ]
    },
    {
     "name": "stdout",
     "output_type": "stream",
     "text": [
      "before:  57860\n",
      "outliers:  6 0.010369858278603527\n",
      "after:  57854\n",
      "aid:  65\n",
      "before:  6441\n",
      "outliers:  1 0.01552553951249806\n",
      "after:  6440\n",
      "aid:  117\n",
      "before:  11569\n",
      "outliers:  2 0.017287578874578616\n",
      "after:  11567\n",
      "aid:  167\n",
      "before:  578687\n"
     ]
    },
    {
     "name": "stderr",
     "output_type": "stream",
     "text": [
      " 10%|▉         | 10/105 [00:03<00:31,  3.00it/s]"
     ]
    },
    {
     "name": "stdout",
     "output_type": "stream",
     "text": [
      "outliers:  58 0.010022689294903808\n",
      "after:  578629\n",
      "aid:  186\n",
      "before:  160636\n"
     ]
    },
    {
     "name": "stderr",
     "output_type": "stream",
     "text": [
      " 10%|█         | 11/105 [00:04<00:31,  3.03it/s]"
     ]
    },
    {
     "name": "stdout",
     "output_type": "stream",
     "text": [
      "outliers:  17 0.010582932841953236\n",
      "after:  160619\n",
      "aid:  192\n",
      "before:  285343\n"
     ]
    },
    {
     "name": "stderr",
     "output_type": "stream",
     "text": [
      " 11%|█▏        | 12/105 [00:04<00:34,  2.70it/s]"
     ]
    },
    {
     "name": "stdout",
     "output_type": "stream",
     "text": [
      "outliers:  29 0.01016320708761035\n",
      "after:  285314\n",
      "aid:  204\n",
      "before:  6419\n",
      "outliers:  1 0.015578750584203147\n",
      "after:  6418\n",
      "aid:  208\n",
      "before:  570727\n"
     ]
    },
    {
     "name": "stderr",
     "output_type": "stream",
     "text": [
      " 14%|█▍        | 15/105 [00:05<00:33,  2.72it/s]"
     ]
    },
    {
     "name": "stdout",
     "output_type": "stream",
     "text": [
      "outliers:  58 0.010162476981113562\n",
      "after:  570669\n",
      "aid:  215\n",
      "before:  57864\n",
      "outliers:  6 0.010369141435089175\n",
      "after:  57858\n",
      "aid:  241\n",
      "before:  12850\n",
      "outliers:  2 0.01556420233463035\n",
      "after:  12848\n",
      "aid:  244\n"
     ]
    },
    {
     "name": "stderr",
     "output_type": "stream",
     "text": [
      " 16%|█▌        | 17/105 [00:05<00:23,  3.82it/s]"
     ]
    },
    {
     "name": "stdout",
     "output_type": "stream",
     "text": [
      "before:  55588\n",
      "outliers:  6 0.010793696481254948\n",
      "after:  55582\n",
      "aid:  248\n",
      "before:  6338\n",
      "outliers:  1 0.015777847901546228\n",
      "after:  6337\n",
      "aid:  253\n",
      "before:  6418\n",
      "outliers:  1 0.015581177937052042\n",
      "after:  6417\n",
      "aid:  263\n",
      "before:  321288\n"
     ]
    },
    {
     "name": "stderr",
     "output_type": "stream",
     "text": [
      " 19%|█▉        | 20/105 [00:06<00:20,  4.20it/s]"
     ]
    },
    {
     "name": "stdout",
     "output_type": "stream",
     "text": [
      "outliers:  33 0.010271158586688579\n",
      "after:  321255\n",
      "aid:  293\n",
      "before:  556856\n"
     ]
    },
    {
     "name": "stderr",
     "output_type": "stream",
     "text": [
      " 22%|██▏       | 23/105 [00:07<00:22,  3.62it/s]"
     ]
    },
    {
     "name": "stdout",
     "output_type": "stream",
     "text": [
      "outliers:  56 0.010056459838809316\n",
      "after:  556800\n",
      "aid:  300\n",
      "before:  6329\n",
      "outliers:  1 0.015800284405119294\n",
      "after:  6328\n",
      "aid:  304\n",
      "before:  58041\n",
      "outliers:  6 0.010337520028945056\n",
      "after:  58035\n",
      "aid:  339\n",
      "before:  285366\n"
     ]
    },
    {
     "name": "stderr",
     "output_type": "stream",
     "text": [
      " 23%|██▎       | 24/105 [00:08<00:26,  3.11it/s]"
     ]
    },
    {
     "name": "stdout",
     "output_type": "stream",
     "text": [
      "outliers:  29 0.010162387950912162\n",
      "after:  285337\n",
      "aid:  354\n",
      "before:  289339\n"
     ]
    },
    {
     "name": "stderr",
     "output_type": "stream",
     "text": [
      " 24%|██▍       | 25/105 [00:08<00:29,  2.74it/s]"
     ]
    },
    {
     "name": "stdout",
     "output_type": "stream",
     "text": [
      "outliers:  29 0.01002284517469128\n",
      "after:  289310\n",
      "aid:  403\n",
      "before:  317809\n"
     ]
    },
    {
     "name": "stderr",
     "output_type": "stream",
     "text": [
      " 25%|██▍       | 26/105 [00:09<00:32,  2.42it/s]"
     ]
    },
    {
     "name": "stdout",
     "output_type": "stream",
     "text": [
      "outliers:  32 0.0100689407788955\n",
      "after:  317777\n",
      "aid:  412\n",
      "before:  285355\n"
     ]
    },
    {
     "name": "stderr",
     "output_type": "stream",
     "text": [
      " 29%|██▊       | 30/105 [00:09<00:17,  4.24it/s]"
     ]
    },
    {
     "name": "stdout",
     "output_type": "stream",
     "text": [
      "outliers:  29 0.01016277969546705\n",
      "after:  285326\n",
      "aid:  420\n",
      "before:  6499\n",
      "outliers:  1 0.015386982612709647\n",
      "after:  6498\n",
      "aid:  426\n",
      "before:  6339\n",
      "outliers:  1 0.015775358889414733\n",
      "after:  6338\n",
      "aid:  452\n",
      "before:  25704\n",
      "outliers:  3 0.011671335200746966\n",
      "after:  25701\n",
      "aid:  458\n",
      "before:  57859\n"
     ]
    },
    {
     "name": "stderr",
     "output_type": "stream",
     "text": [
      " 30%|███       | 32/105 [00:10<00:14,  5.06it/s]"
     ]
    },
    {
     "name": "stdout",
     "output_type": "stream",
     "text": [
      "outliers:  6 0.010370037504968977\n",
      "after:  57853\n",
      "aid:  470\n",
      "before:  64334\n",
      "outliers:  7 0.010880716262007647\n",
      "after:  64327\n",
      "aid:  485\n",
      "before:  6425\n",
      "outliers:  1 0.01556420233463035\n",
      "after:  6424\n",
      "aid:  519\n",
      "before:  64388\n"
     ]
    },
    {
     "name": "stderr",
     "output_type": "stream",
     "text": [
      " 32%|███▏      | 34/105 [00:10<00:10,  6.51it/s]"
     ]
    },
    {
     "name": "stdout",
     "output_type": "stream",
     "text": [
      "outliers:  7 0.010871590979685656\n",
      "after:  64381\n",
      "aid:  526\n",
      "before:  317809\n"
     ]
    },
    {
     "name": "stderr",
     "output_type": "stream",
     "text": [
      " 33%|███▎      | 35/105 [00:10<00:17,  4.08it/s]"
     ]
    },
    {
     "name": "stdout",
     "output_type": "stream",
     "text": [
      "outliers:  32 0.0100689407788955\n",
      "after:  317777\n",
      "aid:  541\n",
      "before:  6574\n",
      "outliers:  1 0.015211439002129602\n",
      "after:  6573\n",
      "aid:  560\n",
      "before:  317799\n"
     ]
    },
    {
     "name": "stderr",
     "output_type": "stream",
     "text": [
      " 36%|███▌      | 38/105 [00:11<00:16,  4.13it/s]"
     ]
    },
    {
     "name": "stdout",
     "output_type": "stream",
     "text": [
      "outliers:  32 0.010069257612516088\n",
      "after:  317767\n",
      "aid:  569\n",
      "before:  57867\n",
      "outliers:  6 0.010368603867489242\n",
      "after:  57861\n",
      "aid:  622\n",
      "before:  62900\n"
     ]
    },
    {
     "name": "stderr",
     "output_type": "stream",
     "text": [
      " 37%|███▋      | 39/105 [00:11<00:14,  4.64it/s]"
     ]
    },
    {
     "name": "stdout",
     "output_type": "stream",
     "text": [
      "outliers:  7 0.011128775834658187\n",
      "after:  62893\n",
      "aid:  627\n",
      "before:  6426\n",
      "outliers:  1 0.01556178026766262\n",
      "after:  6425\n",
      "aid:  628\n",
      "before:  285348\n"
     ]
    },
    {
     "name": "stderr",
     "output_type": "stream",
     "text": [
      " 39%|███▉      | 41/105 [00:12<00:15,  4.17it/s]"
     ]
    },
    {
     "name": "stdout",
     "output_type": "stream",
     "text": [
      "outliers:  29 0.01016302900318208\n",
      "after:  285319\n",
      "aid:  631\n",
      "before:  3850\n",
      "outliers:  1 0.025974025974025976\n",
      "after:  3849\n",
      "aid:  640\n",
      "before:  27983\n",
      "outliers:  3 0.010720794768252153\n",
      "after:  27980\n",
      "aid:  651\n",
      "before:  289339\n"
     ]
    },
    {
     "name": "stderr",
     "output_type": "stream",
     "text": [
      " 42%|████▏     | 44/105 [00:13<00:13,  4.47it/s]"
     ]
    },
    {
     "name": "stdout",
     "output_type": "stream",
     "text": [
      "outliers:  29 0.01002284517469128\n",
      "after:  289310\n",
      "aid:  661\n",
      "before:  190237\n"
     ]
    },
    {
     "name": "stderr",
     "output_type": "stream",
     "text": [
      " 45%|████▍     | 47/105 [00:13<00:11,  5.19it/s]"
     ]
    },
    {
     "name": "stdout",
     "output_type": "stream",
     "text": [
      "outliers:  20 0.010513201953352922\n",
      "after:  190217\n",
      "aid:  663\n",
      "before:  13432\n",
      "outliers:  2 0.014889815366289458\n",
      "after:  13430\n",
      "aid:  675\n",
      "before:  57867\n",
      "outliers:  6 0.010368603867489242\n",
      "after:  57861\n",
      "aid:  676\n",
      "before:  25692\n"
     ]
    },
    {
     "name": "stderr",
     "output_type": "stream",
     "text": [
      " 48%|████▊     | 50/105 [00:13<00:07,  6.93it/s]"
     ]
    },
    {
     "name": "stdout",
     "output_type": "stream",
     "text": [
      "outliers:  3 0.011676786548341896\n",
      "after:  25689\n",
      "aid:  683\n",
      "before:  6328\n",
      "outliers:  1 0.01580278128950695\n",
      "after:  6327\n",
      "aid:  692\n",
      "before:  68404\n",
      "outliers:  7 0.010233319688907082\n",
      "after:  68397\n",
      "aid:  695\n",
      "before:  6351\n"
     ]
    },
    {
     "name": "stderr",
     "output_type": "stream",
     "text": [
      " 50%|████▉     | 52/105 [00:13<00:06,  8.06it/s]"
     ]
    },
    {
     "name": "stdout",
     "output_type": "stream",
     "text": [
      "outliers:  1 0.01574555188159345\n",
      "after:  6350\n",
      "aid:  705\n",
      "before:  53033\n",
      "outliers:  6 0.011313710331303151\n",
      "after:  53027\n",
      "aid:  722\n",
      "before:  57854\n"
     ]
    },
    {
     "name": "stderr",
     "output_type": "stream",
     "text": [
      " 51%|█████▏    | 54/105 [00:14<00:06,  8.12it/s]"
     ]
    },
    {
     "name": "stdout",
     "output_type": "stream",
     "text": [
      "outliers:  6 0.010370933729733467\n",
      "after:  57848\n",
      "aid:  727\n",
      "before:  57066\n",
      "outliers:  6 0.010514141520344864\n",
      "after:  57060\n",
      "aid:  737\n",
      "before:  289349\n"
     ]
    },
    {
     "name": "stderr",
     "output_type": "stream",
     "text": [
      " 53%|█████▎    | 56/105 [00:14<00:08,  5.63it/s]"
     ]
    },
    {
     "name": "stdout",
     "output_type": "stream",
     "text": [
      "outliers:  29 0.010022498781747992\n",
      "after:  289320\n",
      "aid:  738\n",
      "before:  58043\n",
      "outliers:  6 0.010337163826818048\n",
      "after:  58037\n",
      "aid:  778\n",
      "before:  12193\n",
      "outliers:  2 0.01640285409661281\n",
      "after:  12191\n",
      "aid:  813\n",
      "before:  128516\n"
     ]
    },
    {
     "name": "stderr",
     "output_type": "stream",
     "text": [
      " 56%|█████▌    | 59/105 [00:15<00:07,  6.38it/s]"
     ]
    },
    {
     "name": "stdout",
     "output_type": "stream",
     "text": [
      "outliers:  13 0.010115472003485948\n",
      "after:  128503\n",
      "aid:  837\n",
      "before:  58043\n",
      "outliers:  6 0.010337163826818048\n",
      "after:  58037\n",
      "aid:  852\n",
      "before:  578696\n"
     ]
    },
    {
     "name": "stderr",
     "output_type": "stream",
     "text": [
      " 57%|█████▋    | 60/105 [00:16<00:16,  2.78it/s]"
     ]
    },
    {
     "name": "stdout",
     "output_type": "stream",
     "text": [
      "outliers:  58 0.010022533419964886\n",
      "after:  578638\n",
      "aid:  870\n",
      "before:  317804\n"
     ]
    },
    {
     "name": "stderr",
     "output_type": "stream",
     "text": [
      " 58%|█████▊    | 61/105 [00:16<00:18,  2.42it/s]"
     ]
    },
    {
     "name": "stdout",
     "output_type": "stream",
     "text": [
      "outliers:  32 0.010069099193213428\n",
      "after:  317772\n",
      "aid:  881\n",
      "before:  6493\n",
      "outliers:  1 0.015401201293700909\n",
      "after:  6492\n",
      "aid:  930\n",
      "before:  3852\n",
      "outliers:  1 0.02596053997923157\n",
      "after:  3851\n",
      "aid:  953\n",
      "before:  6322\n",
      "outliers:  1 0.015817779183802595\n",
      "after:  6321\n",
      "aid:  961\n",
      "before:  222705\n"
     ]
    },
    {
     "name": "stderr",
     "output_type": "stream",
     "text": [
      " 63%|██████▎   | 66/105 [00:17<00:08,  4.43it/s]"
     ]
    },
    {
     "name": "stdout",
     "output_type": "stream",
     "text": [
      "outliers:  23 0.010327563368581757\n",
      "after:  222682\n",
      "aid:  996\n",
      "before:  57056\n",
      "outliers:  6 0.010515984296130118\n",
      "after:  57050\n",
      "aid:  1031\n",
      "before:  57855\n"
     ]
    },
    {
     "name": "stderr",
     "output_type": "stream",
     "text": [
      " 66%|██████▌   | 69/105 [00:17<00:05,  6.18it/s]"
     ]
    },
    {
     "name": "stdout",
     "output_type": "stream",
     "text": [
      "outliers:  6 0.010370754472387866\n",
      "after:  57849\n",
      "aid:  1049\n",
      "before:  12553\n",
      "outliers:  2 0.01593244642714889\n",
      "after:  12551\n",
      "aid:  1072\n",
      "before:  58043\n",
      "outliers:  6 0.010337163826818048\n",
      "after:  58037\n",
      "aid:  1076\n",
      "before:  317804\n"
     ]
    },
    {
     "name": "stderr",
     "output_type": "stream",
     "text": [
      " 68%|██████▊   | 71/105 [00:18<00:07,  4.50it/s]"
     ]
    },
    {
     "name": "stdout",
     "output_type": "stream",
     "text": [
      "outliers:  32 0.010069099193213428\n",
      "after:  317772\n",
      "aid:  1124\n",
      "before:  63556\n",
      "outliers:  7 0.011013908993643401\n",
      "after:  63549\n",
      "aid:  1175\n",
      "before:  57855\n"
     ]
    },
    {
     "name": "stderr",
     "output_type": "stream",
     "text": [
      " 69%|██████▊   | 72/105 [00:18<00:06,  5.01it/s]"
     ]
    },
    {
     "name": "stdout",
     "output_type": "stream",
     "text": [
      "outliers:  6 0.010370754472387866\n",
      "after:  57849\n",
      "aid:  1176\n",
      "before:  317799\n"
     ]
    },
    {
     "name": "stderr",
     "output_type": "stream",
     "text": [
      " 70%|███████   | 74/105 [00:19<00:07,  3.96it/s]"
     ]
    },
    {
     "name": "stdout",
     "output_type": "stream",
     "text": [
      "outliers:  32 0.010069257612516088\n",
      "after:  317767\n",
      "aid:  1225\n",
      "before:  64340\n",
      "outliers:  7 0.010879701585327946\n",
      "after:  64333\n",
      "aid:  1227\n",
      "before:  27825\n"
     ]
    },
    {
     "name": "stderr",
     "output_type": "stream",
     "text": [
      " 72%|███████▏  | 76/105 [00:19<00:05,  5.41it/s]"
     ]
    },
    {
     "name": "stdout",
     "output_type": "stream",
     "text": [
      "outliers:  3 0.01078167115902965\n",
      "after:  27822\n",
      "aid:  1255\n",
      "before:  57069\n",
      "outliers:  6 0.010513588813541502\n",
      "after:  57063\n",
      "aid:  1262\n",
      "before:  5785\n",
      "outliers:  1 0.01728608470181504\n",
      "after:  5784\n",
      "aid:  1277\n",
      "before:  115725\n"
     ]
    },
    {
     "name": "stderr",
     "output_type": "stream",
     "text": [
      " 74%|███████▍  | 78/105 [00:19<00:04,  6.14it/s]"
     ]
    },
    {
     "name": "stdout",
     "output_type": "stream",
     "text": [
      "outliers:  12 0.010369410239792612\n",
      "after:  115713\n",
      "aid:  1307\n",
      "before:  32121\n",
      "outliers:  4 0.012452912424893372\n",
      "after:  32117\n",
      "aid:  1314\n",
      "before:  317805\n"
     ]
    },
    {
     "name": "stderr",
     "output_type": "stream",
     "text": [
      " 78%|███████▊  | 82/105 [00:20<00:03,  5.94it/s]"
     ]
    },
    {
     "name": "stdout",
     "output_type": "stream",
     "text": [
      "outliers:  32 0.01006906750995107\n",
      "after:  317773\n",
      "aid:  1331\n",
      "before:  11921\n",
      "outliers:  2 0.016777116013757237\n",
      "after:  11919\n",
      "aid:  1372\n",
      "before:  38577\n",
      "outliers:  4 0.010368872644321746\n",
      "after:  38573\n",
      "aid:  1398\n",
      "before:  6348\n",
      "outliers:  1 0.01575299306868305\n",
      "after:  6347\n",
      "aid:  1399\n",
      "before:  114129\n"
     ]
    },
    {
     "name": "stderr",
     "output_type": "stream",
     "text": [
      " 80%|████████  | 84/105 [00:20<00:03,  6.43it/s]"
     ]
    },
    {
     "name": "stdout",
     "output_type": "stream",
     "text": [
      "outliers:  12 0.010514417895539259\n",
      "after:  114117\n",
      "aid:  1408\n",
      "before:  317804\n"
     ]
    },
    {
     "name": "stderr",
     "output_type": "stream",
     "text": [
      " 82%|████████▏ | 86/105 [00:21<00:04,  4.54it/s]"
     ]
    },
    {
     "name": "stdout",
     "output_type": "stream",
     "text": [
      "outliers:  32 0.010069099193213428\n",
      "after:  317772\n",
      "aid:  1413\n",
      "before:  63809\n",
      "outliers:  7 0.010970239307934617\n",
      "after:  63802\n",
      "aid:  1455\n",
      "before:  7099\n",
      "outliers:  1 0.01408649105507818\n",
      "after:  7098\n",
      "aid:  1459\n",
      "before:  63284\n"
     ]
    },
    {
     "name": "stderr",
     "output_type": "stream",
     "text": [
      " 84%|████████▍ | 88/105 [00:21<00:02,  5.91it/s]"
     ]
    },
    {
     "name": "stdout",
     "output_type": "stream",
     "text": [
      "outliers:  7 0.011061247708741546\n",
      "after:  63277\n",
      "aid:  1505\n",
      "before:  578695\n"
     ]
    },
    {
     "name": "stderr",
     "output_type": "stream",
     "text": [
      " 85%|████████▍ | 89/105 [00:22<00:05,  2.82it/s]"
     ]
    },
    {
     "name": "stdout",
     "output_type": "stream",
     "text": [
      "outliers:  58 0.010022550739163118\n",
      "after:  578637\n",
      "aid:  1512\n",
      "before:  5785\n",
      "outliers:  1 0.01728608470181504\n",
      "after:  5784\n",
      "aid:  1533\n",
      "before:  7122\n",
      "outliers:  1 0.014040999719180006\n",
      "after:  7121\n",
      "aid:  1560\n",
      "before:  5804\n",
      "outliers:  1 0.01722949689869056\n",
      "after:  5803\n",
      "aid:  1590\n",
      "before:  57066\n"
     ]
    },
    {
     "name": "stderr",
     "output_type": "stream",
     "text": [
      " 90%|█████████ | 95/105 [00:23<00:01,  6.33it/s]"
     ]
    },
    {
     "name": "stdout",
     "output_type": "stream",
     "text": [
      "outliers:  6 0.010514141520344864\n",
      "after:  57060\n",
      "aid:  1621\n",
      "before:  6423\n",
      "outliers:  1 0.015569048731122529\n",
      "after:  6422\n",
      "aid:  1628\n",
      "before:  57055\n",
      "outliers:  6 0.010516168609236702\n",
      "after:  57049\n",
      "aid:  1634\n",
      "before:  285360\n"
     ]
    },
    {
     "name": "stderr",
     "output_type": "stream",
     "text": [
      " 92%|█████████▏| 97/105 [00:23<00:01,  4.82it/s]"
     ]
    },
    {
     "name": "stdout",
     "output_type": "stream",
     "text": [
      "outliers:  29 0.01016260162601626\n",
      "after:  285331\n",
      "aid:  1644\n",
      "before:  58101\n",
      "outliers:  6 0.010326844632622503\n",
      "after:  58095\n",
      "aid:  1649\n",
      "before:  657\n",
      "outliers:  1 0.15220700152207\n",
      "after:  656\n",
      "aid:  1661\n",
      "before:  7578\n",
      "outliers:  1 0.013196093956188967\n",
      "after:  7577\n",
      "aid:  1668\n",
      "before:  57067\n"
     ]
    },
    {
     "name": "stderr",
     "output_type": "stream",
     "text": [
      " 95%|█████████▌| 100/105 [00:24<00:00,  6.61it/s]"
     ]
    },
    {
     "name": "stdout",
     "output_type": "stream",
     "text": [
      "outliers:  6 0.010513957278286926\n",
      "after:  57061\n",
      "aid:  1693\n",
      "before:  5786\n",
      "outliers:  1 0.017283097131005877\n",
      "after:  5785\n",
      "aid:  1694\n",
      "before:  278431\n"
     ]
    },
    {
     "name": "stderr",
     "output_type": "stream",
     "text": [
      " 97%|█████████▋| 102/105 [00:24<00:00,  5.43it/s]"
     ]
    },
    {
     "name": "stdout",
     "output_type": "stream",
     "text": [
      "outliers:  28 0.010056351483850577\n",
      "after:  278403\n",
      "aid:  1751\n",
      "before:  6329\n",
      "outliers:  1 0.015800284405119294\n",
      "after:  6328\n",
      "aid:  1760\n",
      "before:  635620\n"
     ]
    },
    {
     "name": "stderr",
     "output_type": "stream",
     "text": [
      "100%|██████████| 105/105 [00:25<00:00,  4.05it/s]"
     ]
    },
    {
     "name": "stdout",
     "output_type": "stream",
     "text": [
      "outliers:  64 0.010068909096630062\n",
      "after:  635556\n",
      "aid:  1788\n",
      "before:  57868\n",
      "outliers:  6 0.01036842469067533\n",
      "after:  57862\n"
     ]
    },
    {
     "name": "stderr",
     "output_type": "stream",
     "text": [
      "\n"
     ]
    }
   ],
   "source": [
    "reload(helper_functions)\n",
    "\n",
    "# Begin training on this dataset\n",
    "# training_dict has aids as keys and dictionaries containing mu, std, kde, and gaussian as items\n",
    "training_dict = {}\n",
    "#cc = 0\n",
    "for aid in tqdm(df_training.aid.unique()):\n",
    "    #cc += 1\n",
    "    #print (f'aid {cc} of 128')\n",
    "    print(\"aid: \", aid)\n",
    "    \n",
    "    training_dict[aid] = helper_functions.train(df_training, aid)\n",
    "    training_dict[aid][\"y_thresholds_kde\"] = {}\n",
    "    training_dict[aid][\"y_thresholds_gauss\"] = {}\n",
    "    \n",
    "    #print(\"\\n\")\n"
   ]
  },
  {
   "cell_type": "code",
   "execution_count": 16,
   "metadata": {},
   "outputs": [],
   "source": [
    "#display(training_dict)"
   ]
  },
  {
   "cell_type": "markdown",
   "metadata": {},
   "source": [
    "## Testing Data"
   ]
  },
  {
   "cell_type": "markdown",
   "metadata": {},
   "source": [
    "Here we exclude accelerator and masquerade attacks as well as the metadata file. Accelerator and masquerade attacjs are betond the scope of time-based detection methods."
   ]
  },
  {
   "cell_type": "code",
   "execution_count": 18,
   "metadata": {},
   "outputs": [
    {
     "name": "stdout",
     "output_type": "stream",
     "text": [
      "/Users/8a6/Documents/Research/Projects/CAN/detect/autosec-analysis/data/attacks\n"
     ]
    }
   ],
   "source": [
    "os.chdir(os.path.dirname(os.getcwd()) + \"/attacks\")\n",
    "print(os.getcwd())"
   ]
  },
  {
   "cell_type": "code",
   "execution_count": 21,
   "metadata": {},
   "outputs": [
    {
     "name": "stdout",
     "output_type": "stream",
     "text": [
      "correlated_signal_attack_1.log\n",
      "correlated_signal_attack_3.log\n",
      "correlated_signal_attack_2.log\n",
      "reverse_light_off_attack_1.log\n",
      "max_speedometer_attack_1.log\n",
      "reverse_light_off_attack_2.log\n",
      "max_speedometer_attack_3.log\n",
      "max_speedometer_attack_2.log\n",
      "reverse_light_off_attack_3.log\n",
      "max_engine_coolant_temp_attack.log\n",
      "fuzzing_attack_3.log\n",
      "fuzzing_attack_2.log\n",
      "fuzzing_attack_1.log\n",
      "reverse_light_on_attack_2.log\n",
      "reverse_light_on_attack_3.log\n",
      "reverse_light_on_attack_1.log\n",
      "16\n"
     ]
    }
   ],
   "source": [
    "df_aggregation = []\n",
    "\n",
    "for file_name in os.listdir(\".\"):\n",
    "    \n",
    "    if \"masquerade\" not in file_name and \"accelerator\" not in file_name and \"metadata\" not in file_name:\n",
    "        print(file_name)\n",
    "        \n",
    "        df_attack = helper_functions.make_can_df(file_name)\n",
    "        df_attack = helper_functions.add_time_diff_per_aid_col(df_attack)\n",
    "        # print(df_attack.shape)\n",
    "        # print(df.dtypes)\n",
    "        df_aggregation.append(df_attack)\n",
    "        \n",
    "print(len(df_aggregation))"
   ]
  },
  {
   "cell_type": "code",
   "execution_count": 23,
   "metadata": {},
   "outputs": [
    {
     "data": {
      "text/html": [
       "<div>\n",
       "<style scoped>\n",
       "    .dataframe tbody tr th:only-of-type {\n",
       "        vertical-align: middle;\n",
       "    }\n",
       "\n",
       "    .dataframe tbody tr th {\n",
       "        vertical-align: top;\n",
       "    }\n",
       "\n",
       "    .dataframe thead th {\n",
       "        text-align: right;\n",
       "    }\n",
       "</style>\n",
       "<table border=\"1\" class=\"dataframe\">\n",
       "  <thead>\n",
       "    <tr style=\"text-align: right;\">\n",
       "      <th></th>\n",
       "      <th>time</th>\n",
       "      <th>aid</th>\n",
       "      <th>data</th>\n",
       "      <th>time_diffs</th>\n",
       "    </tr>\n",
       "  </thead>\n",
       "  <tbody>\n",
       "    <tr>\n",
       "      <th>3873</th>\n",
       "      <td>1.618163</td>\n",
       "      <td>6</td>\n",
       "      <td>0800006400000000</td>\n",
       "      <td>0.999845</td>\n",
       "    </tr>\n",
       "    <tr>\n",
       "      <th>6266</th>\n",
       "      <td>2.618064</td>\n",
       "      <td>6</td>\n",
       "      <td>0800006400000000</td>\n",
       "      <td>0.999901</td>\n",
       "    </tr>\n",
       "    <tr>\n",
       "      <th>8655</th>\n",
       "      <td>3.617806</td>\n",
       "      <td>6</td>\n",
       "      <td>0800006400000000</td>\n",
       "      <td>0.999742</td>\n",
       "    </tr>\n",
       "    <tr>\n",
       "      <th>11049</th>\n",
       "      <td>4.617810</td>\n",
       "      <td>6</td>\n",
       "      <td>0800006400000000</td>\n",
       "      <td>1.000004</td>\n",
       "    </tr>\n",
       "    <tr>\n",
       "      <th>13441</th>\n",
       "      <td>5.618164</td>\n",
       "      <td>6</td>\n",
       "      <td>0800006400000000</td>\n",
       "      <td>1.000354</td>\n",
       "    </tr>\n",
       "    <tr>\n",
       "      <th>...</th>\n",
       "      <td>...</td>\n",
       "      <td>...</td>\n",
       "      <td>...</td>\n",
       "      <td>...</td>\n",
       "    </tr>\n",
       "    <tr>\n",
       "      <th>80160</th>\n",
       "      <td>32.636582</td>\n",
       "      <td>1788</td>\n",
       "      <td>00000738D2B85800</td>\n",
       "      <td>0.099969</td>\n",
       "    </tr>\n",
       "    <tr>\n",
       "      <th>80402</th>\n",
       "      <td>32.736450</td>\n",
       "      <td>1788</td>\n",
       "      <td>0000073732B86000</td>\n",
       "      <td>0.099868</td>\n",
       "    </tr>\n",
       "    <tr>\n",
       "      <th>80641</th>\n",
       "      <td>32.836612</td>\n",
       "      <td>1788</td>\n",
       "      <td>0000073892B86800</td>\n",
       "      <td>0.100162</td>\n",
       "    </tr>\n",
       "    <tr>\n",
       "      <th>80874</th>\n",
       "      <td>32.936532</td>\n",
       "      <td>1788</td>\n",
       "      <td>00000737B2B87000</td>\n",
       "      <td>0.099920</td>\n",
       "    </tr>\n",
       "    <tr>\n",
       "      <th>81111</th>\n",
       "      <td>33.036464</td>\n",
       "      <td>1788</td>\n",
       "      <td>00000738B2B87800</td>\n",
       "      <td>0.099932</td>\n",
       "    </tr>\n",
       "  </tbody>\n",
       "</table>\n",
       "<p>76131 rows × 4 columns</p>\n",
       "</div>"
      ],
      "text/plain": [
       "            time   aid              data  time_diffs\n",
       "3873    1.618163     6  0800006400000000    0.999845\n",
       "6266    2.618064     6  0800006400000000    0.999901\n",
       "8655    3.617806     6  0800006400000000    0.999742\n",
       "11049   4.617810     6  0800006400000000    1.000004\n",
       "13441   5.618164     6  0800006400000000    1.000354\n",
       "...          ...   ...               ...         ...\n",
       "80160  32.636582  1788  00000738D2B85800    0.099969\n",
       "80402  32.736450  1788  0000073732B86000    0.099868\n",
       "80641  32.836612  1788  0000073892B86800    0.100162\n",
       "80874  32.936532  1788  00000737B2B87000    0.099920\n",
       "81111  33.036464  1788  00000738B2B87800    0.099932\n",
       "\n",
       "[76131 rows x 4 columns]"
      ]
     },
     "metadata": {},
     "output_type": "display_data"
    }
   ],
   "source": [
    "display(df_aggregation[0])"
   ]
  },
  {
   "cell_type": "markdown",
   "metadata": {},
   "source": [
    "## Find Injection Intervals"
   ]
  },
  {
   "cell_type": "markdown",
   "metadata": {},
   "source": [
    "Here we extract the injection interval of each attack."
   ]
  },
  {
   "cell_type": "code",
   "execution_count": 26,
   "metadata": {},
   "outputs": [
    {
     "name": "stdout",
     "output_type": "stream",
     "text": [
      "0 correlated_signal_attack_1.log\n",
      "0x6e0 1760\n",
      "1 correlated_signal_attack_3.log\n",
      "0x6e0 1760\n",
      "2 correlated_signal_attack_2.log\n",
      "0x6e0 1760\n",
      "3 reverse_light_off_attack_1.log\n",
      "0xd0 208\n",
      "4 max_speedometer_attack_1.log\n",
      "0xd0 208\n",
      "5 reverse_light_off_attack_2.log\n",
      "0xd0 208\n",
      "6 max_speedometer_attack_3.log\n",
      "0xd0 208\n",
      "7 max_speedometer_attack_2.log\n",
      "0xd0 208\n",
      "8 reverse_light_off_attack_3.log\n",
      "0xd0 208\n",
      "9 max_engine_coolant_temp_attack.log\n",
      "0x4e7 1255\n",
      "10 fuzzing_attack_3.log\n",
      "XXX\n",
      "11 fuzzing_attack_2.log\n",
      "XXX\n",
      "12 fuzzing_attack_1.log\n",
      "XXX\n",
      "13 reverse_light_on_attack_2.log\n",
      "0xd0 208\n",
      "14 reverse_light_on_attack_3.log\n",
      "0xd0 208\n",
      "15 reverse_light_on_attack_1.log\n",
      "0xd0 208\n"
     ]
    }
   ],
   "source": [
    "reload(helper_functions)\n",
    "\n",
    "with open(\"capture_metadata.json\", \"r\") as read_file:\n",
    "    attack_dict = json.load(read_file)\n",
    "\n",
    "attack_metadata = []\n",
    "\n",
    "count = 0\n",
    "for file_name in os.listdir(\".\"):\n",
    "    \n",
    "    if \"masquerade\" not in file_name and \"accelerator\" not in file_name and \"metadata\" not in file_name:\n",
    "        print(count, file_name)\n",
    "        \n",
    "        if attack_dict[file_name[:-4]][\"injection_id\"] != \"XXX\":\n",
    "            print(attack_dict[file_name[:-4]][\"injection_id\"], int(attack_dict[file_name[:-4]][\"injection_id\"], 16))\n",
    "        else:\n",
    "            print(attack_dict[file_name[:-4]][\"injection_id\"])\n",
    "        \n",
    "        # print(attack_dict[file_name[:-4]][\"injection_id\"], int(attack_dict[file_name[:-4]][\"injection_id\"], 16))\n",
    "        \n",
    "        # attack_metadata.append(helper_functions.get_injection_interval(df_aggregation[count], int(attack_dict[file_name[:-4]][\"injection_id\"], 16),\n",
    "        #                                                              attack_dict[file_name[:-4]][\"injection_data_str\"]))\n",
    "        \n",
    "        # From metadata file\n",
    "        attack_metadata.append([tuple(attack_dict[file_name[:-4]][\"injection_interval\"])])\n",
    "            \n",
    "        count += 1"
   ]
  },
  {
   "cell_type": "markdown",
   "metadata": {},
   "source": [
    "## Inspect Injection Intervals"
   ]
  },
  {
   "cell_type": "markdown",
   "metadata": {},
   "source": [
    "Check if injection intervals are consisten with the metadata file"
   ]
  },
  {
   "cell_type": "code",
   "execution_count": 27,
   "metadata": {},
   "outputs": [
    {
     "name": "stdout",
     "output_type": "stream",
     "text": [
      "correlated_signal_attack_1.log\n",
      "[(9.191851, 30.050109)]\n",
      "\n",
      "\n",
      "correlated_signal_attack_3.log\n",
      "[(4.318482, 16.95706)]\n",
      "\n",
      "\n",
      "correlated_signal_attack_2.log\n",
      "[(6.830477, 28.225908)]\n",
      "\n",
      "\n",
      "reverse_light_off_attack_1.log\n",
      "[(16.627923, 23.347311)]\n",
      "\n",
      "\n",
      "max_speedometer_attack_1.log\n",
      "[(42.009204, 66.449011)]\n",
      "\n",
      "\n",
      "reverse_light_off_attack_2.log\n",
      "[(13.168608, 36.87663)]\n",
      "\n",
      "\n",
      "max_speedometer_attack_3.log\n",
      "[(9.516489, 70.587285)]\n",
      "\n",
      "\n",
      "max_speedometer_attack_2.log\n",
      "[(16.009225, 47.408246)]\n",
      "\n",
      "\n",
      "reverse_light_off_attack_3.log\n",
      "[(16.524085, 40.862015)]\n",
      "\n",
      "\n",
      "max_engine_coolant_temp_attack.log\n",
      "[(19.979078, 24.170183)]\n",
      "\n",
      "\n",
      "fuzzing_attack_3.log\n",
      "[(4.824447, 5.470669)]\n",
      "\n",
      "\n",
      "fuzzing_attack_2.log\n",
      "[(11.367798, 13.346811)]\n",
      "\n",
      "\n",
      "fuzzing_attack_1.log\n",
      "[(4.622975, 7.958234)]\n",
      "\n",
      "\n",
      "reverse_light_on_attack_2.log\n",
      "[(20.407134, 57.297253)]\n",
      "\n",
      "\n",
      "reverse_light_on_attack_3.log\n",
      "[(23.070278, 46.580686)]\n",
      "\n",
      "\n",
      "reverse_light_on_attack_1.log\n",
      "[(18.929177, 38.836015)]\n",
      "\n",
      "\n"
     ]
    }
   ],
   "source": [
    "count = 0\n",
    "for file_name in os.listdir(\".\"):\n",
    "    \n",
    "    if \"masquerade\" not in file_name and \"accelerator\" not in file_name and \"metadata\" not in file_name:\n",
    "    \n",
    "        print(file_name)\n",
    "        print(attack_metadata[count])\n",
    "        print(\"\\n\")\n",
    "        count += 1"
   ]
  },
  {
   "cell_type": "markdown",
   "metadata": {},
   "source": [
    "## Annotate Attack DataFrames with Attacks"
   ]
  },
  {
   "cell_type": "markdown",
   "metadata": {},
   "source": [
    "Here we label each of the attack files based on the injection interval"
   ]
  },
  {
   "cell_type": "code",
   "execution_count": 28,
   "metadata": {},
   "outputs": [
    {
     "name": "stdout",
     "output_type": "stream",
     "text": [
      "0 correlated_signal_attack_1.log\n",
      "0x6e0\n",
      "1 correlated_signal_attack_3.log\n",
      "0x6e0\n",
      "2 correlated_signal_attack_2.log\n",
      "0x6e0\n",
      "3 reverse_light_off_attack_1.log\n",
      "0xd0\n",
      "4 max_speedometer_attack_1.log\n",
      "0xd0\n",
      "5 reverse_light_off_attack_2.log\n",
      "0xd0\n",
      "6 max_speedometer_attack_3.log\n",
      "0xd0\n",
      "7 max_speedometer_attack_2.log\n",
      "0xd0\n",
      "8 reverse_light_off_attack_3.log\n",
      "0xd0\n",
      "9 max_engine_coolant_temp_attack.log\n",
      "0x4e7\n",
      "10 fuzzing_attack_3.log\n",
      "XXX\n",
      "11 fuzzing_attack_2.log\n",
      "XXX\n",
      "12 fuzzing_attack_1.log\n",
      "XXX\n",
      "13 reverse_light_on_attack_2.log\n",
      "0xd0\n",
      "14 reverse_light_on_attack_3.log\n",
      "0xd0\n",
      "15 reverse_light_on_attack_1.log\n",
      "0xd0\n"
     ]
    }
   ],
   "source": [
    "reload(helper_functions)\n",
    "\n",
    "with open(\"capture_metadata.json\", \"r\") as read_file:\n",
    "    attack_dict = json.load(read_file)\n",
    "\n",
    "count = 0\n",
    "for file_name in os.listdir(\".\"):\n",
    "    \n",
    "    if \"masquerade\" not in file_name and \"accelerator\" not in file_name and \"metadata\" not in file_name:\n",
    "        print(count, file_name)\n",
    "        \n",
    "        print(attack_dict[file_name[:-4]][\"injection_id\"]) #, int(attack_dict[file_name[:-4]][\"injection_id\"], 16))#, attack_dict[file_name[:-4]][\"injection_data_str\"])\n",
    "        \n",
    "        # Add column to each attack dataframe to indicate attack (True) or non-attack (False) for each signal\n",
    "        \n",
    "        if attack_dict[file_name[:-4]][\"injection_id\"] != \"XXX\":\n",
    "            df_aggregation[count] = helper_functions.add_actual_attack_col(df_aggregation[count], attack_metadata[count], int(attack_dict[file_name[:-4]][\"injection_id\"], 16), attack_dict[file_name[:-4]][\"injection_data_str\"])                                                      \n",
    "        else:\n",
    "            df_aggregation[count] = helper_functions.add_actual_attack_col(df_aggregation[count], attack_metadata[count], \"XXX\", attack_dict[file_name[:-4]][\"injection_data_str\"])  \n",
    "            \n",
    "        count += 1"
   ]
  },
  {
   "cell_type": "markdown",
   "metadata": {},
   "source": [
    "## Time-Based Detector Methods Results"
   ]
  },
  {
   "cell_type": "markdown",
   "metadata": {},
   "source": [
    "To replicate the results of each of the methods presented in the paper, please run the respective method and save a `pickle` file with the corresponding results. Then you will have the option to reload the results file and replicate the figures of the paper. "
   ]
  },
  {
   "cell_type": "markdown",
   "metadata": {},
   "source": [
    "## Method 1: Mean"
   ]
  },
  {
   "cell_type": "code",
   "execution_count": 29,
   "metadata": {},
   "outputs": [
    {
     "data": {
      "text/plain": [
       "'/Users/8a6/Documents/Research/Projects/CAN/detect/autosec-analysis/data'"
      ]
     },
     "execution_count": 29,
     "metadata": {},
     "output_type": "execute_result"
    }
   ],
   "source": [
    "os.path.dirname(os.getcwd())"
   ]
  },
  {
   "cell_type": "code",
   "execution_count": 18,
   "metadata": {},
   "outputs": [],
   "source": [
    "reload(helper_functions)\n",
    "\n",
    "# # Generate results\n",
    "# helper_functions.get_results_mean(df_aggregation, training_dict) # 35 seconds\n",
    "\n",
    "# helper_functions.get_results_mean_various_p(df_aggregation, training_dict)\n",
    "\n",
    "results_mean_final = helper_functions.unpickle(os.path.dirname(os.getcwd()) + \"/results_mean_final.pkl\") "
   ]
  },
  {
   "cell_type": "markdown",
   "metadata": {},
   "source": [
    "## Get Deeper on Mean"
   ]
  },
  {
   "cell_type": "code",
   "execution_count": 17,
   "metadata": {},
   "outputs": [
    {
     "ename": "AttributeError",
     "evalue": "'DataFrame' object has no attribute 'alert_window'",
     "output_type": "error",
     "traceback": [
      "\u001b[0;31m---------------------------------------------------------------------------\u001b[0m",
      "\u001b[0;31mAttributeError\u001b[0m                            Traceback (most recent call last)",
      "\u001b[0;32m<ipython-input-17-d206a52014c3>\u001b[0m in \u001b[0;36m<module>\u001b[0;34m\u001b[0m\n\u001b[1;32m      1\u001b[0m \u001b[0mdf_aux\u001b[0m \u001b[0;34m=\u001b[0m \u001b[0mdf_aggregation\u001b[0m\u001b[0;34m[\u001b[0m\u001b[0;36m0\u001b[0m\u001b[0;34m]\u001b[0m\u001b[0;34m\u001b[0m\u001b[0;34m\u001b[0m\u001b[0m\n\u001b[1;32m      2\u001b[0m \u001b[0;34m\u001b[0m\u001b[0m\n\u001b[0;32m----> 3\u001b[0;31m \u001b[0mdf_aux\u001b[0m \u001b[0;34m=\u001b[0m \u001b[0mdf_aux\u001b[0m\u001b[0;34m[\u001b[0m\u001b[0mdf_aux\u001b[0m\u001b[0;34m.\u001b[0m\u001b[0malert_window\u001b[0m \u001b[0;34m==\u001b[0m \u001b[0;32mTrue\u001b[0m\u001b[0;34m]\u001b[0m\u001b[0;34m\u001b[0m\u001b[0;34m\u001b[0m\u001b[0m\n\u001b[0m\u001b[1;32m      4\u001b[0m \u001b[0mprint\u001b[0m\u001b[0;34m(\u001b[0m\u001b[0mdf_aux\u001b[0m\u001b[0;34m.\u001b[0m\u001b[0maid\u001b[0m\u001b[0;34m.\u001b[0m\u001b[0munique\u001b[0m\u001b[0;34m(\u001b[0m\u001b[0;34m)\u001b[0m\u001b[0;34m)\u001b[0m\u001b[0;34m\u001b[0m\u001b[0;34m\u001b[0m\u001b[0m\n\u001b[1;32m      5\u001b[0m \u001b[0;34m\u001b[0m\u001b[0m\n",
      "\u001b[0;32m~/Documents/Research/CAN/detect/env/lib/python3.6/site-packages/pandas/core/generic.py\u001b[0m in \u001b[0;36m__getattr__\u001b[0;34m(self, name)\u001b[0m\n\u001b[1;32m   5137\u001b[0m             \u001b[0;32mif\u001b[0m \u001b[0mself\u001b[0m\u001b[0;34m.\u001b[0m\u001b[0m_info_axis\u001b[0m\u001b[0;34m.\u001b[0m\u001b[0m_can_hold_identifiers_and_holds_name\u001b[0m\u001b[0;34m(\u001b[0m\u001b[0mname\u001b[0m\u001b[0;34m)\u001b[0m\u001b[0;34m:\u001b[0m\u001b[0;34m\u001b[0m\u001b[0;34m\u001b[0m\u001b[0m\n\u001b[1;32m   5138\u001b[0m                 \u001b[0;32mreturn\u001b[0m \u001b[0mself\u001b[0m\u001b[0;34m[\u001b[0m\u001b[0mname\u001b[0m\u001b[0;34m]\u001b[0m\u001b[0;34m\u001b[0m\u001b[0;34m\u001b[0m\u001b[0m\n\u001b[0;32m-> 5139\u001b[0;31m             \u001b[0;32mreturn\u001b[0m \u001b[0mobject\u001b[0m\u001b[0;34m.\u001b[0m\u001b[0m__getattribute__\u001b[0m\u001b[0;34m(\u001b[0m\u001b[0mself\u001b[0m\u001b[0;34m,\u001b[0m \u001b[0mname\u001b[0m\u001b[0;34m)\u001b[0m\u001b[0;34m\u001b[0m\u001b[0;34m\u001b[0m\u001b[0m\n\u001b[0m\u001b[1;32m   5140\u001b[0m \u001b[0;34m\u001b[0m\u001b[0m\n\u001b[1;32m   5141\u001b[0m     \u001b[0;32mdef\u001b[0m \u001b[0m__setattr__\u001b[0m\u001b[0;34m(\u001b[0m\u001b[0mself\u001b[0m\u001b[0;34m,\u001b[0m \u001b[0mname\u001b[0m\u001b[0;34m:\u001b[0m \u001b[0mstr\u001b[0m\u001b[0;34m,\u001b[0m \u001b[0mvalue\u001b[0m\u001b[0;34m)\u001b[0m \u001b[0;34m->\u001b[0m \u001b[0;32mNone\u001b[0m\u001b[0;34m:\u001b[0m\u001b[0;34m\u001b[0m\u001b[0;34m\u001b[0m\u001b[0m\n",
      "\u001b[0;31mAttributeError\u001b[0m: 'DataFrame' object has no attribute 'alert_window'"
     ]
    }
   ],
   "source": [
    "df_aux = df_aggregation[0]\n",
    "\n",
    "df_aux = df_aux[df_aux.alert_window == True]\n",
    "print(df_aux.aid.unique())\n",
    "\n",
    "# pd.set_option('display.max_rows', len(df_aux))\n",
    "display(df_aux[df_aux.aid == 208]) #208 1760\n",
    "# pd.reset_option('display.max_rows')"
   ]
  },
  {
   "cell_type": "code",
   "execution_count": 106,
   "metadata": {},
   "outputs": [
    {
     "data": {
      "image/png": "[encoded data removed]",
      "text/plain": [
       "<Figure size 432x288 with 1 Axes>"
      ]
     },
     "metadata": {
      "needs_background": "light"
     },
     "output_type": "display_data"
    },
    {
     "data": {
      "image/png": "[encoded data removed]",
      "text/plain": [
       "<Figure size 432x288 with 1 Axes>"
      ]
     },
     "metadata": {
      "needs_background": "light"
     },
     "output_type": "display_data"
    }
   ],
   "source": [
    "# print(\"aids: \", df_training.aid.unique())\n",
    "\n",
    "aid = 208 # 208 1760\n",
    "method = \"gauss\" # gauss kde\n",
    "\n",
    "## Training\n",
    "\n",
    "df_aux = df_training[df_training.aid == aid]\n",
    "vals = np.sort(df_aux.time_diffs.values)\n",
    "pdf = training_dict[aid][method].pdf(vals) \n",
    "\n",
    "mu = df_aux.time_diffs.mean()\n",
    "std = df_aux.time_diffs.std() \n",
    "max_val = max(vals)\n",
    "\n",
    "# print(type(vals), type(vals[0]), len(vals), vals)\n",
    "# print(\"mu: \", training_dict[aid][\"mu\"], mu)\n",
    "# print(\"std: \", training_dict[aid][\"std\"], std)\n",
    "# print(\"max: \", max_val)\n",
    "# print(pdf)\n",
    "\n",
    "new_model = scipy.stats.norm(loc=mu, scale=std)\n",
    "\n",
    "fig, ax = plt.subplots(1, 1)\n",
    "\n",
    "#ax.hist(vals, bins=np.arange(0, 0.2, 0.001), density=True)\n",
    "ax.hist(vals, bins=25, edgecolor=\"black\", density=True)\n",
    "#ax.plot(vals, pdf, \"k\", lw=2, alpha=0.6)\n",
    "# ax.plot(vals, new_model.pdf(vals), \"r\", lw=2, alpha=0.6)\n",
    "ax.set_yscale(\"log\", nonpositive=\"clip\")\n",
    "# ax.set_xlim(xmin=0, xmax=0.025)\n",
    "\n",
    "plt.xlabel('Inter-arrival time (s)')\n",
    "plt.ylabel('PDF')\n",
    "plt.title(\"Training:\" + \" \" + r\"$\\mu=$\" + f\"{mu:.5f}\" + \"  \" + r\"$\\sigma=$\" + f\"{std:.5f}\" + \"  \" + r\"max$=$\" + f\"{max_val:.5f}\")\n",
    "\n",
    "plt.show()\n",
    "\n",
    "# ## Testing\n",
    "\n",
    "df_aux = df_aggregation[0][df_aggregation[0].aid == aid]\n",
    "vals = np.sort(df_aux.time_diffs.values)\n",
    "pdf = training_dict[aid][method].pdf(vals)\n",
    "\n",
    "mu = df_aux.time_diffs.mean()\n",
    "std = df_aux.time_diffs.std() \n",
    "max_val = max(vals)\n",
    "\n",
    "# print(type(vals), type(vals[0]), len(vals), vals)\n",
    "# print(\"mu: \", training_dict[aid][\"mu\"], mu)\n",
    "# print(\"std: \", training_dict[aid][\"std\"], std)\n",
    "# print(\"max: \", max_val)\n",
    "# print(pdf)\n",
    "\n",
    "new_model = scipy.stats.norm(loc=mu, scale=std)\n",
    "\n",
    "fig, ax = plt.subplots(1, 1)\n",
    "\n",
    "ax.hist(vals, bins=25, edgecolor=\"black\", density=True)\n",
    "#ax.hist(vals, bins=np.arange(0, 0.2, 0.001), density=True)\n",
    "ax.set_yscale(\"log\", nonpositive=\"clip\")\n",
    "\n",
    "# ax.plot(vals, pdf, \"k\", lw=2, alpha=0.6)\n",
    "# ax.plot(vals, new_model.pdf(vals), \"r\", lw=2, alpha=0.6)\n",
    "ax.set_xlim(xmin=0, xmax=0.025)\n",
    "\n",
    "plt.xlabel('Inter-arrival time (s)')\n",
    "plt.ylabel('PDF')\n",
    "plt.title(\"Testing:\" + \" \" + r\"$\\mu=$\" + f\"{mu:.5f}\" + \"  \" + r\"$\\sigma=$\" + f\"{std:.5f}\" + \"  \" + r\"max$=$\" + f\"{max_val:.5f}\")\n",
    "\n",
    "plt.show()"
   ]
  },
  {
   "cell_type": "markdown",
   "metadata": {},
   "source": [
    "## Training distributions"
   ]
  },
  {
   "cell_type": "markdown",
   "metadata": {},
   "source": [
    "## 208"
   ]
  },
  {
   "cell_type": "code",
   "execution_count": 45,
   "metadata": {},
   "outputs": [
    {
     "name": "stdout",
     "output_type": "stream",
     "text": [
      "outliers:  58 0.010162476981113562\n"
     ]
    },
    {
     "data": {
      "text/plain": [
       "Text(0.5, 0.0, 'Inter-arrival time (s)')"
      ]
     },
     "execution_count": 45,
     "metadata": {},
     "output_type": "execute_result"
    },
    {
     "data": {
      "image/png": "[encoded data removed]",
      "text/plain": [
       "<Figure size 460.8x201.6 with 2 Axes>"
      ]
     },
     "metadata": {
      "needs_background": "light"
     },
     "output_type": "display_data"
    }
   ],
   "source": [
    "aid = 208\n",
    "\n",
    "fig, axes = plt.subplots(1, 2, figsize=(6.4, 2.8)) # figsize=(3.4, 1.7) (default: [6.4, 4.8])\n",
    "fig.subplots_adjust(wspace=0.3)\n",
    "\n",
    "df_aux = df_training[df_training.aid == aid]\n",
    "vals = np.sort(df_aux.time_diffs.values) \n",
    "\n",
    "mu = df_aux.time_diffs.mean()\n",
    "std = df_aux.time_diffs.std() \n",
    "min_val = min(vals)\n",
    "max_val = max(vals)\n",
    "\n",
    "axes[0].hist(vals, bins=15, edgecolor=\"black\")\n",
    "axes[0].set_yscale(\"log\", nonpositive=\"clip\")\n",
    "axes[0].set_xticks(np.arange(0, 250, 50))\n",
    "axes[0].set_ylim([0.2, 10**6])\n",
    "# ax.set_yticks(np.arange(0, 1.25, 0.25))\n",
    "\n",
    "# axes[0].set_xlabel('Inter-arrival time (s)')\n",
    "axes[0].set_ylabel('Frequency')\n",
    "axes[0].text(80, 8*10**4, r\"$\\mu=$\" + f\"{mu:.3f}\", color=\"black\")\n",
    "axes[0].text(80, 2.7*10**4, r\"$\\sigma=$\" + f\"{std:.3f}\", color=\"black\")\n",
    "axes[0].text(80, 1*10**4, r\"min$=$\" + f\"{min_val:.3f}\", color=\"black\")\n",
    "axes[0].text(80, 3.5*10**3, r\"max$=$\" + f\"{max_val:.3f}\", color=\"black\")\n",
    "axes[0].annotate(\"(a)\", xy=(25, 10**5))\n",
    "#axes[0].set_title(r\"$\\mu=$\" + f\"{mu:.2f}\" + \"  \" + r\"$\\sigma=$\" + f\"{std:.2f}\" + \"  \" + r\"max$=$\" + f\"{max_val:.2f}\")\n",
    "\n",
    "###\n",
    "\n",
    "# identify outliers in the dataset\n",
    "ee = EllipticEnvelope(contamination=0.0001, support_fraction=0.999) # support_fraction=0.99\n",
    "inliers = ee.fit_predict(vals.reshape(-1, 1))\n",
    "\n",
    "# select all rows that are not outliers\n",
    "mask = inliers != -1\n",
    "outliers = sum(mask == False)\n",
    "print(\"outliers: \", outliers, 100*outliers/len(vals))\n",
    "\n",
    "vals = vals[mask]\n",
    "\n",
    "mu = vals.mean()\n",
    "std = vals.std() \n",
    "min_val = min(vals)\n",
    "max_val = max(vals)\n",
    "\n",
    "\n",
    "axes[1].hist(vals, bins=15, edgecolor=\"black\")\n",
    "axes[1].set_yscale(\"log\", nonpositive=\"clip\")\n",
    "axes[1].set_xticks(np.arange(0, 0.04, 0.01))\n",
    "axes[1].set_ylim([0.2, 10**6])\n",
    "# axes[0].set_xticks(np.arange(0, 250, 50))\n",
    "# ax.set_yticks(np.arange(0, 1.25, 0.25))\n",
    "\n",
    "# axes[0].set_xlabel('Inter-arrival time (s)')\n",
    "# axes[0].set_ylabel('Frequency')\n",
    "axes[1].text(0.016, 8*10**4, r\"$\\mu=$\" + f\"{mu:.3f}\", color=\"black\")\n",
    "axes[1].text(0.016, 2.7*10**4, r\"$\\sigma=$\" + f\"{std:.3f}\", color=\"black\")\n",
    "axes[1].text(0.016, 1*10**4, r\"min$=$\" + f\"{min_val:.3f}\", color=\"black\")\n",
    "axes[1].text(0.016, 3.5*10**3, r\"max$=$\" + f\"{max_val:.3f}\", color=\"black\")\n",
    "axes[1].annotate(\"(b)\", xy=(0.003, 10**5))\n",
    "# plt.title(r\"$\\mu=$\" + f\"{mu:.5f}\" + \"  \" + r\"$\\sigma=$\" + f\"{std:.5f}\" + \"  \" + r\"max$=$\" + f\"{max_val:.5f}\")\n",
    "\n",
    "fig.text(0.5, 0.00, \"Inter-arrival time (s)\", ha=\"center\")\n",
    "\n",
    "#plt.savefig(\"../../figs/training_distributions_208.pdf\", dpi=200, bbox_inches=\"tight\")\n",
    "\n",
    "plt.show()"
   ]
  },
  {
   "cell_type": "markdown",
   "metadata": {},
   "source": [
    "## Fitting 208"
   ]
  },
  {
   "cell_type": "code",
   "execution_count": 31,
   "metadata": {},
   "outputs": [
    {
     "name": "stdout",
     "output_type": "stream",
     "text": [
      "outliers:  58 0.010162476981113562\n"
     ]
    },
    {
     "data": {
      "image/png": "[encoded data removed]",
      "text/plain": [
       "<Figure size 460.8x201.6 with 2 Axes>"
      ]
     },
     "metadata": {
      "needs_background": "light"
     },
     "output_type": "display_data"
    }
   ],
   "source": [
    "aid = 208\n",
    "method = \"gauss\" # gauss, kde\n",
    "\n",
    "fig, axes = plt.subplots(1, 2, figsize=(6.4, 2.8)) # figsize=(3.4, 1.7) (default: [6.4, 4.8])\n",
    "fig.subplots_adjust(wspace=0.3)\n",
    "\n",
    "df_aux = df_training[df_training.aid == aid]\n",
    "vals = np.sort(df_aux.time_diffs.values)\n",
    "pdf = training_dict[aid][method].pdf(vals) \n",
    "\n",
    "mu = df_aux.time_diffs.mean()\n",
    "std = df_aux.time_diffs.std() \n",
    "min_val = min(vals)\n",
    "max_val = max(vals)\n",
    "\n",
    "axes[0].hist(vals, bins=15, density=True, edgecolor=\"black\")\n",
    "axes[0].plot(vals, pdf, \"k-\", lw=2)\n",
    "axes[0].set_yscale(\"log\", nonpositive=\"clip\")\n",
    "axes[0].set_xticks(np.arange(0, 250, 50))\n",
    "axes[0].set_ylim([0.2, 10**4])\n",
    "# ax.set_yticks(np.arange(0, 1.25, 0.25))\n",
    "\n",
    "# axes[0].set_xlabel('Inter-arrival time (s)')\n",
    "axes[0].set_ylabel('PDF')\n",
    "axes[0].text(80, 4*10**3, r\"$\\mu=$\" + f\"{mu:.3f}\", color=\"black\")\n",
    "axes[0].text(80, 2*10**3, r\"$\\sigma=$\" + f\"{std:.3f}\", color=\"black\")\n",
    "axes[0].text(80, 1*10**3, r\"min$=$\" + f\"{min_val:.3f}\", color=\"black\")\n",
    "axes[0].text(80, 5*10**2, r\"max$=$\" + f\"{max_val:.3f}\", color=\"black\")\n",
    "axes[0].annotate(\"(a)\", xy=(25, 10**3))\n",
    "#axes[0].set_title(r\"$\\mu=$\" + f\"{mu:.2f}\" + \"  \" + r\"$\\sigma=$\" + f\"{std:.2f}\" + \"  \" + r\"max$=$\" + f\"{max_val:.2f}\")\n",
    "\n",
    "\n",
    "###\n",
    "\n",
    "# identify outliers in the dataset\n",
    "ee = EllipticEnvelope(contamination=0.0001, support_fraction=0.999) # support_fraction=0.99\n",
    "inliers = ee.fit_predict(vals.reshape(-1, 1))\n",
    "\n",
    "# select all rows that are not outliers\n",
    "mask = inliers != -1\n",
    "outliers = sum(mask == False)\n",
    "print(\"outliers: \", outliers, 100*outliers/len(vals))\n",
    "\n",
    "vals = vals[mask]\n",
    "pdf = training_dict[aid][method].pdf(vals) \n",
    "\n",
    "mu = vals.mean()\n",
    "std = vals.std() \n",
    "min_val = min(vals)\n",
    "max_val = max(vals)\n",
    "\n",
    "axes[1].hist(vals, bins=15, density=True, edgecolor=\"black\")\n",
    "axes[1].plot(vals, pdf, \"k-\", lw=2)\n",
    "axes[1].set_yscale(\"log\", nonpositive=\"clip\")\n",
    "axes[1].set_xticks(np.arange(0, 0.04, 0.01))\n",
    "axes[1].set_ylim([0.2, 10**4])\n",
    "# axes[0].set_xticks(np.arange(0, 250, 50))\n",
    "# ax.set_yticks(np.arange(0, 1.25, 0.25))\n",
    "\n",
    "# axes[0].set_xlabel('Inter-arrival time (s)')\n",
    "# axes[0].set_ylabel('Frequency')\n",
    "axes[1].text(0.016, 4*10**3, r\"$\\mu=$\" + f\"{mu:.3f}\", color=\"black\")\n",
    "axes[1].text(0.016, 2*10**3, r\"$\\sigma=$\" + f\"{std:.3f}\", color=\"black\")\n",
    "axes[1].text(0.016, 1*10**3, r\"min$=$\" + f\"{min_val:.3f}\", color=\"black\")\n",
    "axes[1].text(0.016, 5*10**2, r\"max$=$\" + f\"{max_val:.3f}\", color=\"black\")\n",
    "axes[1].annotate(\"(b)\", xy=(0.003, 10**3))\n",
    "# plt.title(r\"$\\mu=$\" + f\"{mu:.5f}\" + \"  \" + r\"$\\sigma=$\" + f\"{std:.5f}\" + \"  \" + r\"max$=$\" + f\"{max_val:.5f}\")\n",
    "\n",
    "fig.text(0.5, 0.00, \"Inter-arrival time (s)\", ha=\"center\")\n",
    "\n",
    "#plt.savefig(\"../../figs/training_distributions_208_fit.pdf\", dpi=200, bbox_inches=\"tight\")\n",
    "\n",
    "plt.show()"
   ]
  },
  {
   "cell_type": "markdown",
   "metadata": {},
   "source": [
    "## 1760"
   ]
  },
  {
   "cell_type": "code",
   "execution_count": 43,
   "metadata": {},
   "outputs": [
    {
     "name": "stdout",
     "output_type": "stream",
     "text": [
      "outliers:  64 0.010068909096630062\n"
     ]
    },
    {
     "data": {
      "image/png": "[encoded data removed]",
      "text/plain": [
       "<Figure size 460.8x201.6 with 2 Axes>"
      ]
     },
     "metadata": {
      "needs_background": "light"
     },
     "output_type": "display_data"
    }
   ],
   "source": [
    "aid = 1760\n",
    "\n",
    "fig, axes = plt.subplots(1, 2, figsize=(6.4, 2.8)) # figsize=(3.4, 1.7) (default: [6.4, 4.8])\n",
    "fig.subplots_adjust(wspace=0.3)\n",
    "\n",
    "df_aux = df_training[df_training.aid == aid]\n",
    "vals = np.sort(df_aux.time_diffs.values) \n",
    "\n",
    "mu = df_aux.time_diffs.mean()\n",
    "std = df_aux.time_diffs.std() \n",
    "min_val = min(vals)\n",
    "max_val = max(vals)\n",
    "\n",
    "\n",
    "axes[0].hist(vals, bins=15, edgecolor=\"black\")\n",
    "axes[0].set_yscale(\"log\", nonpositive=\"clip\")\n",
    "axes[0].set_xticks(np.arange(0, 35, 5))\n",
    "axes[0].set_ylim([0.2, 10**6])\n",
    "# # ax.set_yticks(np.arange(0, 1.25, 0.25))\n",
    "\n",
    "# # axes[0].set_xlabel('Inter-arrival time (s)')\n",
    "axes[0].set_ylabel('Frequency')\n",
    "axes[0].text(15, 8*10**4, r\"$\\mu=$\" + f\"{mu:.3f}\", color=\"black\")\n",
    "axes[0].text(15, 2.7*10**4, r\"$\\sigma=$\" + f\"{std:.3f}\", color=\"black\")\n",
    "axes[0].text(15, 1*10**4, r\"min$=$\" + f\"{min_val:.3f}\", color=\"black\")\n",
    "axes[0].text(15, 3.5*10**3, r\"max$=$\" + f\"{max_val:.3f}\", color=\"black\")\n",
    "axes[0].annotate(\"(a)\", xy=(5, 10**5))\n",
    "# #axes[0].set_title(r\"$\\mu=$\" + f\"{mu:.2f}\" + \"  \" + r\"$\\sigma=$\" + f\"{std:.2f}\" + \"  \" + r\"max$=$\" + f\"{max_val:.2f}\")\n",
    "\n",
    "###\n",
    "\n",
    "# identify outliers in the dataset\n",
    "ee = EllipticEnvelope(contamination=0.0001, support_fraction=0.999) # support_fraction=0.99\n",
    "inliers = ee.fit_predict(vals.reshape(-1, 1))\n",
    "\n",
    "# select all rows that are not outliers\n",
    "mask = inliers != -1\n",
    "outliers = sum(mask == False)\n",
    "print(\"outliers: \", outliers, 100*outliers/len(vals))\n",
    "\n",
    "vals = vals[mask]\n",
    "\n",
    "mu = vals.mean()\n",
    "std = vals.std() \n",
    "min_val = min(vals)\n",
    "max_val = max(vals)\n",
    "\n",
    "axes[1].hist(vals, bins=15, edgecolor=\"black\")\n",
    "axes[1].set_yscale(\"log\", nonpositive=\"clip\")\n",
    "axes[1].set_xticks(np.arange(0, 0.04, 0.01))\n",
    "axes[1].set_ylim([0.2, 10**6])\n",
    "# # axes[0].set_xticks(np.arange(0, 250, 50))\n",
    "# # ax.set_yticks(np.arange(0, 1.25, 0.25))\n",
    "\n",
    "# axes[0].set_xlabel('Inter-arrival time (s)')\n",
    "# axes[0].set_ylabel('Frequency')\n",
    "axes[1].text(0.017, 8*10**4, r\"$\\mu=$\" + f\"{mu:.3f}\", color=\"black\")\n",
    "axes[1].text(0.017, 2.7*10**4, r\"$\\sigma=$\" + f\"{std:.3f}\", color=\"black\")\n",
    "axes[1].text(0.017, 1*10**4, r\"min$=$\" + f\"{min_val:.3f}\", color=\"black\")\n",
    "axes[1].text(0.017, 3.5*10**3, r\"max$=$\" + f\"{max_val:.3f}\", color=\"black\")\n",
    "axes[1].annotate(\"(b)\", xy=(0.003, 10**5))\n",
    "# plt.title(r\"$\\mu=$\" + f\"{mu:.5f}\" + \"  \" + r\"$\\sigma=$\" + f\"{std:.5f}\" + \"  \" + r\"max$=$\" + f\"{max_val:.5f}\")\n",
    "\n",
    "fig.text(0.5, 0.00, \"Inter-arrival time (s)\", ha=\"center\")\n",
    "\n",
    "# plt.savefig(\"../../figs/training_distributions_1760.pdf\", dpi=200, bbox_inches=\"tight\")\n",
    "plt.show()"
   ]
  },
  {
   "cell_type": "markdown",
   "metadata": {},
   "source": [
    "## Fitting 1760"
   ]
  },
  {
   "cell_type": "code",
   "execution_count": 42,
   "metadata": {},
   "outputs": [
    {
     "name": "stdout",
     "output_type": "stream",
     "text": [
      "outliers:  64 0.010068909096630062\n"
     ]
    },
    {
     "data": {
      "image/png": "[encoded data removed]",
      "text/plain": [
       "<Figure size 460.8x201.6 with 2 Axes>"
      ]
     },
     "metadata": {
      "needs_background": "light"
     },
     "output_type": "display_data"
    }
   ],
   "source": [
    "aid = 1760\n",
    "method = \"gauss\"\n",
    "\n",
    "fig, axes = plt.subplots(1, 2, figsize=(6.4, 2.8)) # figsize=(3.4, 1.7) (default: [6.4, 4.8])\n",
    "fig.subplots_adjust(wspace=0.3)\n",
    "\n",
    "df_aux = df_training[df_training.aid == aid]\n",
    "vals = np.sort(df_aux.time_diffs.values)\n",
    "pdf = training_dict[aid][method].pdf(vals) \n",
    "\n",
    "mu = df_aux.time_diffs.mean()\n",
    "std = df_aux.time_diffs.std() \n",
    "min_val = min(vals)\n",
    "max_val = max(vals)\n",
    "\n",
    "\n",
    "axes[0].hist(vals, bins=15, density=True, edgecolor=\"black\")\n",
    "axes[0].plot(vals, pdf, \"k-\", lw=2)\n",
    "axes[0].set_yscale(\"log\", nonpositive=\"clip\")\n",
    "axes[0].set_xticks(np.arange(0, 35, 5))\n",
    "#axes[0].set_xlim([0, 2])\n",
    "axes[0].set_ylim([0.2, 10**4])\n",
    "# # ax.set_yticks(np.arange(0, 1.25, 0.25))\n",
    "\n",
    "axes[0].set_ylabel('PDF')\n",
    "axes[0].text(15, 4*10**3, r\"$\\mu=$\" + f\"{mu:.3f}\", color=\"black\")\n",
    "axes[0].text(15, 2*10**3, r\"$\\sigma=$\" + f\"{std:.3f}\", color=\"black\")\n",
    "axes[0].text(15, 1*10**3, r\"min$=$\" + f\"{min_val:.3f}\", color=\"black\")\n",
    "axes[0].text(15, 5*10**2, r\"max$=$\" + f\"{max_val:.3f}\", color=\"black\")\n",
    "axes[0].annotate(\"(a)\", xy=(5, 10**3))\n",
    "# #axes[0].set_title(r\"$\\mu=$\" + f\"{mu:.2f}\" + \"  \" + r\"$\\sigma=$\" + f\"{std:.2f}\" + \"  \" + r\"max$=$\" + f\"{max_val:.2f}\")\n",
    "\n",
    "##\n",
    "\n",
    "# identify outliers in the dataset\n",
    "ee = EllipticEnvelope(contamination=0.0001, support_fraction=0.999) # support_fraction=0.99\n",
    "inliers = ee.fit_predict(vals.reshape(-1, 1))\n",
    "\n",
    "# select all rows that are not outliers\n",
    "mask = inliers != -1\n",
    "outliers = sum(mask == False)\n",
    "print(\"outliers: \", outliers, 100*outliers/len(vals))\n",
    "\n",
    "vals = vals[mask]\n",
    "pdf = training_dict[aid][method].pdf(vals) \n",
    "\n",
    "mu = vals.mean()\n",
    "std = vals.std() \n",
    "min_val = min(vals)\n",
    "max_val = max(vals)\n",
    "\n",
    "axes[1].hist(vals, bins=15, density=True, edgecolor=\"black\")\n",
    "axes[1].plot(vals, pdf, \"k-\", lw=2)\n",
    "axes[1].set_yscale(\"log\", nonpositive=\"clip\")\n",
    "axes[1].set_xticks(np.arange(0, 0.04, 0.01))\n",
    "axes[1].set_ylim([0.2, 10**4])\n",
    "# # axes[0].set_xticks(np.arange(0, 250, 50))\n",
    "# # ax.set_yticks(np.arange(0, 1.25, 0.25))\n",
    "\n",
    "# axes[0].set_xlabel('Inter-arrival time (s)')\n",
    "# axes[0].set_ylabel('Frequency')\n",
    "axes[1].text(0.017, 4*10**3, r\"$\\mu=$\" + f\"{mu:.3f}\", color=\"black\")\n",
    "axes[1].text(0.017, 2*10**3, r\"$\\sigma=$\" + f\"{std:.3f}\", color=\"black\")\n",
    "axes[1].text(0.017, 1*10**3, r\"min$=$\" + f\"{min_val:.3f}\", color=\"black\")\n",
    "axes[1].text(0.017, 5*10**2, r\"max$=$\" + f\"{max_val:.3f}\", color=\"black\")\n",
    "axes[1].annotate(\"(b)\", xy=(0.003, 10**3))\n",
    "# plt.title(r\"$\\mu=$\" + f\"{mu:.5f}\" + \"  \" + r\"$\\sigma=$\" + f\"{std:.5f}\" + \"  \" + r\"max$=$\" + f\"{max_val:.5f}\")\n",
    "\n",
    "fig.text(0.5, 0.00, \"Inter-arrival time (s)\", ha=\"center\")\n",
    "\n",
    "# plt.savefig(\"../../figs/training_distributions_1760_fit.pdf\", dpi=200, bbox_inches=\"tight\")\n",
    "plt.show()"
   ]
  },
  {
   "cell_type": "markdown",
   "metadata": {},
   "source": [
    "## Fitting 208 and 1760"
   ]
  },
  {
   "cell_type": "code",
   "execution_count": 55,
   "metadata": {},
   "outputs": [
    {
     "name": "stdout",
     "output_type": "stream",
     "text": [
      "outliers:  58 0.010162476981113562\n",
      "outliers:  64 0.010068909096630062\n"
     ]
    },
    {
     "data": {
      "image/png": "[encoded data removed]",
      "text/plain": [
       "<Figure size 460.8x460.8 with 4 Axes>"
      ]
     },
     "metadata": {
      "needs_background": "light"
     },
     "output_type": "display_data"
    }
   ],
   "source": [
    "aid = 208\n",
    "method = \"gauss\" # gauss, kde\n",
    "\n",
    "fig, axes = plt.subplots(2, 2, figsize=(6.4, 6.4)) # figsize=(3.4, 1.7) (default: [6.4, 4.8])\n",
    "fig.subplots_adjust(wspace=0.3, hspace=0.3)\n",
    "\n",
    "df_aux = df_training[df_training.aid == aid]\n",
    "vals = np.sort(df_aux.time_diffs.values)\n",
    "pdf = training_dict[aid][method].pdf(vals) \n",
    "\n",
    "mu = df_aux.time_diffs.mean()\n",
    "std = df_aux.time_diffs.std() \n",
    "min_val = min(vals)\n",
    "max_val = max(vals)\n",
    "\n",
    "axes[0][0].hist(vals, bins=15, density=True, edgecolor=\"black\")\n",
    "axes[0][0].plot(vals, pdf, \"k-\", lw=2)\n",
    "axes[0][0].set_yscale(\"log\", nonpositive=\"clip\")\n",
    "axes[0][0].set_xticks(np.arange(0, 250, 50))\n",
    "axes[0][0].set_ylim([0.2, 10**4])\n",
    "# ax.set_yticks(np.arange(0, 1.25, 0.25))\n",
    "\n",
    "# axes[0].set_xlabel('Inter-arrival time (s)')\n",
    "axes[0][0].set_ylabel('PDF')\n",
    "axes[0][0].text(80, 4*10**3, r\"$\\mu=$\" + f\"{mu:.3f}\", color=\"black\")\n",
    "axes[0][0].text(80, 2*10**3, r\"$\\sigma=$\" + f\"{std:.3f}\", color=\"black\")\n",
    "axes[0][0].text(80, 1*10**3, r\"min$=$\" + f\"{min_val:.3f}\", color=\"black\")\n",
    "axes[0][0].text(80, 5*10**2, r\"max$=$\" + f\"{max_val:.3f}\", color=\"black\")\n",
    "axes[0][0].annotate(\"(a)\", xy=(25, 10**3))\n",
    "#axes[0].set_title(r\"$\\mu=$\" + f\"{mu:.2f}\" + \"  \" + r\"$\\sigma=$\" + f\"{std:.2f}\" + \"  \" + r\"max$=$\" + f\"{max_val:.2f}\")\n",
    "\n",
    "# identify outliers in the dataset\n",
    "ee = EllipticEnvelope(contamination=0.0001, support_fraction=0.999) # support_fraction=0.99\n",
    "inliers = ee.fit_predict(vals.reshape(-1, 1))\n",
    "\n",
    "# select all rows that are not outliers\n",
    "mask = inliers != -1\n",
    "outliers = sum(mask == False)\n",
    "print(\"outliers: \", outliers, 100*outliers/len(vals))\n",
    "\n",
    "vals = vals[mask]\n",
    "pdf = training_dict[aid][method].pdf(vals) \n",
    "\n",
    "mu = vals.mean()\n",
    "std = vals.std() \n",
    "min_val = min(vals)\n",
    "max_val = max(vals)\n",
    "\n",
    "axes[0][1].hist(vals, bins=15, density=True, edgecolor=\"black\")\n",
    "axes[0][1].plot(vals, pdf, \"k-\", lw=2)\n",
    "axes[0][1].set_yscale(\"log\", nonpositive=\"clip\")\n",
    "axes[0][1].set_xticks(np.arange(0, 0.04, 0.01))\n",
    "axes[0][1].set_ylim([0.2, 10**4])\n",
    "# axes[0].set_xticks(np.arange(0, 250, 50))\n",
    "# ax.set_yticks(np.arange(0, 1.25, 0.25))\n",
    "\n",
    "# axes[0].set_xlabel('Inter-arrival time (s)')\n",
    "# axes[0].set_ylabel('Frequency')\n",
    "axes[0][1].text(0.016, 4*10**3, r\"$\\mu=$\" + f\"{mu:.3f}\", color=\"black\")\n",
    "axes[0][1].text(0.016, 2*10**3, r\"$\\sigma=$\" + f\"{std:.3f}\", color=\"black\")\n",
    "axes[0][1].text(0.016, 1*10**3, r\"min$=$\" + f\"{min_val:.3f}\", color=\"black\")\n",
    "axes[0][1].text(0.016, 5*10**2, r\"max$=$\" + f\"{max_val:.3f}\", color=\"black\")\n",
    "axes[0][1].annotate(\"(b)\", xy=(0.003, 10**3))\n",
    "# plt.title(r\"$\\mu=$\" + f\"{mu:.5f}\" + \"  \" + r\"$\\sigma=$\" + f\"{std:.5f}\" + \"  \" + r\"max$=$\" + f\"{max_val:.5f}\")\n",
    "\n",
    "###########\n",
    "\n",
    "aid = 1760\n",
    "\n",
    "df_aux = df_training[df_training.aid == aid]\n",
    "vals = np.sort(df_aux.time_diffs.values)\n",
    "pdf = training_dict[aid][method].pdf(vals) \n",
    "\n",
    "mu = df_aux.time_diffs.mean()\n",
    "std = df_aux.time_diffs.std() \n",
    "min_val = min(vals)\n",
    "max_val = max(vals)\n",
    "\n",
    "axes[1][0].hist(vals, bins=15, density=True, edgecolor=\"black\")\n",
    "axes[1][0].plot(vals, pdf, \"k-\", lw=2)\n",
    "axes[1][0].set_yscale(\"log\", nonpositive=\"clip\")\n",
    "axes[1][0].set_xticks(np.arange(0, 35, 5))\n",
    "#axes[0].set_xlim([0, 2])\n",
    "axes[1][0].set_ylim([0.2, 10**4])\n",
    "# # ax.set_yticks(np.arange(0, 1.25, 0.25))\n",
    "\n",
    "axes[1][0].set_ylabel('PDF')\n",
    "axes[1][0].text(15, 4*10**3, r\"$\\mu=$\" + f\"{mu:.3f}\", color=\"black\")\n",
    "axes[1][0].text(15, 2*10**3, r\"$\\sigma=$\" + f\"{std:.3f}\", color=\"black\")\n",
    "axes[1][0].text(15, 1*10**3, r\"min$=$\" + f\"{min_val:.3f}\", color=\"black\")\n",
    "axes[1][0].text(15, 5*10**2, r\"max$=$\" + f\"{max_val:.3f}\", color=\"black\")\n",
    "axes[1][0].annotate(\"(c)\", xy=(5, 10**3))\n",
    "# #axes[0].set_title(r\"$\\mu=$\" + f\"{mu:.2f}\" + \"  \" + r\"$\\sigma=$\" + f\"{std:.2f}\" + \"  \" + r\"max$=$\" + f\"{max_val:.2f}\")\n",
    "\n",
    "# identify outliers in the dataset\n",
    "ee = EllipticEnvelope(contamination=0.0001, support_fraction=0.999) # support_fraction=0.99\n",
    "inliers = ee.fit_predict(vals.reshape(-1, 1))\n",
    "\n",
    "# select all rows that are not outliers\n",
    "mask = inliers != -1\n",
    "outliers = sum(mask == False)\n",
    "print(\"outliers: \", outliers, 100*outliers/len(vals))\n",
    "\n",
    "vals = vals[mask]\n",
    "pdf = training_dict[aid][method].pdf(vals) \n",
    "\n",
    "mu = vals.mean()\n",
    "std = vals.std() \n",
    "min_val = min(vals)\n",
    "max_val = max(vals)\n",
    "\n",
    "axes[1][1].hist(vals, bins=15, density=True, edgecolor=\"black\")\n",
    "axes[1][1].plot(vals, pdf, \"k-\", lw=2)\n",
    "axes[1][1].set_yscale(\"log\", nonpositive=\"clip\")\n",
    "axes[1][1].set_xticks(np.arange(0, 0.04, 0.01))\n",
    "axes[1][1].set_ylim([0.2, 10**4])\n",
    "# # axes[0].set_xticks(np.arange(0, 250, 50))\n",
    "# # ax.set_yticks(np.arange(0, 1.25, 0.25))\n",
    "\n",
    "# axes[0].set_xlabel('Inter-arrival time (s)')\n",
    "# axes[0].set_ylabel('Frequency')\n",
    "axes[1][1].text(0.017, 4*10**3, r\"$\\mu=$\" + f\"{mu:.3f}\", color=\"black\")\n",
    "axes[1][1].text(0.017, 2*10**3, r\"$\\sigma=$\" + f\"{std:.3f}\", color=\"black\")\n",
    "axes[1][1].text(0.017, 1*10**3, r\"min$=$\" + f\"{min_val:.3f}\", color=\"black\")\n",
    "axes[1][1].text(0.017, 5*10**2, r\"max$=$\" + f\"{max_val:.3f}\", color=\"black\")\n",
    "axes[1][1].annotate(\"(d)\", xy=(0.003, 10**3))\n",
    "# plt.title(r\"$\\mu=$\" + f\"{mu:.5f}\" + \"  \" + r\"$\\sigma=$\" + f\"{std:.5f}\" + \"  \" + r\"max$=$\" + f\"{max_val:.5f}\")\n",
    "\n",
    "fig.text(0.5, 0.07, \"Inter-arrival time (s)\", ha=\"center\")\n",
    "\n",
    "plt.savefig(\"../../figs/training_distributions_fit_combined.pdf\", dpi=200, bbox_inches=\"tight\")\n",
    "\n",
    "plt.show()"
   ]
  },
  {
   "cell_type": "markdown",
   "metadata": {},
   "source": [
    "## Testing distributions"
   ]
  },
  {
   "cell_type": "code",
   "execution_count": 44,
   "metadata": {},
   "outputs": [
    {
     "data": {
      "image/png": "[encoded data removed]",
      "text/plain": [
       "<Figure size 460.8x201.6 with 2 Axes>"
      ]
     },
     "metadata": {
      "needs_background": "light"
     },
     "output_type": "display_data"
    }
   ],
   "source": [
    "##\n",
    "\n",
    "aid = 208 # 1760 1255\n",
    "\n",
    "fig, axes = plt.subplots(1, 2, figsize=(6.4, 2.8)) # figsize=(3.4, 1.7) (default: [6.4, 4.8])\n",
    "fig.subplots_adjust(wspace=0.3)\n",
    "\n",
    "df_aux = pd.concat(df_aggregation)\n",
    "df_aux = df_aux[df_aux.aid == aid]\n",
    "vals = np.sort(df_aux.time_diffs.values)\n",
    "\n",
    "mu = vals.mean()\n",
    "std = vals.std() \n",
    "max_val = max(vals)\n",
    "min_val = min(vals)\n",
    "\n",
    "# print(type(vals), type(vals[0]), len(vals), vals)\n",
    "# print(\"mu: \", training_dict[aid][\"mu\"], mu)\n",
    "# print(\"std: \", training_dict[aid][\"std\"], std)\n",
    "# print(\"max: \", max_val)\n",
    "# print(pdf)\n",
    "\n",
    "axes[0].hist(vals, bins=15, edgecolor=\"black\")\n",
    "axes[0].set_yscale(\"log\", nonpositive=\"clip\")\n",
    "axes[0].set_xticks(np.arange(0, 0.026, 0.01))\n",
    "axes[0].set_ylim([0.2, 10**6])\n",
    "axes[0].annotate(\"(a)\", xy=(0.002, 10**5))\n",
    "\n",
    "axes[0].set_ylabel('Frequency')\n",
    "axes[0].text(0.0115, 3*10**5, r\"$\\mu=$\" + f\"{mu:.3f}\", color=\"black\")\n",
    "axes[0].text(0.0115, 1*10**5, r\"$\\sigma=$\" + f\"{std:.3f}\", color=\"black\")\n",
    "axes[0].text(0.0115, 3.5*10**4, r\"min$=$\" + f\"{min_val:.3f}\", color=\"black\")\n",
    "axes[0].text(0.0115, 1.3*10**4, r\"max$=$\" + f\"{max_val:.3f}\", color=\"black\")\n",
    "\n",
    "###\n",
    "\n",
    "aid = 1760\n",
    "\n",
    "df_aux = pd.concat(df_aggregation)\n",
    "df_aux = df_aux[df_aux.aid == aid]\n",
    "vals = np.sort(df_aux.time_diffs.values)\n",
    "\n",
    "mu = vals.mean()\n",
    "std = vals.std() \n",
    "min_val = min(vals)\n",
    "max_val = max(vals)\n",
    "\n",
    "# print(type(vals), type(vals[0]), len(vals), vals)\n",
    "# print(\"mu: \", training_dict[aid][\"mu\"], mu)\n",
    "# print(\"std: \", training_dict[aid][\"std\"], std)\n",
    "# print(\"max: \", max_val)\n",
    "# print(pdf)\n",
    "\n",
    "axes[1].hist(vals, bins=15, edgecolor=\"black\")\n",
    "axes[1].set_yscale(\"log\", nonpositive=\"clip\")\n",
    "axes[1].set_xticks(np.arange(0, 0.026, 0.01))\n",
    "axes[1].set_ylim([0.2, 10**6])\n",
    "axes[1].annotate(\"(b)\", xy=(0.002, 10**5))\n",
    "\n",
    "axes[1].text(0.0115, 3*10**5, r\"$\\mu=$\" + f\"{mu:.3f}\", color=\"black\")\n",
    "axes[1].text(0.0115, 1*10**5, r\"$\\sigma=$\" + f\"{std:.3f}\", color=\"black\")\n",
    "axes[1].text(0.0115, 3.5*10**4, r\"min$=$\" + f\"{min_val:.3f}\", color=\"black\")\n",
    "axes[1].text(0.0115, 1.3*10**4, r\"max$=$\" + f\"{max_val:.3f}\", color=\"black\")\n",
    "\n",
    "fig.text(0.5, 0.00, \"Inter-arrival time (s)\", ha=\"center\")\n",
    "\n",
    "plt.savefig(\"../../figs/testing_distributions.pdf\", dpi=200, bbox_inches=\"tight\")\n",
    "\n",
    "plt.show()"
   ]
  },
  {
   "cell_type": "markdown",
   "metadata": {},
   "source": [
    "## ROC/PRC Curves"
   ]
  },
  {
   "cell_type": "code",
   "execution_count": 20,
   "metadata": {},
   "outputs": [
    {
     "name": "stdout",
     "output_type": "stream",
     "text": [
      "0.0 nan\n",
      "0.05555555555555555 nan\n",
      "0.1111111111111111 0.002821514861599831\n",
      "0.16666666666666666 0.0038689667300836144\n",
      "0.2222222222222222 0.7875471003613046\n",
      "0.2777777777777778 0.7980271932602165\n",
      "0.3333333333333333 0.9547507541540974\n",
      "0.38888888888888884 0.9561107921690005\n",
      "0.4444444444444444 0.9862231020552685\n",
      "0.5 0.9846420629249926\n",
      "0.5555555555555556 0.9761170787516683\n",
      "0.611111111111111 0.9530650077953507\n",
      "0.6666666666666666 0.9308103685972698\n",
      "0.7222222222222222 0.901628157811709\n",
      "0.7777777777777777 0.8816127412296434\n",
      "0.8333333333333333 0.7412084697822245\n",
      "0.8888888888888888 0.6448204401773301\n",
      "0.9444444444444444 0.3937018970536895\n",
      "1.0 0.09117744057213793\n"
     ]
    },
    {
     "data": {
      "image/png": "[encoded data removed]",
      "text/plain": [
       "<Figure size 432x288 with 1 Axes>"
      ]
     },
     "metadata": {
      "needs_background": "light"
     },
     "output_type": "display_data"
    },
    {
     "data": {
      "image/png": "[encoded data removed]",
      "text/plain": [
       "<Figure size 432x288 with 1 Axes>"
      ]
     },
     "metadata": {
      "needs_background": "light"
     },
     "output_type": "display_data"
    },
    {
     "name": "stdout",
     "output_type": "stream",
     "text": [
      "confusion matrix: \n",
      " [[1525274    1473]\n",
      " [    239   61277]]\n",
      "precision:  0.9765258964143426\n",
      "recall:  0.9961148319136485\n",
      "f1 score:  0.9862231020552685\n",
      "false positive rate 0.0009647963939015436\n"
     ]
    }
   ],
   "source": [
    "pvals_mean = np.linspace(0, 1, 19)\n",
    "# print(len(pvals_mean), pvals_mean)\n",
    "\n",
    "for pval in pvals_mean:\n",
    "    print(pval, results_mean_final[pval][\"f1\"])\n",
    "    \n",
    "optimum = 0.4444444444444444\n",
    "\n",
    "## Generate ROC curve\n",
    "x_roc_mean = [results_mean_final[p]['false_pos'] for p in pvals_mean]\n",
    "y_roc_mean = [results_mean_final[p]['recall'] for p in pvals_mean]\n",
    "\n",
    "plt.plot(x_roc_mean, y_roc_mean, '.-')\n",
    "plt.plot(results_mean_final[optimum]['false_pos'], results_mean_final[optimum]['recall'], '.-r')\n",
    "plt.xlabel('False Positive Rate')\n",
    "plt.ylabel('Recall')\n",
    "plt.title('ROC Curve')\n",
    "\n",
    "plt.show()\n",
    "    \n",
    "# Can use this dictionary to generate PRC curve\n",
    "x_prc_mean = [results_mean_final[p]['recall'] for p in pvals_mean]\n",
    "y_prc_mean = [results_mean_final[p]['prec'] for p in pvals_mean]\n",
    "\n",
    "# print(x_roc_kde, y_roc_kde)\n",
    "plt.plot(x_prc_mean, y_prc_mean, '.-')\n",
    "plt.plot(results_mean_final[optimum]['recall'], results_mean_final[optimum]['prec'], '.-r')\n",
    "plt.xlabel('Recall')\n",
    "plt.ylabel('Precision')\n",
    "plt.title('PRC Curve')\n",
    "\n",
    "plt.show()\n",
    "\n",
    "\n",
    "print(\"confusion matrix: \\n\", results_mean_final[optimum][\"cm\"])\n",
    "print(\"precision: \", results_mean_final[optimum][\"prec\"])\n",
    "print(\"recall: \", results_mean_final[optimum][\"recall\"])\n",
    "print(\"f1 score: \", results_mean_final[optimum][\"f1\"])\n",
    "print(\"false positive rate\", results_mean_final[optimum][\"false_pos\"])\n",
    "\n",
    "# print(\"confusion matrix: \\n\", results_mean_final[\"total\"][\"cm\"])\n",
    "# print(\"precision: \", results_mean_final[\"total\"][\"prec\"])\n",
    "# print(\"recall: \", results_mean_final[\"total\"][\"recall\"])\n",
    "# print(\"f1 score: \", results_mean_final[\"total\"][\"f1\"])\n",
    "# print(\"false positive rate\", results_mean_final[\"total\"][\"false_pos\"])"
   ]
  },
  {
   "cell_type": "code",
   "execution_count": 23,
   "metadata": {},
   "outputs": [],
   "source": [
    "# training_dict\n",
    "# df_aggregation[0]"
   ]
  },
  {
   "cell_type": "markdown",
   "metadata": {},
   "source": [
    "## Method 4: Binning"
   ]
  },
  {
   "cell_type": "code",
   "execution_count": 21,
   "metadata": {},
   "outputs": [],
   "source": [
    "reload(helper_functions)\n",
    "\n",
    "# # The above dictionary informed our decision for how to write our alert_by_bin function\n",
    "# # Now we get results using that function\n",
    "# helper_functions.get_results_binning(df_aggregation, training_dict, 6) # 10 seconds\n",
    "\n",
    "# helper_functions.get_results_binning_various_p(df_aggregation, training_dict, 6) # 10 seconds\n",
    "\n",
    "results_binning_final = helper_functions.unpickle(os.path.dirname(os.getcwd()) + \"/results_binning_final.pkl\") "
   ]
  },
  {
   "cell_type": "code",
   "execution_count": 22,
   "metadata": {},
   "outputs": [
    {
     "name": "stdout",
     "output_type": "stream",
     "text": [
      "1.0 nan\n",
      "1.5 nan\n",
      "2.0 nan\n",
      "2.5 0.013244821753422908\n",
      "3.0 0.6583461658572306\n",
      "3.5 0.9889276161141283\n",
      "4.0 0.9886859258067112\n",
      "4.5 0.987513258123614\n",
      "5.0 0.9852749032087404\n",
      "5.5 0.9572018959116487\n",
      "6.0 0.12249181320262333\n",
      "6.5 0.0750355874707707\n",
      "7.0 0.07499935991767931\n",
      "7.5 0.07495407897502444\n",
      "8.0 0.07495357666795012\n",
      "8.5 0.07495330268511084\n",
      "9.0 0.07495330268511084\n",
      "9.5 0.0749530743676082\n",
      "10.0 0.0749530743676082\n"
     ]
    },
    {
     "data": {
      "image/png": "[encoded data removed]",
      "text/plain": [
       "<Figure size 432x288 with 1 Axes>"
      ]
     },
     "metadata": {
      "needs_background": "light"
     },
     "output_type": "display_data"
    },
    {
     "data": {
      "image/png": "[encoded data removed]",
      "text/plain": [
       "<Figure size 432x288 with 1 Axes>"
      ]
     },
     "metadata": {
      "needs_background": "light"
     },
     "output_type": "display_data"
    },
    {
     "name": "stdout",
     "output_type": "stream",
     "text": [
      "confusion matrix: \n",
      " [[1525895     852]\n",
      " [    514   61002]]\n",
      "precision:  0.9862256280919585\n",
      "recall:  0.9916444502243319\n",
      "f1 score:  0.9889276161141283\n",
      "false positive rate 0.0005580492380204447\n"
     ]
    }
   ],
   "source": [
    "pvals_binning = np.linspace(1, 10, 19) # 0, 4\n",
    "# print(len(pvals_binning), pvals_binning)\n",
    "\n",
    "for pval in pvals_binning:\n",
    "    print(pval, results_binning_final[pval][\"f1\"])\n",
    "    \n",
    "optimum = 3.5\n",
    "\n",
    "## Generate ROC curve\n",
    "x_roc_binning = [results_binning_final[p]['false_pos'] for p in pvals_binning]\n",
    "y_roc_binning = [results_binning_final[p]['recall'] for p in pvals_binning]\n",
    "\n",
    "plt.plot(x_roc_binning, y_roc_binning, '.-')\n",
    "plt.plot(results_binning_final[optimum]['false_pos'], results_binning_final[optimum]['recall'], '.-r')\n",
    "plt.xlabel('False Positive Rate')\n",
    "plt.ylabel('Recall')\n",
    "plt.title('ROC Curve')\n",
    "\n",
    "plt.show()\n",
    "\n",
    "\n",
    "# Can use this dictionary to generate PRC curve\n",
    "x_prc_binning = [results_binning_final[p]['recall'] for p in pvals_binning]\n",
    "y_prc_binning = [results_binning_final[p]['prec'] for p in pvals_binning]\n",
    "\n",
    "# print(x_roc_kde, y_roc_kde)\n",
    "plt.plot(x_prc_binning, y_prc_binning, '.-')\n",
    "plt.plot(results_binning_final[optimum]['recall'], results_binning_final[optimum]['prec'], '.-r')\n",
    "plt.xlabel('Recall')\n",
    "plt.ylabel('Precision')\n",
    "plt.title('PRC Curve')\n",
    "\n",
    "plt.show()\n",
    "\n",
    "\n",
    "print(\"confusion matrix: \\n\", results_binning_final[optimum][\"cm\"])\n",
    "print(\"precision: \", results_binning_final[optimum][\"prec\"])\n",
    "print(\"recall: \", results_binning_final[optimum][\"recall\"])\n",
    "print(\"f1 score: \", results_binning_final[optimum][\"f1\"])\n",
    "print(\"false positive rate\", results_binning_final[optimum][\"false_pos\"])\n",
    "\n",
    "# print(\"confusion matrix: \\n\", results_binning_final[\"total\"][\"cm\"])\n",
    "# print(\"precision: \", results_binning_final[\"total\"][\"prec\"])\n",
    "# print(\"recall: \", results_binning_final[\"total\"][\"recall\"])\n",
    "# print(\"f1 score: \", results_binning_final[\"total\"][\"f1\"])\n",
    "# print(\"false positive rate\", results_binning_final[\"total\"][\"false_pos\"])"
   ]
  },
  {
   "cell_type": "code",
   "execution_count": 28,
   "metadata": {},
   "outputs": [
    {
     "data": {
      "text/html": [
       "<div>\n",
       "<style scoped>\n",
       "    .dataframe tbody tr th:only-of-type {\n",
       "        vertical-align: middle;\n",
       "    }\n",
       "\n",
       "    .dataframe tbody tr th {\n",
       "        vertical-align: top;\n",
       "    }\n",
       "\n",
       "    .dataframe thead th {\n",
       "        text-align: right;\n",
       "    }\n",
       "</style>\n",
       "<table border=\"1\" class=\"dataframe\">\n",
       "  <thead>\n",
       "    <tr style=\"text-align: right;\">\n",
       "      <th></th>\n",
       "      <th>time</th>\n",
       "      <th>aid</th>\n",
       "      <th>data</th>\n",
       "      <th>time_diffs</th>\n",
       "      <th>actual_attack</th>\n",
       "      <th>predicted_attack</th>\n",
       "      <th>alert_window</th>\n",
       "    </tr>\n",
       "  </thead>\n",
       "  <tbody>\n",
       "    <tr>\n",
       "      <th>3125</th>\n",
       "      <td>1.308188</td>\n",
       "      <td>6</td>\n",
       "      <td>0800006400000000</td>\n",
       "      <td>0.999026</td>\n",
       "      <td>False</td>\n",
       "      <td>False</td>\n",
       "      <td>False</td>\n",
       "    </tr>\n",
       "    <tr>\n",
       "      <th>5520</th>\n",
       "      <td>2.309099</td>\n",
       "      <td>6</td>\n",
       "      <td>0800006400000000</td>\n",
       "      <td>1.000911</td>\n",
       "      <td>False</td>\n",
       "      <td>False</td>\n",
       "      <td>False</td>\n",
       "    </tr>\n",
       "    <tr>\n",
       "      <th>7912</th>\n",
       "      <td>3.309113</td>\n",
       "      <td>6</td>\n",
       "      <td>0800006400000000</td>\n",
       "      <td>1.000014</td>\n",
       "      <td>False</td>\n",
       "      <td>False</td>\n",
       "      <td>False</td>\n",
       "    </tr>\n",
       "    <tr>\n",
       "      <th>10304</th>\n",
       "      <td>4.309146</td>\n",
       "      <td>6</td>\n",
       "      <td>0800006400000000</td>\n",
       "      <td>1.000033</td>\n",
       "      <td>False</td>\n",
       "      <td>False</td>\n",
       "      <td>False</td>\n",
       "    </tr>\n",
       "    <tr>\n",
       "      <th>12695</th>\n",
       "      <td>5.308893</td>\n",
       "      <td>6</td>\n",
       "      <td>0800006400000000</td>\n",
       "      <td>0.999747</td>\n",
       "      <td>False</td>\n",
       "      <td>False</td>\n",
       "      <td>False</td>\n",
       "    </tr>\n",
       "    <tr>\n",
       "      <th>...</th>\n",
       "      <td>...</td>\n",
       "      <td>...</td>\n",
       "      <td>...</td>\n",
       "      <td>...</td>\n",
       "      <td>...</td>\n",
       "      <td>...</td>\n",
       "      <td>...</td>\n",
       "    </tr>\n",
       "    <tr>\n",
       "      <th>139722</th>\n",
       "      <td>57.415475</td>\n",
       "      <td>1788</td>\n",
       "      <td>0000075570B75820</td>\n",
       "      <td>0.099969</td>\n",
       "      <td>False</td>\n",
       "      <td>False</td>\n",
       "      <td>False</td>\n",
       "    </tr>\n",
       "    <tr>\n",
       "      <th>139958</th>\n",
       "      <td>57.515468</td>\n",
       "      <td>1788</td>\n",
       "      <td>00000755F0B75820</td>\n",
       "      <td>0.099993</td>\n",
       "      <td>False</td>\n",
       "      <td>False</td>\n",
       "      <td>False</td>\n",
       "    </tr>\n",
       "    <tr>\n",
       "      <th>140196</th>\n",
       "      <td>57.615419</td>\n",
       "      <td>1788</td>\n",
       "      <td>00000755B0B75820</td>\n",
       "      <td>0.099951</td>\n",
       "      <td>False</td>\n",
       "      <td>False</td>\n",
       "      <td>False</td>\n",
       "    </tr>\n",
       "    <tr>\n",
       "      <th>140438</th>\n",
       "      <td>57.715422</td>\n",
       "      <td>1788</td>\n",
       "      <td>0000075570B75820</td>\n",
       "      <td>0.100003</td>\n",
       "      <td>False</td>\n",
       "      <td>False</td>\n",
       "      <td>False</td>\n",
       "    </tr>\n",
       "    <tr>\n",
       "      <th>140674</th>\n",
       "      <td>57.815373</td>\n",
       "      <td>1788</td>\n",
       "      <td>0000075610B75820</td>\n",
       "      <td>0.099951</td>\n",
       "      <td>False</td>\n",
       "      <td>False</td>\n",
       "      <td>False</td>\n",
       "    </tr>\n",
       "  </tbody>\n",
       "</table>\n",
       "<p>132011 rows × 7 columns</p>\n",
       "</div>"
      ],
      "text/plain": [
       "             time   aid              data  time_diffs  actual_attack  \\\n",
       "3125     1.308188     6  0800006400000000    0.999026          False   \n",
       "5520     2.309099     6  0800006400000000    1.000911          False   \n",
       "7912     3.309113     6  0800006400000000    1.000014          False   \n",
       "10304    4.309146     6  0800006400000000    1.000033          False   \n",
       "12695    5.308893     6  0800006400000000    0.999747          False   \n",
       "...           ...   ...               ...         ...            ...   \n",
       "139722  57.415475  1788  0000075570B75820    0.099969          False   \n",
       "139958  57.515468  1788  00000755F0B75820    0.099993          False   \n",
       "140196  57.615419  1788  00000755B0B75820    0.099951          False   \n",
       "140438  57.715422  1788  0000075570B75820    0.100003          False   \n",
       "140674  57.815373  1788  0000075610B75820    0.099951          False   \n",
       "\n",
       "        predicted_attack  alert_window  \n",
       "3125               False         False  \n",
       "5520               False         False  \n",
       "7912               False         False  \n",
       "10304              False         False  \n",
       "12695              False         False  \n",
       "...                  ...           ...  \n",
       "139722             False         False  \n",
       "139958             False         False  \n",
       "140196             False         False  \n",
       "140438             False         False  \n",
       "140674             False         False  \n",
       "\n",
       "[132011 rows x 7 columns]"
      ]
     },
     "execution_count": 28,
     "metadata": {},
     "output_type": "execute_result"
    }
   ],
   "source": [
    "df_aggregation[0]"
   ]
  },
  {
   "cell_type": "markdown",
   "metadata": {},
   "source": [
    "## Method 3: Gaussian"
   ]
  },
  {
   "cell_type": "code",
   "execution_count": 29,
   "metadata": {},
   "outputs": [
    {
     "name": "stderr",
     "output_type": "stream",
     "text": [
      "  0%|          | 0/34 [00:00<?, ?it/s]\n",
      "  0%|          | 0/105 [00:00<?, ?it/s]\u001b[A\n",
      "100%|██████████| 105/105 [00:00<00:00, 757.44it/s][A\n",
      " 15%|█▍        | 5/34 [00:00<00:00, 34.71it/s]\n",
      "  0%|          | 0/105 [00:00<?, ?it/s]\u001b[A"
     ]
    },
    {
     "name": "stdout",
     "output_type": "stream",
     "text": [
      "reverse_light_off_attack_3.log\n",
      "max_speedometer_attack_2.log\n"
     ]
    },
    {
     "name": "stderr",
     "output_type": "stream",
     "text": [
      "\n",
      "100%|██████████| 105/105 [00:00<00:00, 771.41it/s][A\n",
      " 21%|██        | 7/34 [00:00<00:01, 23.79it/s]\n",
      "  0%|          | 0/105 [00:00<?, ?it/s]\u001b[A\n",
      "100%|██████████| 105/105 [00:00<00:00, 821.18it/s][A\n",
      " 26%|██▋       | 9/34 [00:00<00:01, 20.10it/s]\n",
      "  0%|          | 0/105 [00:00<?, ?it/s]\u001b[A"
     ]
    },
    {
     "name": "stdout",
     "output_type": "stream",
     "text": [
      "max_speedometer_attack_3.log\n",
      "reverse_light_on_attack_3.log\n"
     ]
    },
    {
     "name": "stderr",
     "output_type": "stream",
     "text": [
      "\n",
      "100%|██████████| 105/105 [00:00<00:00, 871.14it/s][A\n",
      " 32%|███▏      | 11/34 [00:00<00:01, 18.67it/s]\n",
      "100%|██████████| 104/104 [00:00<00:00, 1414.25it/s]\n",
      "\n",
      "100%|██████████| 105/105 [00:00<00:00, 1191.81it/s]\n",
      " 47%|████▋     | 16/34 [00:00<00:00, 20.99it/s]\n",
      "  0%|          | 0/105 [00:00<?, ?it/s]\u001b[A"
     ]
    },
    {
     "name": "stdout",
     "output_type": "stream",
     "text": [
      "fuzzing_attack_3.log\n",
      "correlated_signal_attack_2.log\n",
      "fuzzing_attack_1.log\n"
     ]
    },
    {
     "name": "stderr",
     "output_type": "stream",
     "text": [
      "100%|██████████| 105/105 [00:00<00:00, 1238.84it/s]\n",
      "\n",
      "100%|██████████| 104/104 [00:00<00:00, 1299.07it/s]\n",
      " 53%|█████▎    | 18/34 [00:00<00:00, 16.92it/s]\n",
      "  0%|          | 0/105 [00:00<?, ?it/s]\u001b[A\n",
      " 78%|███████▊  | 82/105 [00:00<00:00, 807.08it/s]\u001b[A"
     ]
    },
    {
     "name": "stdout",
     "output_type": "stream",
     "text": [
      "correlated_signal_attack_3.log\n",
      "reverse_light_on_attack_1.log\n"
     ]
    },
    {
     "name": "stderr",
     "output_type": "stream",
     "text": [
      "100%|██████████| 105/105 [00:00<00:00, 672.69it/s]\n",
      "\n",
      "  0%|          | 0/105 [00:00<?, ?it/s]\u001b[A\n",
      "100%|██████████| 105/105 [00:00<00:00, 656.76it/s][A\n",
      " 59%|█████▉    | 20/34 [00:01<00:01, 10.99it/s]\n",
      "  0%|          | 0/105 [00:00<?, ?it/s]\u001b[A"
     ]
    },
    {
     "name": "stdout",
     "output_type": "stream",
     "text": [
      "reverse_light_off_attack_1.log\n",
      "correlated_signal_attack_1.log\n"
     ]
    },
    {
     "name": "stderr",
     "output_type": "stream",
     "text": [
      "100%|██████████| 105/105 [00:00<00:00, 1103.54it/s]\n",
      " 74%|███████▎  | 25/34 [00:01<00:00, 14.34it/s]\n",
      "100%|██████████| 105/105 [00:00<00:00, 1167.82it/s]\n",
      "\n",
      "100%|██████████| 105/105 [00:00<00:00, 1334.06it/s]\n",
      " 82%|████████▏ | 28/34 [00:01<00:00, 15.05it/s]\n",
      "  0%|          | 0/105 [00:00<?, ?it/s]\u001b[A"
     ]
    },
    {
     "name": "stdout",
     "output_type": "stream",
     "text": [
      "reverse_light_off_attack_2.log\n",
      "max_engine_coolant_temp_attack.log\n",
      "max_speedometer_attack_1.log\n"
     ]
    },
    {
     "name": "stderr",
     "output_type": "stream",
     "text": [
      "\n",
      "100%|██████████| 105/105 [00:00<00:00, 930.70it/s][A\n",
      " 91%|█████████ | 31/34 [00:01<00:00, 17.11it/s]\n",
      "100%|██████████| 105/105 [00:00<00:00, 1050.57it/s]\n",
      "\n",
      "100%|██████████| 105/105 [00:00<00:00, 1337.57it/s]\n",
      "100%|██████████| 34/34 [00:01<00:00, 18.83it/s]"
     ]
    },
    {
     "name": "stdout",
     "output_type": "stream",
     "text": [
      "reverse_light_on_attack_2.log\n",
      "fuzzing_attack_2.log\n"
     ]
    },
    {
     "name": "stderr",
     "output_type": "stream",
     "text": [
      "\n"
     ]
    }
   ],
   "source": [
    "reload(helper_functions)\n",
    "\n",
    "with open(\"capture_metadata.json\", \"r\") as read_file:\n",
    "    attack_dict = json.load(read_file)\n",
    "\n",
    "count = 0\n",
    "for file_name in tqdm(os.listdir(\".\")):\n",
    "    \n",
    "    if \"masquerade\" not in file_name and \"accelerator\" not in file_name and \"metadata\" not in file_name:\n",
    "    # if \"masquerade\" not in file_name and \"accelerator\" not in file_name and \"fuzzing\" not in file_name and \"metadata\" not in file_name:\n",
    "        print(file_name)\n",
    "        \n",
    "        # print(attack_dict[file_name[:-4]][\"injection_id\"], int(attack_dict[file_name[:-4]][\"injection_id\"], 16), attack_dict[file_name[:-4]][\"injection_data_str\"])\n",
    "        \n",
    "        # Adds column to df with the value of the Guassian approximation at each time_diff in the df\n",
    "        df_aggregation[count] = helper_functions.add_gauss_val_col(df_aggregation[count], training_dict)                                                   \n",
    "        \n",
    "        count += 1"
   ]
  },
  {
   "cell_type": "code",
   "execution_count": 30,
   "metadata": {},
   "outputs": [
    {
     "data": {
      "text/html": [
       "<div>\n",
       "<style scoped>\n",
       "    .dataframe tbody tr th:only-of-type {\n",
       "        vertical-align: middle;\n",
       "    }\n",
       "\n",
       "    .dataframe tbody tr th {\n",
       "        vertical-align: top;\n",
       "    }\n",
       "\n",
       "    .dataframe thead th {\n",
       "        text-align: right;\n",
       "    }\n",
       "</style>\n",
       "<table border=\"1\" class=\"dataframe\">\n",
       "  <thead>\n",
       "    <tr style=\"text-align: right;\">\n",
       "      <th></th>\n",
       "      <th>time</th>\n",
       "      <th>aid</th>\n",
       "      <th>data</th>\n",
       "      <th>time_diffs</th>\n",
       "      <th>actual_attack</th>\n",
       "      <th>predicted_attack</th>\n",
       "      <th>alert_window</th>\n",
       "      <th>gauss_val</th>\n",
       "    </tr>\n",
       "  </thead>\n",
       "  <tbody>\n",
       "    <tr>\n",
       "      <th>3125</th>\n",
       "      <td>1.308188</td>\n",
       "      <td>6</td>\n",
       "      <td>0800006400000000</td>\n",
       "      <td>0.999026</td>\n",
       "      <td>False</td>\n",
       "      <td>False</td>\n",
       "      <td>False</td>\n",
       "      <td>0.805905</td>\n",
       "    </tr>\n",
       "    <tr>\n",
       "      <th>5520</th>\n",
       "      <td>2.309099</td>\n",
       "      <td>6</td>\n",
       "      <td>0800006400000000</td>\n",
       "      <td>1.000911</td>\n",
       "      <td>False</td>\n",
       "      <td>False</td>\n",
       "      <td>False</td>\n",
       "      <td>0.806001</td>\n",
       "    </tr>\n",
       "    <tr>\n",
       "      <th>7912</th>\n",
       "      <td>3.309113</td>\n",
       "      <td>6</td>\n",
       "      <td>0800006400000000</td>\n",
       "      <td>1.000014</td>\n",
       "      <td>False</td>\n",
       "      <td>False</td>\n",
       "      <td>False</td>\n",
       "      <td>0.805957</td>\n",
       "    </tr>\n",
       "    <tr>\n",
       "      <th>10304</th>\n",
       "      <td>4.309146</td>\n",
       "      <td>6</td>\n",
       "      <td>0800006400000000</td>\n",
       "      <td>1.000033</td>\n",
       "      <td>False</td>\n",
       "      <td>False</td>\n",
       "      <td>False</td>\n",
       "      <td>0.805958</td>\n",
       "    </tr>\n",
       "    <tr>\n",
       "      <th>12695</th>\n",
       "      <td>5.308893</td>\n",
       "      <td>6</td>\n",
       "      <td>0800006400000000</td>\n",
       "      <td>0.999747</td>\n",
       "      <td>False</td>\n",
       "      <td>False</td>\n",
       "      <td>False</td>\n",
       "      <td>0.805943</td>\n",
       "    </tr>\n",
       "    <tr>\n",
       "      <th>...</th>\n",
       "      <td>...</td>\n",
       "      <td>...</td>\n",
       "      <td>...</td>\n",
       "      <td>...</td>\n",
       "      <td>...</td>\n",
       "      <td>...</td>\n",
       "      <td>...</td>\n",
       "      <td>...</td>\n",
       "    </tr>\n",
       "    <tr>\n",
       "      <th>139722</th>\n",
       "      <td>57.415475</td>\n",
       "      <td>1788</td>\n",
       "      <td>0000075570B75820</td>\n",
       "      <td>0.099969</td>\n",
       "      <td>False</td>\n",
       "      <td>False</td>\n",
       "      <td>False</td>\n",
       "      <td>50.935240</td>\n",
       "    </tr>\n",
       "    <tr>\n",
       "      <th>139958</th>\n",
       "      <td>57.515468</td>\n",
       "      <td>1788</td>\n",
       "      <td>00000755F0B75820</td>\n",
       "      <td>0.099993</td>\n",
       "      <td>False</td>\n",
       "      <td>False</td>\n",
       "      <td>False</td>\n",
       "      <td>50.937446</td>\n",
       "    </tr>\n",
       "    <tr>\n",
       "      <th>140196</th>\n",
       "      <td>57.615419</td>\n",
       "      <td>1788</td>\n",
       "      <td>00000755B0B75820</td>\n",
       "      <td>0.099951</td>\n",
       "      <td>False</td>\n",
       "      <td>False</td>\n",
       "      <td>False</td>\n",
       "      <td>50.933233</td>\n",
       "    </tr>\n",
       "    <tr>\n",
       "      <th>140438</th>\n",
       "      <td>57.715422</td>\n",
       "      <td>1788</td>\n",
       "      <td>0000075570B75820</td>\n",
       "      <td>0.100003</td>\n",
       "      <td>False</td>\n",
       "      <td>False</td>\n",
       "      <td>False</td>\n",
       "      <td>50.938278</td>\n",
       "    </tr>\n",
       "    <tr>\n",
       "      <th>140674</th>\n",
       "      <td>57.815373</td>\n",
       "      <td>1788</td>\n",
       "      <td>0000075610B75820</td>\n",
       "      <td>0.099951</td>\n",
       "      <td>False</td>\n",
       "      <td>False</td>\n",
       "      <td>False</td>\n",
       "      <td>50.933233</td>\n",
       "    </tr>\n",
       "  </tbody>\n",
       "</table>\n",
       "<p>132011 rows × 8 columns</p>\n",
       "</div>"
      ],
      "text/plain": [
       "             time   aid              data  time_diffs  actual_attack  \\\n",
       "3125     1.308188     6  0800006400000000    0.999026          False   \n",
       "5520     2.309099     6  0800006400000000    1.000911          False   \n",
       "7912     3.309113     6  0800006400000000    1.000014          False   \n",
       "10304    4.309146     6  0800006400000000    1.000033          False   \n",
       "12695    5.308893     6  0800006400000000    0.999747          False   \n",
       "...           ...   ...               ...         ...            ...   \n",
       "139722  57.415475  1788  0000075570B75820    0.099969          False   \n",
       "139958  57.515468  1788  00000755F0B75820    0.099993          False   \n",
       "140196  57.615419  1788  00000755B0B75820    0.099951          False   \n",
       "140438  57.715422  1788  0000075570B75820    0.100003          False   \n",
       "140674  57.815373  1788  0000075610B75820    0.099951          False   \n",
       "\n",
       "        predicted_attack  alert_window  gauss_val  \n",
       "3125               False         False   0.805905  \n",
       "5520               False         False   0.806001  \n",
       "7912               False         False   0.805957  \n",
       "10304              False         False   0.805958  \n",
       "12695              False         False   0.805943  \n",
       "...                  ...           ...        ...  \n",
       "139722             False         False  50.935240  \n",
       "139958             False         False  50.937446  \n",
       "140196             False         False  50.933233  \n",
       "140438             False         False  50.938278  \n",
       "140674             False         False  50.933233  \n",
       "\n",
       "[132011 rows x 8 columns]"
      ]
     },
     "execution_count": 30,
     "metadata": {},
     "output_type": "execute_result"
    }
   ],
   "source": [
    "df_aggregation[0]"
   ]
  },
  {
   "cell_type": "code",
   "execution_count": 31,
   "metadata": {},
   "outputs": [
    {
     "name": "stderr",
     "output_type": "stream",
     "text": [
      "  0%|          | 0/105 [00:00<?, ?it/s]"
     ]
    },
    {
     "name": "stdout",
     "output_type": "stream",
     "text": [
      "[0.001, 0.002, 0.003, 0.004, 0.005, 0.006, 0.007, 0.008, 0.009000000000000001, 0.01, 0.02, 0.03, 0.04, 0.05, 0.060000000000000005, 0.06999999999999999, 0.08, 0.09]\n"
     ]
    },
    {
     "name": "stderr",
     "output_type": "stream",
     "text": [
      "100%|██████████| 105/105 [07:45<00:00,  4.43s/it]\n"
     ]
    }
   ],
   "source": [
    "reload(helper_functions)\n",
    "\n",
    "# Decide which pvalues to test with the Gaussain approximation\n",
    "pvals_gauss = sorted(list(np.arange(0.001, 0.01, 0.001)) + list(np.arange(0.01, 0.1, 0.01)))\n",
    "print(pvals_gauss)\n",
    "\n",
    "\n",
    "# pvals_gauss = list(np.arange(0.0001, 0.0011, 0.0001))\n",
    "# print(pvals_gauss)\n",
    "\n",
    "# # Fill each 'y_thresholds_gauss' dictionary with p values and their corresponding y_thresholds\n",
    "# # After this has been done once, we don't need to do it again since it has been pickled.\n",
    "# # Commenting out the code to avoid rewriting the data we have.\n",
    "\n",
    "for aid in tqdm(df_training.aid.unique()):\n",
    "    \n",
    "    training_dict[aid]['y_thresholds_gauss'] = {}\n",
    "    for p in pvals_gauss:\n",
    "        helper_functions.y_threshold_gauss(training_dict, aid, p)\n",
    "        \n",
    "# helper_functions.picklify(training_dict, os.path.dirname(os.getcwd()) + \"/training_dict.pkl\")"
   ]
  },
  {
   "cell_type": "code",
   "execution_count": 32,
   "metadata": {},
   "outputs": [
    {
     "data": {
      "text/plain": [
       "{'mu': 0.8426860569973229,\n",
       " 'std': 0.583658680382735,\n",
       " 'kde': <scipy.stats.kde.gaussian_kde at 0x7faab9892a20>,\n",
       " 'gauss': <scipy.stats._distn_infrastructure.rv_frozen at 0x7faab9892550>,\n",
       " 'y_thresholds_kde': {},\n",
       " 'y_thresholds_gauss': {0.001: 0.002951329256209872,\n",
       "  0.002: 0.005597139502935134,\n",
       "  0.003: 0.008304567496194947,\n",
       "  0.004: 0.010805504326826233,\n",
       "  0.005: 0.013186659362608292,\n",
       "  0.006: 0.015580274580388435,\n",
       "  0.007: 0.017854501551468487,\n",
       "  0.008: 0.019874860948010643,\n",
       "  0.009000000000000001: 0.022088468039994338,\n",
       "  0.01: 0.024509374185556043,\n",
       "  0.02: 0.04527729370859349,\n",
       "  0.03: 0.06350100065934332,\n",
       "  0.04: 0.08189645162262159,\n",
       "  0.05: 0.10012863047821605,\n",
       "  0.060000000000000005: 0.11457225410486463,\n",
       "  0.06999999999999999: 0.13045856466366773,\n",
       "  0.08: 0.14524989374345582,\n",
       "  0.09: 0.16113711752767207}}"
      ]
     },
     "execution_count": 32,
     "metadata": {},
     "output_type": "execute_result"
    }
   ],
   "source": [
    "helper_functions.picklify(training_dict, os.path.dirname(os.getcwd()) + \"/training_dict.pkl\")\n",
    "training_dict[37]"
   ]
  },
  {
   "cell_type": "code",
   "execution_count": 33,
   "metadata": {},
   "outputs": [
    {
     "data": {
      "text/html": [
       "<div>\n",
       "<style scoped>\n",
       "    .dataframe tbody tr th:only-of-type {\n",
       "        vertical-align: middle;\n",
       "    }\n",
       "\n",
       "    .dataframe tbody tr th {\n",
       "        vertical-align: top;\n",
       "    }\n",
       "\n",
       "    .dataframe thead th {\n",
       "        text-align: right;\n",
       "    }\n",
       "</style>\n",
       "<table border=\"1\" class=\"dataframe\">\n",
       "  <thead>\n",
       "    <tr style=\"text-align: right;\">\n",
       "      <th></th>\n",
       "      <th>time</th>\n",
       "      <th>aid</th>\n",
       "      <th>data</th>\n",
       "      <th>time_diffs</th>\n",
       "      <th>actual_attack</th>\n",
       "      <th>predicted_attack</th>\n",
       "      <th>alert_window</th>\n",
       "      <th>gauss_val</th>\n",
       "    </tr>\n",
       "  </thead>\n",
       "  <tbody>\n",
       "    <tr>\n",
       "      <th>3125</th>\n",
       "      <td>1.308188</td>\n",
       "      <td>6</td>\n",
       "      <td>0800006400000000</td>\n",
       "      <td>0.999026</td>\n",
       "      <td>False</td>\n",
       "      <td>False</td>\n",
       "      <td>False</td>\n",
       "      <td>0.805905</td>\n",
       "    </tr>\n",
       "    <tr>\n",
       "      <th>5520</th>\n",
       "      <td>2.309099</td>\n",
       "      <td>6</td>\n",
       "      <td>0800006400000000</td>\n",
       "      <td>1.000911</td>\n",
       "      <td>False</td>\n",
       "      <td>False</td>\n",
       "      <td>False</td>\n",
       "      <td>0.806001</td>\n",
       "    </tr>\n",
       "    <tr>\n",
       "      <th>7912</th>\n",
       "      <td>3.309113</td>\n",
       "      <td>6</td>\n",
       "      <td>0800006400000000</td>\n",
       "      <td>1.000014</td>\n",
       "      <td>False</td>\n",
       "      <td>False</td>\n",
       "      <td>False</td>\n",
       "      <td>0.805957</td>\n",
       "    </tr>\n",
       "    <tr>\n",
       "      <th>10304</th>\n",
       "      <td>4.309146</td>\n",
       "      <td>6</td>\n",
       "      <td>0800006400000000</td>\n",
       "      <td>1.000033</td>\n",
       "      <td>False</td>\n",
       "      <td>False</td>\n",
       "      <td>False</td>\n",
       "      <td>0.805958</td>\n",
       "    </tr>\n",
       "    <tr>\n",
       "      <th>12695</th>\n",
       "      <td>5.308893</td>\n",
       "      <td>6</td>\n",
       "      <td>0800006400000000</td>\n",
       "      <td>0.999747</td>\n",
       "      <td>False</td>\n",
       "      <td>False</td>\n",
       "      <td>False</td>\n",
       "      <td>0.805943</td>\n",
       "    </tr>\n",
       "    <tr>\n",
       "      <th>...</th>\n",
       "      <td>...</td>\n",
       "      <td>...</td>\n",
       "      <td>...</td>\n",
       "      <td>...</td>\n",
       "      <td>...</td>\n",
       "      <td>...</td>\n",
       "      <td>...</td>\n",
       "      <td>...</td>\n",
       "    </tr>\n",
       "    <tr>\n",
       "      <th>139722</th>\n",
       "      <td>57.415475</td>\n",
       "      <td>1788</td>\n",
       "      <td>0000075570B75820</td>\n",
       "      <td>0.099969</td>\n",
       "      <td>False</td>\n",
       "      <td>False</td>\n",
       "      <td>False</td>\n",
       "      <td>50.935240</td>\n",
       "    </tr>\n",
       "    <tr>\n",
       "      <th>139958</th>\n",
       "      <td>57.515468</td>\n",
       "      <td>1788</td>\n",
       "      <td>00000755F0B75820</td>\n",
       "      <td>0.099993</td>\n",
       "      <td>False</td>\n",
       "      <td>False</td>\n",
       "      <td>False</td>\n",
       "      <td>50.937446</td>\n",
       "    </tr>\n",
       "    <tr>\n",
       "      <th>140196</th>\n",
       "      <td>57.615419</td>\n",
       "      <td>1788</td>\n",
       "      <td>00000755B0B75820</td>\n",
       "      <td>0.099951</td>\n",
       "      <td>False</td>\n",
       "      <td>False</td>\n",
       "      <td>False</td>\n",
       "      <td>50.933233</td>\n",
       "    </tr>\n",
       "    <tr>\n",
       "      <th>140438</th>\n",
       "      <td>57.715422</td>\n",
       "      <td>1788</td>\n",
       "      <td>0000075570B75820</td>\n",
       "      <td>0.100003</td>\n",
       "      <td>False</td>\n",
       "      <td>False</td>\n",
       "      <td>False</td>\n",
       "      <td>50.938278</td>\n",
       "    </tr>\n",
       "    <tr>\n",
       "      <th>140674</th>\n",
       "      <td>57.815373</td>\n",
       "      <td>1788</td>\n",
       "      <td>0000075610B75820</td>\n",
       "      <td>0.099951</td>\n",
       "      <td>False</td>\n",
       "      <td>False</td>\n",
       "      <td>False</td>\n",
       "      <td>50.933233</td>\n",
       "    </tr>\n",
       "  </tbody>\n",
       "</table>\n",
       "<p>132011 rows × 8 columns</p>\n",
       "</div>"
      ],
      "text/plain": [
       "             time   aid              data  time_diffs  actual_attack  \\\n",
       "3125     1.308188     6  0800006400000000    0.999026          False   \n",
       "5520     2.309099     6  0800006400000000    1.000911          False   \n",
       "7912     3.309113     6  0800006400000000    1.000014          False   \n",
       "10304    4.309146     6  0800006400000000    1.000033          False   \n",
       "12695    5.308893     6  0800006400000000    0.999747          False   \n",
       "...           ...   ...               ...         ...            ...   \n",
       "139722  57.415475  1788  0000075570B75820    0.099969          False   \n",
       "139958  57.515468  1788  00000755F0B75820    0.099993          False   \n",
       "140196  57.615419  1788  00000755B0B75820    0.099951          False   \n",
       "140438  57.715422  1788  0000075570B75820    0.100003          False   \n",
       "140674  57.815373  1788  0000075610B75820    0.099951          False   \n",
       "\n",
       "        predicted_attack  alert_window  gauss_val  \n",
       "3125               False         False   0.805905  \n",
       "5520               False         False   0.806001  \n",
       "7912               False         False   0.805957  \n",
       "10304              False         False   0.805958  \n",
       "12695              False         False   0.805943  \n",
       "...                  ...           ...        ...  \n",
       "139722             False         False  50.935240  \n",
       "139958             False         False  50.937446  \n",
       "140196             False         False  50.933233  \n",
       "140438             False         False  50.938278  \n",
       "140674             False         False  50.933233  \n",
       "\n",
       "[132011 rows x 8 columns]"
      ]
     },
     "execution_count": 33,
     "metadata": {},
     "output_type": "execute_result"
    }
   ],
   "source": [
    "df_aggregation[0]"
   ]
  },
  {
   "cell_type": "code",
   "execution_count": 23,
   "metadata": {},
   "outputs": [],
   "source": [
    "reload(helper_functions)\n",
    "\n",
    "# training_dict = helper_functions.unpickle(os.path.dirname(os.getcwd()) + \"/training_dict.pkl\") \n",
    "# helper_functions.get_results_gauss(df_aggregation, training_dict)\n",
    "\n",
    "results_gauss_final = helper_functions.unpickle(os.path.dirname(os.getcwd()) + \"/results_gauss_final.pkl\") "
   ]
  },
  {
   "cell_type": "code",
   "execution_count": 24,
   "metadata": {},
   "outputs": [
    {
     "name": "stdout",
     "output_type": "stream",
     "text": [
      "0.001 0.03639265262696749\n",
      "0.002 0.05844415097816407\n",
      "0.003 0.06541147889462495\n",
      "0.004 0.07215329182433554\n",
      "0.005 0.07682047746789156\n",
      "0.006 0.08559269069372936\n",
      "0.007 0.1072985948993525\n",
      "0.008 0.1142489997371572\n",
      "0.009000000000000001 0.12067763119660604\n",
      "0.01 0.13044669772540424\n",
      "0.02 0.1559448275862069\n",
      "0.03 0.18835576284214228\n",
      "0.04 0.20645754851864284\n",
      "0.05 0.2312649862565062\n",
      "0.060000000000000005 0.2449363264027215\n",
      "0.06999999999999999 0.25179066916177323\n",
      "0.08 0.25705879316574615\n",
      "0.09 0.25998290632267296\n"
     ]
    },
    {
     "data": {
      "image/png": "[encoded data removed]",
      "text/plain": [
       "<Figure size 432x288 with 1 Axes>"
      ]
     },
     "metadata": {
      "needs_background": "light"
     },
     "output_type": "display_data"
    },
    {
     "data": {
      "image/png": "[encoded data removed]",
      "text/plain": [
       "<Figure size 432x288 with 1 Axes>"
      ]
     },
     "metadata": {
      "needs_background": "light"
     },
     "output_type": "display_data"
    },
    {
     "name": "stdout",
     "output_type": "stream",
     "text": [
      "confusion matrix: \n",
      " [[1500721   26026]\n",
      " [  48436   13080]]\n",
      "precision:  0.33447552805196135\n",
      "recall:  0.2126276090773132\n",
      "f1 score:  0.25998290632267296\n",
      "false positive rate 0.01704670125436631\n"
     ]
    }
   ],
   "source": [
    "pvals_gauss = sorted(list(np.arange(0.001, 0.01, 0.001)) + list(np.arange(0.01, 0.1, 0.01)))\n",
    "# print(pvals_gauss)\n",
    "\n",
    "for pval in pvals_gauss:\n",
    "    print(pval, results_gauss_final[pval][\"f1\"])\n",
    "    \n",
    "optimum = 0.09\n",
    "\n",
    "## Generate ROC curve\n",
    "x_roc_gauss = [results_gauss_final[p]['false_pos'] for p in pvals_gauss]\n",
    "y_roc_gauss = [results_gauss_final[p]['recall'] for p in pvals_gauss]\n",
    "\n",
    "plt.plot(x_roc_gauss, y_roc_gauss, '.-')\n",
    "plt.plot(results_gauss_final[optimum]['false_pos'], results_gauss_final[optimum]['recall'], '.-r')\n",
    "plt.xlabel('False Positive Rate')\n",
    "plt.ylabel('Recall')\n",
    "plt.title('ROC Curve')\n",
    "\n",
    "plt.show()\n",
    "\n",
    "# Can use this dictionary to generate PRC curve\n",
    "x_prc_gauss = [results_gauss_final[p]['recall'] for p in pvals_gauss]\n",
    "y_prc_gauss = [results_gauss_final[p]['prec'] for p in pvals_gauss]\n",
    "\n",
    "# print(x_roc_kde, y_roc_kde)\n",
    "plt.plot(x_prc_gauss, y_prc_gauss, '.-')\n",
    "plt.plot(results_gauss_final[optimum]['recall'], results_gauss_final[optimum]['prec'], '.-r')\n",
    "plt.xlabel('Recall')\n",
    "plt.ylabel('Precision')\n",
    "plt.title('PRC Curve')\n",
    "\n",
    "plt.show()\n",
    "\n",
    "print(\"confusion matrix: \\n\", results_gauss_final[optimum][\"cm\"])\n",
    "print(\"precision: \", results_gauss_final[optimum][\"prec\"])\n",
    "print(\"recall: \", results_gauss_final[optimum][\"recall\"])\n",
    "print(\"f1 score: \", results_gauss_final[optimum][\"f1\"])\n",
    "print(\"false positive rate\", results_gauss_final[optimum][\"false_pos\"])"
   ]
  },
  {
   "cell_type": "markdown",
   "metadata": {},
   "source": [
    "## Total Statistics"
   ]
  },
  {
   "cell_type": "code",
   "execution_count": 38,
   "metadata": {},
   "outputs": [
    {
     "name": "stdout",
     "output_type": "stream",
     "text": [
      "[0.1 0.2 0.3 0.4 0.5 0.6 0.7 0.8 0.9 1.  2.  3.  4.  5.  6.  7.  8.  9. ]\n",
      "attacks:  61516\n",
      "benign:  1526747\n",
      "total:  1588263\n"
     ]
    }
   ],
   "source": [
    "print(100*np.array(pvals_gauss))\n",
    "\n",
    "count = 0\n",
    "total = 0\n",
    "for df in df_aggregation:\n",
    "    count += np.sum(df.actual_attack.values)\n",
    "    total += df.shape[0]\n",
    "    \n",
    "print(\"attacks: \", count)\n",
    "print(\"benign: \", total-count)\n",
    "print(\"total: \", total)"
   ]
  },
  {
   "cell_type": "markdown",
   "metadata": {},
   "source": [
    "## Method 2: KDE"
   ]
  },
  {
   "cell_type": "code",
   "execution_count": 39,
   "metadata": {},
   "outputs": [
    {
     "name": "stderr",
     "output_type": "stream",
     "text": [
      "  0%|          | 0/34 [00:00<?, ?it/s]\n",
      "  0%|          | 0/105 [00:00<?, ?it/s]\u001b[A"
     ]
    },
    {
     "name": "stdout",
     "output_type": "stream",
     "text": [
      "reverse_light_off_attack_3.log\n"
     ]
    },
    {
     "name": "stderr",
     "output_type": "stream",
     "text": [
      "\n",
      "  2%|▏         | 2/105 [01:12<1:02:13, 36.25s/it]\u001b[A\n",
      "  4%|▍         | 4/105 [02:26<1:01:20, 36.44s/it]\u001b[A\n",
      "  6%|▌         | 6/105 [02:27<42:18, 25.64s/it]  \u001b[A\n",
      "  7%|▋         | 7/105 [02:27<29:41, 18.18s/it]\u001b[A\n",
      " 10%|▉         | 10/105 [03:42<31:53, 20.14s/it]\u001b[A\n",
      " 10%|█         | 11/105 [03:46<24:19, 15.53s/it]\u001b[A\n",
      " 11%|█▏        | 12/105 [04:05<25:20, 16.35s/it]\u001b[A\n",
      " 13%|█▎        | 14/105 [05:48<40:49, 26.92s/it]\u001b[A\n",
      " 14%|█▍        | 15/105 [05:49<28:37, 19.09s/it]\u001b[A\n",
      " 16%|█▌        | 17/105 [05:49<19:47, 13.50s/it]\u001b[A\n",
      " 19%|█▉        | 20/105 [06:10<16:18, 11.51s/it]\u001b[A\n",
      " 20%|██        | 21/105 [07:30<44:43, 31.95s/it]\u001b[A\n",
      " 22%|██▏       | 23/105 [07:31<30:43, 22.48s/it]\u001b[A\n",
      " 23%|██▎       | 24/105 [07:48<28:24, 21.04s/it]\u001b[A\n",
      " 24%|██▍       | 25/105 [08:07<27:19, 20.50s/it]\u001b[A\n",
      " 25%|██▍       | 26/105 [08:27<26:49, 20.37s/it]\u001b[A\n",
      " 26%|██▌       | 27/105 [08:45<25:12, 19.40s/it]\u001b[A\n",
      " 29%|██▊       | 30/105 [08:45<16:59, 13.59s/it]\u001b[A\n",
      " 30%|██▉       | 31/105 [08:46<12:01,  9.75s/it]\u001b[A\n",
      " 30%|███       | 32/105 [08:46<08:36,  7.07s/it]\u001b[A\n",
      " 32%|███▏      | 34/105 [08:47<06:00,  5.08s/it]\u001b[A\n",
      " 33%|███▎      | 35/105 [09:07<11:02,  9.46s/it]\u001b[A\n",
      " 35%|███▌      | 37/105 [09:28<11:06,  9.80s/it]\u001b[A\n",
      " 36%|███▌      | 38/105 [09:29<07:55,  7.09s/it]\u001b[A\n",
      " 37%|███▋      | 39/105 [09:30<05:43,  5.21s/it]\u001b[A\n",
      " 39%|███▉      | 41/105 [09:48<06:48,  6.38s/it]\u001b[A\n",
      " 41%|████      | 43/105 [09:48<04:38,  4.50s/it]\u001b[A\n",
      " 42%|████▏     | 44/105 [10:06<08:45,  8.61s/it]\u001b[A\n",
      " 43%|████▎     | 45/105 [10:14<08:21,  8.37s/it]\u001b[A\n",
      " 45%|████▍     | 47/105 [10:15<05:46,  5.98s/it]\u001b[A\n",
      " 46%|████▌     | 48/105 [10:15<04:01,  4.23s/it]\u001b[A\n",
      " 48%|████▊     | 50/105 [10:16<02:51,  3.12s/it]\u001b[A\n",
      " 50%|████▉     | 52/105 [10:17<02:01,  2.29s/it]\u001b[A\n",
      " 50%|█████     | 53/105 [10:18<01:35,  1.84s/it]\u001b[A\n",
      " 51%|█████▏    | 54/105 [10:18<01:17,  1.52s/it]\u001b[A\n",
      " 52%|█████▏    | 55/105 [10:37<05:25,  6.51s/it]\u001b[A\n",
      " 53%|█████▎    | 56/105 [10:37<03:55,  4.80s/it]\u001b[A\n",
      " 55%|█████▌    | 58/105 [10:41<03:03,  3.90s/it]\u001b[A\n",
      " 56%|█████▌    | 59/105 [10:42<02:16,  2.97s/it]\u001b[A\n",
      " 57%|█████▋    | 60/105 [11:55<18:06, 24.15s/it]\u001b[A\n",
      " 58%|█████▊    | 61/105 [12:14<16:35, 22.63s/it]\u001b[A\n",
      " 62%|██████▏   | 65/105 [12:25<11:06, 16.66s/it]\u001b[A\n",
      " 63%|██████▎   | 66/105 [12:26<07:43, 11.89s/it]\u001b[A\n",
      " 64%|██████▍   | 67/105 [12:27<05:24,  8.55s/it]\u001b[A\n",
      " 66%|██████▌   | 69/105 [12:28<03:39,  6.11s/it]\u001b[A\n",
      " 67%|██████▋   | 70/105 [12:47<05:56, 10.18s/it]\u001b[A\n",
      " 68%|██████▊   | 71/105 [12:48<04:11,  7.38s/it]\u001b[A\n",
      " 69%|██████▊   | 72/105 [12:49<02:58,  5.41s/it]\u001b[A\n",
      " 70%|██████▉   | 73/105 [13:09<05:14,  9.82s/it]\u001b[A\n",
      " 70%|███████   | 74/105 [13:10<03:41,  7.15s/it]\u001b[A\n",
      " 71%|███████▏  | 75/105 [13:10<02:32,  5.07s/it]\u001b[A\n",
      " 72%|███████▏  | 76/105 [13:11<01:49,  3.79s/it]\u001b[A\n",
      " 74%|███████▍  | 78/105 [13:14<01:23,  3.09s/it]\u001b[A\n",
      " 75%|███████▌  | 79/105 [13:14<00:58,  2.23s/it]\u001b[A\n",
      " 76%|███████▌  | 80/105 [13:34<03:09,  7.56s/it]\u001b[A\n",
      " 78%|███████▊  | 82/105 [13:35<02:03,  5.36s/it]\u001b[A\n",
      " 80%|████████  | 84/105 [13:37<01:27,  4.18s/it]\u001b[A\n",
      " 81%|████████  | 85/105 [13:58<03:01,  9.07s/it]\u001b[A\n",
      " 82%|████████▏ | 86/105 [13:59<02:05,  6.59s/it]\u001b[A\n",
      " 84%|████████▍ | 88/105 [14:00<01:20,  4.74s/it]\u001b[A\n",
      " 85%|████████▍ | 89/105 [15:15<06:52, 25.81s/it]\u001b[A\n",
      " 89%|████████▊ | 93/105 [15:15<03:37, 18.12s/it]\u001b[A\n",
      " 90%|█████████ | 95/105 [15:16<02:08, 12.81s/it]\u001b[A\n",
      " 91%|█████████▏| 96/105 [15:35<02:12, 14.70s/it]\u001b[A\n",
      " 92%|█████████▏| 97/105 [15:36<01:24, 10.52s/it]\u001b[A\n",
      " 95%|█████████▌| 100/105 [15:37<00:37,  7.45s/it]\u001b[A\n",
      " 97%|█████████▋| 102/105 [15:54<00:23,  7.84s/it]\u001b[A\n",
      " 99%|█████████▉| 104/105 [17:15<00:17, 17.54s/it]\u001b[A\n",
      "100%|██████████| 105/105 [17:15<00:00,  9.87s/it]\u001b[A\n",
      " 15%|█▍        | 5/34 [17:15<1:40:08, 207.19s/it]\n",
      "  0%|          | 0/105 [00:00<?, ?it/s]\u001b[A"
     ]
    },
    {
     "name": "stdout",
     "output_type": "stream",
     "text": [
      "max_speedometer_attack_2.log\n"
     ]
    },
    {
     "name": "stderr",
     "output_type": "stream",
     "text": [
      "\n",
      "  2%|▏         | 2/105 [01:18<1:07:35, 39.38s/it]\u001b[A\n",
      "  4%|▍         | 4/105 [02:36<1:06:09, 39.30s/it]\u001b[A\n",
      "  6%|▌         | 6/105 [02:37<45:38, 27.66s/it]  \u001b[A\n",
      "  7%|▋         | 7/105 [02:38<32:02, 19.61s/it]\u001b[A\n",
      " 10%|▉         | 10/105 [03:53<33:35, 21.21s/it]\u001b[A\n",
      " 10%|█         | 11/105 [03:58<25:38, 16.37s/it]\u001b[A\n",
      " 11%|█▏        | 12/105 [04:16<26:00, 16.78s/it]\u001b[A\n",
      " 13%|█▎        | 14/105 [06:12<44:19, 29.22s/it]\u001b[A\n",
      " 14%|█▍        | 15/105 [06:13<31:02, 20.70s/it]\u001b[A\n",
      " 16%|█▌        | 17/105 [06:14<21:26, 14.61s/it]\u001b[A\n",
      " 19%|█▉        | 20/105 [06:35<17:30, 12.36s/it]\u001b[A\n",
      " 20%|██        | 21/105 [07:52<44:10, 31.55s/it]\u001b[A\n",
      " 22%|██▏       | 23/105 [07:53<30:21, 22.22s/it]\u001b[A\n",
      " 23%|██▎       | 24/105 [08:12<28:42, 21.26s/it]\u001b[A\n",
      " 24%|██▍       | 25/105 [08:30<27:01, 20.27s/it]\u001b[A\n",
      " 25%|██▍       | 26/105 [08:50<26:53, 20.42s/it]\u001b[A\n",
      " 26%|██▌       | 27/105 [09:09<25:43, 19.78s/it]\u001b[A\n",
      " 29%|██▊       | 30/105 [09:09<17:20, 13.87s/it]\u001b[A\n",
      " 30%|██▉       | 31/105 [09:10<12:16,  9.96s/it]\u001b[A\n",
      " 30%|███       | 32/105 [09:11<08:47,  7.22s/it]\u001b[A\n",
      " 32%|███▏      | 34/105 [09:11<06:08,  5.19s/it]\u001b[A\n",
      " 33%|███▎      | 35/105 [09:32<11:20,  9.72s/it]\u001b[A\n",
      " 35%|███▌      | 37/105 [09:53<11:14,  9.92s/it]\u001b[A\n",
      " 36%|███▌      | 38/105 [09:53<08:00,  7.17s/it]\u001b[A\n",
      " 37%|███▋      | 39/105 [09:54<05:48,  5.28s/it]\u001b[A\n",
      " 39%|███▉      | 41/105 [10:13<06:57,  6.52s/it]\u001b[A\n",
      " 41%|████      | 43/105 [10:13<04:45,  4.60s/it]\u001b[A\n",
      " 42%|████▏     | 44/105 [10:33<09:15,  9.10s/it]\u001b[A\n",
      " 43%|████▎     | 45/105 [10:41<08:45,  8.76s/it]\u001b[A\n",
      " 45%|████▍     | 47/105 [10:42<06:03,  6.26s/it]\u001b[A\n",
      " 46%|████▌     | 48/105 [10:42<04:12,  4.43s/it]\u001b[A\n",
      " 48%|████▊     | 50/105 [10:43<02:58,  3.25s/it]\u001b[A\n",
      " 50%|████▉     | 52/105 [10:44<02:06,  2.38s/it]\u001b[A\n",
      " 50%|█████     | 53/105 [10:44<01:39,  1.92s/it]\u001b[A\n",
      " 51%|█████▏    | 54/105 [10:45<01:22,  1.62s/it]\u001b[A\n",
      " 52%|█████▏    | 55/105 [11:04<05:34,  6.69s/it]\u001b[A\n",
      " 53%|█████▎    | 56/105 [11:05<04:00,  4.91s/it]\u001b[A\n",
      " 55%|█████▌    | 58/105 [11:08<03:04,  3.93s/it]\u001b[A\n",
      " 56%|█████▌    | 59/105 [11:09<02:17,  2.98s/it]\u001b[A\n",
      " 57%|█████▋    | 60/105 [12:30<19:48, 26.41s/it]\u001b[A\n",
      " 58%|█████▊    | 61/105 [12:51<18:15, 24.90s/it]\u001b[A\n",
      " 62%|██████▏   | 65/105 [13:03<12:13, 18.34s/it]\u001b[A\n",
      " 63%|██████▎   | 66/105 [13:04<08:29, 13.07s/it]\u001b[A\n",
      " 64%|██████▍   | 67/105 [13:05<05:56,  9.39s/it]\u001b[A\n",
      " 66%|██████▌   | 69/105 [13:06<04:01,  6.71s/it]\u001b[A\n",
      " 67%|██████▋   | 70/105 [13:27<06:29, 11.14s/it]\u001b[A\n",
      " 68%|██████▊   | 71/105 [13:28<04:34,  8.07s/it]\u001b[A\n",
      " 69%|██████▊   | 72/105 [13:29<03:14,  5.90s/it]\u001b[A\n",
      " 70%|██████▉   | 73/105 [13:51<05:42, 10.69s/it]\u001b[A\n",
      " 70%|███████   | 74/105 [13:52<04:00,  7.75s/it]\u001b[A\n",
      " 71%|███████▏  | 75/105 [13:52<02:44,  5.49s/it]\u001b[A\n",
      " 72%|███████▏  | 76/105 [13:53<01:58,  4.09s/it]\u001b[A\n",
      " 74%|███████▍  | 78/105 [13:56<01:30,  3.35s/it]\u001b[A\n",
      " 75%|███████▌  | 79/105 [13:56<01:02,  2.42s/it]\u001b[A\n",
      " 76%|███████▌  | 80/105 [14:18<03:25,  8.24s/it]\u001b[A\n",
      " 78%|███████▊  | 82/105 [14:18<02:14,  5.83s/it]\u001b[A\n",
      " 80%|████████  | 84/105 [14:22<01:35,  4.55s/it]\u001b[A\n",
      " 81%|████████  | 85/105 [14:43<03:11,  9.55s/it]\u001b[A\n",
      " 82%|████████▏ | 86/105 [14:44<02:12,  6.95s/it]\u001b[A\n",
      " 84%|████████▍ | 88/105 [14:45<01:24,  4.99s/it]\u001b[A\n",
      " 85%|████████▍ | 89/105 [16:01<07:04, 26.53s/it]\u001b[A\n",
      " 89%|████████▊ | 93/105 [16:02<03:43, 18.63s/it]\u001b[A\n",
      " 90%|█████████ | 95/105 [16:03<02:11, 13.16s/it]\u001b[A\n",
      " 91%|█████████▏| 96/105 [16:23<02:16, 15.14s/it]\u001b[A\n",
      " 92%|█████████▏| 97/105 [16:23<01:26, 10.83s/it]\u001b[A\n",
      " 95%|█████████▌| 100/105 [16:24<00:38,  7.66s/it]\u001b[A\n",
      " 97%|█████████▋| 102/105 [16:42<00:24,  8.01s/it]\u001b[A\n",
      " 99%|█████████▉| 104/105 [18:06<00:18, 18.20s/it]\u001b[A\n",
      "100%|██████████| 105/105 [18:07<00:00, 10.35s/it]\u001b[A\n",
      " 18%|█▊        | 6/34 [35:23<3:39:52, 471.18s/it]\n",
      "  0%|          | 0/105 [00:00<?, ?it/s]\u001b[A"
     ]
    },
    {
     "name": "stdout",
     "output_type": "stream",
     "text": [
      "max_speedometer_attack_3.log\n"
     ]
    },
    {
     "name": "stderr",
     "output_type": "stream",
     "text": [
      "\n",
      "  2%|▏         | 2/105 [02:00<1:43:05, 60.05s/it]\u001b[A\n",
      "  4%|▍         | 4/105 [03:58<1:40:43, 59.83s/it]\u001b[A\n",
      "  6%|▌         | 6/105 [04:00<1:09:25, 42.08s/it]\u001b[A\n",
      "  7%|▋         | 7/105 [04:01<48:40, 29.80s/it]  \u001b[A\n",
      " 10%|▉         | 10/105 [06:11<53:36, 33.86s/it]\u001b[A\n",
      " 10%|█         | 11/105 [06:18<40:46, 26.03s/it]\u001b[A\n",
      " 11%|█▏        | 12/105 [06:46<41:15, 26.61s/it]\u001b[A\n",
      " 13%|█▎        | 14/105 [09:52<1:10:28, 46.47s/it]\u001b[A\n",
      " 14%|█▍        | 15/105 [09:53<49:18, 32.87s/it]  \u001b[A\n",
      " 16%|█▌        | 17/105 [09:54<34:00, 23.19s/it]\u001b[A\n",
      " 19%|█▉        | 20/105 [10:25<27:22, 19.32s/it]\u001b[A\n",
      " 20%|██        | 21/105 [12:23<1:08:19, 48.81s/it]\u001b[A\n",
      " 22%|██▏       | 23/105 [12:24<46:56, 34.34s/it]  \u001b[A\n",
      " 23%|██▎       | 24/105 [12:52<43:58, 32.57s/it]\u001b[A\n",
      " 24%|██▍       | 25/105 [13:21<41:50, 31.38s/it]\u001b[A\n",
      " 25%|██▍       | 26/105 [13:50<40:15, 30.58s/it]\u001b[A\n",
      " 26%|██▌       | 27/105 [14:17<38:34, 29.67s/it]\u001b[A\n",
      " 29%|██▊       | 30/105 [14:18<25:59, 20.79s/it]\u001b[A\n",
      " 30%|██▉       | 31/105 [14:19<18:22, 14.90s/it]\u001b[A\n",
      " 30%|███       | 32/105 [14:20<13:07, 10.79s/it]\u001b[A\n",
      " 32%|███▏      | 34/105 [14:21<09:09,  7.75s/it]\u001b[A\n",
      " 33%|███▎      | 35/105 [14:55<18:04, 15.49s/it]\u001b[A\n",
      " 35%|███▌      | 37/105 [15:37<19:27, 17.17s/it]\u001b[A\n",
      " 36%|███▌      | 38/105 [15:38<13:55, 12.46s/it]\u001b[A\n",
      " 37%|███▋      | 39/105 [15:40<10:08,  9.22s/it]\u001b[A\n",
      " 39%|███▉      | 41/105 [16:18<12:53, 12.08s/it]\u001b[A\n",
      " 41%|████      | 43/105 [16:18<08:48,  8.53s/it]\u001b[A\n",
      " 42%|████▏     | 44/105 [16:55<17:22, 17.10s/it]\u001b[A\n",
      " 43%|████▎     | 45/105 [17:11<16:50, 16.83s/it]\u001b[A\n",
      " 45%|████▍     | 47/105 [17:13<11:36, 12.02s/it]\u001b[A\n",
      " 46%|████▌     | 48/105 [17:13<08:04,  8.50s/it]\u001b[A\n",
      " 48%|████▊     | 50/105 [17:15<05:42,  6.22s/it]\u001b[A\n",
      " 50%|████▉     | 52/105 [17:16<04:00,  4.54s/it]\u001b[A\n",
      " 50%|█████     | 53/105 [17:18<03:07,  3.60s/it]\u001b[A\n",
      " 51%|█████▏    | 54/105 [17:19<02:29,  2.94s/it]\u001b[A\n",
      " 52%|█████▏    | 55/105 [17:56<10:51, 13.02s/it]\u001b[A\n",
      " 53%|█████▎    | 56/105 [17:57<07:48,  9.56s/it]\u001b[A\n",
      " 54%|█████▍    | 57/105 [17:57<05:22,  6.73s/it]\u001b[A\n",
      " 55%|█████▌    | 58/105 [18:04<05:16,  6.74s/it]\u001b[A\n",
      " 56%|█████▌    | 59/105 [18:05<03:56,  5.14s/it]\u001b[A\n",
      " 57%|█████▋    | 60/105 [20:39<37:11, 49.58s/it]\u001b[A\n",
      " 58%|█████▊    | 61/105 [21:19<34:17, 46.76s/it]\u001b[A\n",
      " 62%|██████▏   | 65/105 [21:40<22:51, 34.28s/it]\u001b[A\n",
      " 63%|██████▎   | 66/105 [21:41<15:50, 24.36s/it]\u001b[A\n",
      " 64%|██████▍   | 67/105 [21:42<11:05, 17.51s/it]\u001b[A\n",
      " 66%|██████▌   | 69/105 [21:44<07:29, 12.48s/it]\u001b[A\n",
      " 67%|██████▋   | 70/105 [22:18<11:01, 18.90s/it]\u001b[A\n",
      " 68%|██████▊   | 71/105 [22:19<07:41, 13.59s/it]\u001b[A\n",
      " 69%|██████▊   | 72/105 [22:20<05:29,  9.99s/it]\u001b[A\n",
      " 70%|██████▉   | 73/105 [23:03<10:31, 19.74s/it]\u001b[A\n",
      " 70%|███████   | 74/105 [23:04<07:19, 14.18s/it]\u001b[A\n",
      " 71%|███████▏  | 75/105 [23:04<05:00, 10.01s/it]\u001b[A\n",
      " 72%|███████▏  | 76/105 [23:06<03:33,  7.37s/it]\u001b[A\n",
      " 74%|███████▍  | 78/105 [23:10<02:36,  5.81s/it]\u001b[A\n",
      " 75%|███████▌  | 79/105 [23:10<01:48,  4.17s/it]\u001b[A\n",
      " 76%|███████▌  | 80/105 [23:41<05:04, 12.19s/it]\u001b[A\n",
      " 78%|███████▊  | 82/105 [23:42<03:18,  8.63s/it]\u001b[A\n",
      " 80%|████████  | 84/105 [23:47<02:22,  6.79s/it]\u001b[A\n",
      " 81%|████████  | 85/105 [24:23<05:11, 15.58s/it]\u001b[A\n",
      " 82%|████████▏ | 86/105 [24:24<03:34, 11.28s/it]\u001b[A\n",
      " 84%|████████▍ | 88/105 [24:25<02:17,  8.09s/it]\u001b[A\n",
      " 85%|████████▍ | 89/105 [26:25<11:03, 41.45s/it]\u001b[A\n",
      " 89%|████████▊ | 93/105 [26:26<05:49, 29.12s/it]\u001b[A\n",
      " 90%|█████████ | 95/105 [26:27<03:25, 20.59s/it]\u001b[A\n",
      " 91%|█████████▏| 96/105 [26:55<03:23, 22.59s/it]\u001b[A\n",
      " 92%|█████████▏| 97/105 [26:56<02:09, 16.16s/it]\u001b[A\n",
      " 95%|█████████▌| 100/105 [26:57<00:57, 11.42s/it]\u001b[A\n",
      " 97%|█████████▋| 102/105 [27:25<00:36, 12.24s/it]\u001b[A\n",
      " 99%|█████████▉| 104/105 [29:48<00:29, 29.89s/it]\u001b[A\n",
      "100%|██████████| 105/105 [29:49<00:00, 17.04s/it]\u001b[A\n",
      " 24%|██▎       | 8/34 [1:05:12<4:19:12, 598.19s/it]\n",
      "  0%|          | 0/105 [00:00<?, ?it/s]\u001b[A"
     ]
    },
    {
     "name": "stdout",
     "output_type": "stream",
     "text": [
      "reverse_light_on_attack_3.log\n"
     ]
    },
    {
     "name": "stderr",
     "output_type": "stream",
     "text": [
      "\n",
      "  2%|▏         | 2/105 [01:26<1:14:38, 43.48s/it]\u001b[A\n",
      "  4%|▍         | 4/105 [02:47<1:11:38, 42.56s/it]\u001b[A\n",
      "  6%|▌         | 6/105 [02:48<49:23, 29.93s/it]  \u001b[A\n",
      "  7%|▋         | 7/105 [02:49<34:37, 21.20s/it]\u001b[A\n",
      " 10%|▉         | 10/105 [04:10<36:19, 22.94s/it]\u001b[A\n",
      " 10%|█         | 11/105 [04:16<27:48, 17.75s/it]\u001b[A\n",
      " 11%|█▏        | 12/105 [04:36<28:34, 18.43s/it]\u001b[A\n",
      " 13%|█▎        | 14/105 [06:26<44:44, 29.49s/it]\u001b[A\n",
      " 14%|█▍        | 15/105 [06:27<31:22, 20.91s/it]\u001b[A\n",
      " 16%|█▌        | 17/105 [06:28<21:40, 14.78s/it]\u001b[A\n",
      " 19%|█▉        | 20/105 [06:52<17:59, 12.70s/it]\u001b[A\n",
      " 20%|██        | 21/105 [08:15<47:16, 33.76s/it]\u001b[A\n",
      " 22%|██▏       | 23/105 [08:16<32:29, 23.77s/it]\u001b[A\n",
      " 23%|██▎       | 24/105 [08:36<30:48, 22.83s/it]\u001b[A\n",
      " 24%|██▍       | 25/105 [08:56<29:15, 21.94s/it]\u001b[A\n",
      " 25%|██▍       | 26/105 [09:18<29:01, 22.04s/it]\u001b[A\n",
      " 26%|██▌       | 27/105 [09:42<29:16, 22.52s/it]\u001b[A\n",
      " 29%|██▊       | 30/105 [09:42<19:43, 15.79s/it]\u001b[A\n",
      " 30%|██▉       | 31/105 [09:43<14:01, 11.37s/it]\u001b[A\n",
      " 30%|███       | 32/105 [09:44<10:03,  8.27s/it]\u001b[A\n",
      " 32%|███▏      | 34/105 [09:45<07:01,  5.94s/it]\u001b[A\n",
      " 33%|███▎      | 35/105 [10:09<13:11, 11.31s/it]\u001b[A\n",
      " 35%|███▌      | 37/105 [10:32<12:49, 11.32s/it]\u001b[A\n",
      " 36%|███▌      | 38/105 [10:33<09:08,  8.19s/it]\u001b[A\n",
      " 37%|███▋      | 39/105 [10:34<06:36,  6.01s/it]\u001b[A\n",
      " 39%|███▉      | 41/105 [10:53<07:32,  7.08s/it]\u001b[A\n",
      " 41%|████      | 43/105 [10:53<05:09,  4.99s/it]\u001b[A\n",
      " 42%|████▏     | 44/105 [11:14<10:00,  9.84s/it]\u001b[A\n",
      " 43%|████▎     | 45/105 [11:23<09:29,  9.49s/it]\u001b[A\n",
      " 45%|████▍     | 47/105 [11:24<06:33,  6.78s/it]\u001b[A\n",
      " 46%|████▌     | 48/105 [11:24<04:33,  4.80s/it]\u001b[A\n",
      " 48%|████▊     | 50/105 [11:25<03:13,  3.53s/it]\u001b[A\n",
      " 50%|████▉     | 52/105 [11:26<02:16,  2.58s/it]\u001b[A\n",
      " 50%|█████     | 53/105 [11:27<01:46,  2.05s/it]\u001b[A\n",
      " 51%|█████▏    | 54/105 [11:27<01:25,  1.68s/it]\u001b[A\n",
      " 52%|█████▏    | 55/105 [11:49<06:23,  7.67s/it]\u001b[A\n",
      " 53%|█████▎    | 56/105 [11:50<04:35,  5.62s/it]\u001b[A\n",
      " 55%|█████▌    | 58/105 [11:54<03:31,  4.50s/it]\u001b[A\n",
      " 56%|█████▌    | 59/105 [11:55<02:36,  3.41s/it]\u001b[A\n",
      " 57%|█████▋    | 60/105 [13:19<20:54, 27.87s/it]\u001b[A\n",
      " 58%|█████▊    | 61/105 [13:41<19:05, 26.03s/it]\u001b[A\n",
      " 62%|██████▏   | 65/105 [13:54<12:45, 19.14s/it]\u001b[A\n",
      " 63%|██████▎   | 66/105 [13:54<08:52, 13.64s/it]\u001b[A\n",
      " 64%|██████▍   | 67/105 [13:55<06:12,  9.80s/it]\u001b[A\n",
      " 66%|██████▌   | 69/105 [13:56<04:11,  7.00s/it]\u001b[A\n",
      " 67%|██████▋   | 70/105 [14:18<06:42, 11.49s/it]\u001b[A\n",
      " 68%|██████▊   | 71/105 [14:19<04:43,  8.34s/it]\u001b[A\n",
      " 69%|██████▊   | 72/105 [14:20<03:20,  6.08s/it]\u001b[A\n",
      " 70%|██████▉   | 73/105 [14:42<05:45, 10.79s/it]\u001b[A\n",
      " 70%|███████   | 74/105 [14:43<04:02,  7.82s/it]\u001b[A\n",
      " 71%|███████▏  | 75/105 [14:43<02:46,  5.54s/it]\u001b[A\n",
      " 72%|███████▏  | 76/105 [14:44<01:59,  4.14s/it]\u001b[A\n",
      " 74%|███████▍  | 78/105 [14:47<01:31,  3.40s/it]\u001b[A\n",
      " 75%|███████▌  | 79/105 [14:47<01:03,  2.46s/it]\u001b[A\n",
      " 76%|███████▌  | 80/105 [15:09<03:23,  8.15s/it]\u001b[A\n",
      " 78%|███████▊  | 82/105 [15:09<02:12,  5.77s/it]\u001b[A\n",
      " 80%|████████  | 84/105 [15:12<01:34,  4.51s/it]\u001b[A\n",
      " 81%|████████  | 85/105 [15:35<03:20, 10.03s/it]\u001b[A\n",
      " 82%|████████▏ | 86/105 [15:36<02:18,  7.28s/it]\u001b[A\n",
      " 84%|████████▍ | 88/105 [15:37<01:28,  5.23s/it]\u001b[A\n",
      " 85%|████████▍ | 89/105 [17:01<07:43, 28.96s/it]\u001b[A\n",
      " 89%|████████▊ | 93/105 [17:02<04:03, 20.33s/it]\u001b[A\n",
      " 90%|█████████ | 95/105 [17:03<02:23, 14.36s/it]\u001b[A\n",
      " 91%|█████████▏| 96/105 [17:25<02:29, 16.62s/it]\u001b[A\n",
      " 92%|█████████▏| 97/105 [17:26<01:35, 11.99s/it]\u001b[A\n",
      " 95%|█████████▌| 100/105 [17:27<00:42,  8.49s/it]\u001b[A\n",
      " 97%|█████████▋| 102/105 [17:47<00:26,  8.98s/it]\u001b[A\n",
      " 99%|█████████▉| 104/105 [19:18<00:19, 19.93s/it]\u001b[A\n",
      "100%|██████████| 105/105 [19:19<00:00, 11.04s/it]\u001b[A\n",
      " 29%|██▉       | 10/34 [1:24:31<3:57:03, 592.66s/it]\n",
      "  0%|          | 0/104 [00:00<?, ?it/s]\u001b[A"
     ]
    },
    {
     "name": "stdout",
     "output_type": "stream",
     "text": [
      "fuzzing_attack_3.log\n"
     ]
    },
    {
     "name": "stderr",
     "output_type": "stream",
     "text": [
      "\n",
      "  2%|▏         | 2/104 [00:07<06:30,  3.83s/it]\u001b[A\n",
      "  4%|▍         | 4/104 [00:15<06:20,  3.80s/it]\u001b[A\n",
      "  6%|▌         | 6/104 [00:15<04:22,  2.68s/it]\u001b[A\n",
      "  7%|▋         | 7/104 [00:15<03:06,  1.92s/it]\u001b[A\n",
      " 10%|▉         | 10/104 [00:22<03:15,  2.08s/it]\u001b[A\n",
      " 11%|█         | 11/104 [00:23<02:31,  1.62s/it]\u001b[A\n",
      " 12%|█▏        | 12/104 [00:25<02:37,  1.71s/it]\u001b[A\n",
      " 13%|█▎        | 14/104 [00:32<03:25,  2.29s/it]\u001b[A\n",
      " 16%|█▋        | 17/104 [00:32<02:20,  1.62s/it]\u001b[A\n",
      " 19%|█▉        | 20/104 [00:34<01:52,  1.34s/it]\u001b[A\n",
      " 20%|██        | 21/104 [00:41<04:11,  3.03s/it]\u001b[A\n",
      " 23%|██▎       | 24/104 [00:43<03:04,  2.31s/it]\u001b[A\n",
      " 24%|██▍       | 25/104 [00:45<02:48,  2.13s/it]\u001b[A\n",
      " 25%|██▌       | 26/104 [00:47<02:42,  2.09s/it]\u001b[A\n",
      " 26%|██▌       | 27/104 [00:49<02:37,  2.04s/it]\u001b[A\n",
      " 30%|██▉       | 31/104 [00:49<01:45,  1.44s/it]\u001b[A\n",
      " 33%|███▎      | 34/104 [00:49<01:11,  1.03s/it]\u001b[A\n",
      " 35%|███▍      | 36/104 [00:51<01:09,  1.02s/it]\u001b[A\n",
      " 36%|███▌      | 37/104 [00:53<01:27,  1.30s/it]\u001b[A\n",
      " 38%|███▊      | 39/104 [00:53<01:00,  1.07it/s]\u001b[A\n",
      " 39%|███▉      | 41/104 [00:55<00:58,  1.08it/s]\u001b[A\n",
      " 42%|████▏     | 44/104 [00:57<00:49,  1.21it/s]\u001b[A\n",
      " 43%|████▎     | 45/104 [00:58<00:48,  1.22it/s]\u001b[A\n",
      " 46%|████▌     | 48/104 [00:58<00:32,  1.71it/s]\u001b[A\n",
      " 48%|████▊     | 50/104 [00:58<00:23,  2.33it/s]\u001b[A\n",
      " 51%|█████     | 53/104 [00:58<00:16,  3.14it/s]\u001b[A\n",
      " 53%|█████▎    | 55/104 [01:00<00:25,  1.96it/s]\u001b[A\n",
      " 56%|█████▌    | 58/104 [01:00<00:18,  2.49it/s]\u001b[A\n",
      " 58%|█████▊    | 60/104 [01:08<00:59,  1.36s/it]\u001b[A\n",
      " 59%|█████▊    | 61/104 [01:09<01:05,  1.51s/it]\u001b[A\n",
      " 62%|██████▎   | 65/104 [01:10<00:44,  1.14s/it]\u001b[A\n",
      " 64%|██████▍   | 67/104 [01:11<00:30,  1.22it/s]\u001b[A\n",
      " 67%|██████▋   | 70/104 [01:13<00:26,  1.28it/s]\u001b[A\n",
      " 69%|██████▉   | 72/104 [01:13<00:18,  1.75it/s]\u001b[A\n",
      " 70%|███████   | 73/104 [01:15<00:31,  1.01s/it]\u001b[A\n",
      " 73%|███████▎  | 76/104 [01:15<00:20,  1.39it/s]\u001b[A\n",
      " 75%|███████▌  | 78/104 [01:15<00:14,  1.78it/s]\u001b[A\n",
      " 77%|███████▋  | 80/104 [01:17<00:16,  1.45it/s]\u001b[A\n",
      " 81%|████████  | 84/104 [01:18<00:10,  1.96it/s]\u001b[A\n",
      " 82%|████████▏ | 85/104 [01:20<00:20,  1.08s/it]\u001b[A\n",
      " 83%|████████▎ | 86/104 [01:20<00:14,  1.27it/s]\u001b[A\n",
      " 85%|████████▍ | 88/104 [01:20<00:09,  1.77it/s]\u001b[A\n",
      " 87%|████████▋ | 90/104 [01:28<00:20,  1.48s/it]\u001b[A\n",
      " 89%|████████▉ | 93/104 [01:28<00:11,  1.05s/it]\u001b[A\n",
      " 92%|█████████▏| 96/104 [01:30<00:07,  1.09it/s]\u001b[A\n",
      " 95%|█████████▌| 99/104 [01:30<00:03,  1.51it/s]\u001b[A\n",
      " 97%|█████████▋| 101/104 [01:32<00:02,  1.38it/s]\u001b[A\n",
      "100%|██████████| 104/104 [01:39<00:00,  1.05it/s]\u001b[A\n",
      " 41%|████      | 14/34 [1:26:11<2:20:46, 422.33s/it]\n",
      "  0%|          | 0/105 [00:00<?, ?it/s]\u001b[A"
     ]
    },
    {
     "name": "stdout",
     "output_type": "stream",
     "text": [
      "correlated_signal_attack_2.log\n"
     ]
    },
    {
     "name": "stderr",
     "output_type": "stream",
     "text": [
      "\n",
      "  2%|▏         | 2/105 [00:39<33:38, 19.60s/it]\u001b[A\n",
      "  4%|▍         | 4/105 [01:16<32:32, 19.33s/it]\u001b[A\n",
      "  6%|▌         | 6/105 [01:17<22:32, 13.66s/it]\u001b[A\n",
      "  7%|▋         | 7/105 [01:18<15:56,  9.76s/it]\u001b[A\n",
      " 10%|▉         | 10/105 [01:56<16:53, 10.67s/it]\u001b[A\n",
      " 10%|█         | 11/105 [01:58<12:50,  8.19s/it]\u001b[A\n",
      " 11%|█▏        | 12/105 [02:07<12:53,  8.32s/it]\u001b[A\n",
      " 13%|█▎        | 14/105 [02:44<17:11, 11.33s/it]\u001b[A\n",
      " 14%|█▍        | 15/105 [02:44<12:04,  8.05s/it]\u001b[A\n",
      " 16%|█▌        | 17/105 [02:45<08:21,  5.70s/it]\u001b[A\n",
      " 19%|█▉        | 20/105 [02:55<07:09,  5.05s/it]\u001b[A\n",
      " 20%|██        | 21/105 [03:34<21:05, 15.07s/it]\u001b[A\n",
      " 22%|██▏       | 23/105 [03:34<14:31, 10.62s/it]\u001b[A\n",
      " 23%|██▎       | 24/105 [03:43<13:42, 10.16s/it]\u001b[A\n",
      " 24%|██▍       | 25/105 [03:53<13:17,  9.97s/it]\u001b[A\n",
      " 25%|██▍       | 26/105 [04:04<13:33, 10.30s/it]\u001b[A\n",
      " 26%|██▌       | 27/105 [04:13<12:59,  9.99s/it]\u001b[A\n",
      " 30%|██▉       | 31/105 [04:14<08:40,  7.03s/it]\u001b[A\n",
      " 30%|███       | 32/105 [04:14<06:09,  5.06s/it]\u001b[A\n",
      " 32%|███▏      | 34/105 [04:15<04:17,  3.62s/it]\u001b[A\n",
      " 33%|███▎      | 35/105 [04:25<06:45,  5.80s/it]\u001b[A\n",
      " 35%|███▌      | 37/105 [04:37<06:35,  5.81s/it]\u001b[A\n",
      " 36%|███▌      | 38/105 [04:38<04:43,  4.22s/it]\u001b[A\n",
      " 37%|███▋      | 39/105 [04:38<03:25,  3.12s/it]\u001b[A\n",
      " 39%|███▉      | 41/105 [04:47<03:47,  3.55s/it]\u001b[A\n",
      " 41%|████      | 43/105 [04:47<02:35,  2.51s/it]\u001b[A\n",
      " 42%|████▏     | 44/105 [04:57<04:40,  4.61s/it]\u001b[A\n",
      " 43%|████▎     | 45/105 [05:01<04:25,  4.43s/it]\u001b[A\n",
      " 45%|████▍     | 47/105 [05:01<03:03,  3.16s/it]\u001b[A\n",
      " 48%|████▊     | 50/105 [05:02<02:05,  2.28s/it]\u001b[A\n",
      " 50%|████▉     | 52/105 [05:02<01:27,  1.65s/it]\u001b[A\n",
      " 50%|█████     | 53/105 [05:03<01:07,  1.30s/it]\u001b[A\n",
      " 51%|█████▏    | 54/105 [05:03<00:52,  1.03s/it]\u001b[A\n",
      " 52%|█████▏    | 55/105 [05:13<02:58,  3.56s/it]\u001b[A\n",
      " 53%|█████▎    | 56/105 [05:13<02:08,  2.61s/it]\u001b[A\n",
      " 55%|█████▌    | 58/105 [05:15<01:41,  2.15s/it]\u001b[A\n",
      " 56%|█████▌    | 59/105 [05:16<01:15,  1.64s/it]\u001b[A\n",
      " 57%|█████▋    | 60/105 [05:57<10:08, 13.53s/it]\u001b[A\n",
      " 58%|█████▊    | 61/105 [06:08<09:20, 12.74s/it]\u001b[A\n",
      " 62%|██████▏   | 65/105 [06:14<06:15,  9.39s/it]\u001b[A\n",
      " 63%|██████▎   | 66/105 [06:15<04:21,  6.70s/it]\u001b[A\n",
      " 64%|██████▍   | 67/105 [06:15<03:03,  4.82s/it]\u001b[A\n",
      " 66%|██████▌   | 69/105 [06:15<02:03,  3.44s/it]\u001b[A\n",
      " 67%|██████▋   | 70/105 [06:26<03:16,  5.62s/it]\u001b[A\n",
      " 68%|██████▊   | 71/105 [06:27<02:18,  4.07s/it]\u001b[A\n",
      " 69%|██████▊   | 72/105 [06:27<01:38,  2.98s/it]\u001b[A\n",
      " 70%|██████▉   | 73/105 [06:38<02:55,  5.50s/it]\u001b[A\n",
      " 70%|███████   | 74/105 [06:39<02:03,  3.98s/it]\u001b[A\n",
      " 71%|███████▏  | 75/105 [06:39<01:24,  2.82s/it]\u001b[A\n",
      " 72%|███████▏  | 76/105 [06:39<01:00,  2.10s/it]\u001b[A\n",
      " 74%|███████▍  | 78/105 [06:41<00:45,  1.69s/it]\u001b[A\n",
      " 75%|███████▌  | 79/105 [06:41<00:31,  1.22s/it]\u001b[A\n",
      " 76%|███████▌  | 80/105 [06:51<01:39,  4.00s/it]\u001b[A\n",
      " 78%|███████▊  | 82/105 [06:52<01:05,  2.83s/it]\u001b[A\n",
      " 80%|████████  | 84/105 [06:53<00:46,  2.20s/it]\u001b[A\n",
      " 81%|████████  | 85/105 [07:03<01:30,  4.52s/it]\u001b[A\n",
      " 82%|████████▏ | 86/105 [07:04<01:02,  3.30s/it]\u001b[A\n",
      " 84%|████████▍ | 88/105 [07:04<00:40,  2.38s/it]\u001b[A\n",
      " 85%|████████▍ | 89/105 [07:43<03:35, 13.49s/it]\u001b[A\n",
      " 89%|████████▊ | 93/105 [07:44<01:53,  9.47s/it]\u001b[A\n",
      " 90%|█████████ | 95/105 [07:44<01:07,  6.70s/it]\u001b[A\n",
      " 91%|█████████▏| 96/105 [07:54<01:07,  7.52s/it]\u001b[A\n",
      " 92%|█████████▏| 97/105 [07:54<00:43,  5.39s/it]\u001b[A\n",
      " 95%|█████████▌| 100/105 [07:55<00:19,  3.82s/it]\u001b[A\n",
      " 97%|█████████▋| 102/105 [08:04<00:12,  4.05s/it]\u001b[A\n",
      " 99%|█████████▉| 104/105 [09:17<00:13, 13.85s/it]\u001b[A\n",
      "100%|██████████| 105/105 [09:18<00:00,  5.32s/it]\u001b[A\n",
      " 47%|████▋     | 16/34 [1:35:29<1:53:48, 379.34s/it]\n",
      "  0%|          | 0/105 [00:00<?, ?it/s]\u001b[A"
     ]
    },
    {
     "name": "stdout",
     "output_type": "stream",
     "text": [
      "fuzzing_attack_1.log\n"
     ]
    },
    {
     "name": "stderr",
     "output_type": "stream",
     "text": [
      "\n",
      "  2%|▏         | 2/105 [00:27<23:11, 13.51s/it]\u001b[A\n",
      "  4%|▍         | 4/105 [00:53<22:32, 13.39s/it]\u001b[A\n",
      "  6%|▌         | 6/105 [00:53<15:32,  9.42s/it]\u001b[A\n",
      "  7%|▋         | 7/105 [00:53<10:55,  6.69s/it]\u001b[A\n",
      " 10%|▉         | 10/105 [01:19<11:25,  7.22s/it]\u001b[A\n",
      " 10%|█         | 11/105 [01:20<08:44,  5.58s/it]\u001b[A\n",
      " 11%|█▏        | 12/105 [01:27<08:55,  5.76s/it]\u001b[A\n",
      " 13%|█▎        | 14/105 [01:53<12:04,  7.97s/it]\u001b[A\n",
      " 14%|█▍        | 15/105 [01:53<08:29,  5.66s/it]\u001b[A\n",
      " 16%|█▌        | 17/105 [01:53<05:52,  4.01s/it]\u001b[A\n",
      " 19%|█▉        | 20/105 [02:01<04:59,  3.52s/it]\u001b[A\n",
      " 20%|██        | 21/105 [02:26<14:04, 10.05s/it]\u001b[A\n",
      " 22%|██▏       | 23/105 [02:26<09:40,  7.08s/it]\u001b[A\n",
      " 23%|██▎       | 24/105 [02:33<09:23,  6.96s/it]\u001b[A\n",
      " 24%|██▍       | 25/105 [02:40<09:12,  6.91s/it]\u001b[A\n",
      " 25%|██▍       | 26/105 [02:47<09:24,  7.15s/it]\u001b[A\n",
      " 26%|██▌       | 27/105 [02:54<09:10,  7.06s/it]\u001b[A\n",
      " 30%|██▉       | 31/105 [02:55<06:08,  4.97s/it]\u001b[A\n",
      " 30%|███       | 32/105 [02:55<04:22,  3.60s/it]\u001b[A\n",
      " 32%|███▏      | 34/105 [02:55<03:02,  2.57s/it]\u001b[A\n",
      " 33%|███▎      | 35/105 [03:03<04:51,  4.16s/it]\u001b[A\n",
      " 35%|███▌      | 37/105 [03:11<04:37,  4.08s/it]\u001b[A\n",
      " 36%|███▌      | 38/105 [03:11<03:19,  2.97s/it]\u001b[A\n",
      " 37%|███▋      | 39/105 [03:12<02:24,  2.19s/it]\u001b[A\n",
      " 39%|███▉      | 41/105 [03:19<02:42,  2.54s/it]\u001b[A\n",
      " 41%|████      | 43/105 [03:19<01:51,  1.80s/it]\u001b[A\n",
      " 42%|████▏     | 44/105 [03:25<03:19,  3.27s/it]\u001b[A\n",
      " 43%|████▎     | 45/105 [03:28<03:12,  3.21s/it]\u001b[A\n",
      " 45%|████▍     | 47/105 [03:29<02:13,  2.30s/it]\u001b[A\n",
      " 48%|████▊     | 50/105 [03:29<01:31,  1.66s/it]\u001b[A\n",
      " 50%|████▉     | 52/105 [03:30<01:03,  1.21s/it]\u001b[A\n",
      " 50%|█████     | 53/105 [03:30<00:50,  1.02it/s]\u001b[A\n",
      " 51%|█████▏    | 54/105 [03:30<00:40,  1.26it/s]\u001b[A\n",
      " 52%|█████▏    | 55/105 [03:37<02:07,  2.56s/it]\u001b[A\n",
      " 53%|█████▎    | 56/105 [03:37<01:32,  1.88s/it]\u001b[A\n",
      " 55%|█████▌    | 58/105 [03:39<01:13,  1.57s/it]\u001b[A\n",
      " 56%|█████▌    | 59/105 [03:39<00:55,  1.21s/it]\u001b[A\n",
      " 57%|█████▋    | 60/105 [04:11<07:46, 10.37s/it]\u001b[A\n",
      " 58%|█████▊    | 61/105 [04:20<07:21, 10.03s/it]\u001b[A\n",
      " 62%|██████▏   | 65/105 [04:26<04:57,  7.44s/it]\u001b[A\n",
      " 63%|██████▎   | 66/105 [04:26<03:26,  5.29s/it]\u001b[A\n",
      " 64%|██████▍   | 67/105 [04:27<02:24,  3.79s/it]\u001b[A\n",
      " 66%|██████▌   | 69/105 [04:27<01:37,  2.71s/it]\u001b[A\n",
      " 67%|██████▋   | 70/105 [04:34<02:24,  4.14s/it]\u001b[A\n",
      " 68%|██████▊   | 71/105 [04:35<01:41,  2.99s/it]\u001b[A\n",
      " 69%|██████▊   | 72/105 [04:35<01:12,  2.18s/it]\u001b[A\n",
      " 70%|██████▉   | 73/105 [04:43<02:03,  3.85s/it]\u001b[A\n",
      " 70%|███████   | 74/105 [04:43<01:27,  2.81s/it]\u001b[A\n",
      " 71%|███████▏  | 75/105 [04:43<01:00,  2.00s/it]\u001b[A\n",
      " 72%|███████▏  | 76/105 [04:44<00:43,  1.50s/it]\u001b[A\n",
      " 74%|███████▍  | 78/105 [04:45<00:33,  1.25s/it]\u001b[A\n",
      " 75%|███████▌  | 79/105 [04:45<00:23,  1.10it/s]\u001b[A\n",
      " 76%|███████▌  | 80/105 [04:53<01:15,  3.00s/it]\u001b[A\n",
      " 78%|███████▊  | 82/105 [04:53<00:48,  2.12s/it]\u001b[A\n",
      " 80%|████████  | 84/105 [04:54<00:34,  1.66s/it]\u001b[A\n",
      " 81%|████████  | 85/105 [05:02<01:09,  3.45s/it]\u001b[A\n",
      " 82%|████████▏ | 86/105 [05:02<00:47,  2.52s/it]\u001b[A\n",
      " 84%|████████▍ | 88/105 [05:02<00:30,  1.82s/it]\u001b[A\n",
      " 85%|████████▍ | 89/105 [05:31<02:38,  9.90s/it]\u001b[A\n",
      " 89%|████████▊ | 93/105 [05:32<01:23,  6.95s/it]\u001b[A\n",
      " 90%|█████████ | 95/105 [05:32<00:49,  4.91s/it]\u001b[A\n",
      " 91%|█████████▏| 96/105 [05:38<00:48,  5.43s/it]\u001b[A\n",
      " 92%|█████████▏| 97/105 [05:39<00:31,  3.89s/it]\u001b[A\n",
      " 95%|█████████▌| 100/105 [05:39<00:13,  2.76s/it]\u001b[A\n",
      " 97%|█████████▋| 102/105 [05:46<00:08,  2.93s/it]\u001b[A\n",
      " 99%|█████████▉| 104/105 [06:19<00:06,  7.00s/it]\u001b[A\n",
      "100%|██████████| 105/105 [06:19<00:00,  3.61s/it]\u001b[A\n",
      " 50%|█████     | 17/34 [1:41:48<1:47:29, 379.40s/it]\n",
      "  0%|          | 0/104 [00:00<?, ?it/s]\u001b[A"
     ]
    },
    {
     "name": "stdout",
     "output_type": "stream",
     "text": [
      "correlated_signal_attack_3.log\n"
     ]
    },
    {
     "name": "stderr",
     "output_type": "stream",
     "text": [
      "\n",
      "  2%|▏         | 2/104 [00:24<20:58, 12.34s/it]\u001b[A\n",
      "  4%|▍         | 4/104 [00:48<20:17, 12.17s/it]\u001b[A\n",
      "  6%|▌         | 6/104 [00:48<13:59,  8.57s/it]\u001b[A\n",
      "  7%|▋         | 7/104 [00:48<09:49,  6.08s/it]\u001b[A\n",
      " 10%|▉         | 10/104 [01:11<10:08,  6.47s/it]\u001b[A\n",
      " 11%|█         | 11/104 [01:12<07:47,  5.02s/it]\u001b[A\n",
      " 12%|█▏        | 12/104 [01:18<08:16,  5.40s/it]\u001b[A\n",
      " 13%|█▎        | 14/104 [01:42<11:02,  7.37s/it]\u001b[A\n",
      " 14%|█▍        | 15/104 [01:43<07:45,  5.23s/it]\u001b[A\n",
      " 16%|█▋        | 17/104 [01:43<05:22,  3.71s/it]\u001b[A\n",
      " 19%|█▉        | 20/104 [01:49<04:31,  3.24s/it]\u001b[A\n",
      " 20%|██        | 21/104 [02:13<13:06,  9.48s/it]\u001b[A\n",
      " 22%|██▏       | 23/104 [02:14<09:00,  6.67s/it]\u001b[A\n",
      " 23%|██▎       | 24/104 [02:19<08:34,  6.44s/it]\u001b[A\n",
      " 24%|██▍       | 25/104 [02:26<08:21,  6.34s/it]\u001b[A\n",
      " 25%|██▌       | 26/104 [02:32<08:11,  6.30s/it]\u001b[A\n",
      " 26%|██▌       | 27/104 [02:38<07:56,  6.18s/it]\u001b[A\n",
      " 30%|██▉       | 31/104 [02:38<05:17,  4.35s/it]\u001b[A\n",
      " 31%|███       | 32/104 [02:38<03:45,  3.13s/it]\u001b[A\n",
      " 33%|███▎      | 34/104 [02:39<02:36,  2.24s/it]\u001b[A\n",
      " 34%|███▎      | 35/104 [02:45<03:51,  3.36s/it]\u001b[A\n",
      " 36%|███▌      | 37/104 [02:52<03:52,  3.46s/it]\u001b[A\n",
      " 37%|███▋      | 38/104 [02:52<02:46,  2.53s/it]\u001b[A\n",
      " 38%|███▊      | 39/104 [02:53<02:02,  1.89s/it]\u001b[A\n",
      " 39%|███▉      | 41/104 [02:58<02:16,  2.17s/it]\u001b[A\n",
      " 42%|████▏     | 44/104 [03:04<02:02,  2.03s/it]\u001b[A\n",
      " 43%|████▎     | 45/104 [03:06<02:04,  2.12s/it]\u001b[A\n",
      " 45%|████▌     | 47/104 [03:06<01:26,  1.52s/it]\u001b[A\n",
      " 48%|████▊     | 50/104 [03:07<00:59,  1.10s/it]\u001b[A\n",
      " 50%|█████     | 52/104 [03:07<00:41,  1.24it/s]\u001b[A\n",
      " 51%|█████     | 53/104 [03:07<00:32,  1.56it/s]\u001b[A\n",
      " 52%|█████▏    | 54/104 [03:07<00:26,  1.90it/s]\u001b[A\n",
      " 53%|█████▎    | 55/104 [03:13<01:35,  1.95s/it]\u001b[A\n",
      " 54%|█████▍    | 56/104 [03:13<01:08,  1.43s/it]\u001b[A\n",
      " 56%|█████▌    | 58/104 [03:14<00:53,  1.16s/it]\u001b[A\n",
      " 57%|█████▋    | 59/104 [03:14<00:39,  1.14it/s]\u001b[A\n",
      " 58%|█████▊    | 60/104 [03:36<05:23,  7.36s/it]\u001b[A\n",
      " 59%|█████▊    | 61/104 [03:43<05:02,  7.03s/it]\u001b[A\n",
      " 62%|██████▎   | 65/104 [03:46<03:21,  5.16s/it]\u001b[A\n",
      " 63%|██████▎   | 66/104 [03:46<02:20,  3.70s/it]\u001b[A\n",
      " 64%|██████▍   | 67/104 [03:47<01:38,  2.66s/it]\u001b[A\n",
      " 66%|██████▋   | 69/104 [03:47<01:06,  1.90s/it]\u001b[A\n",
      " 67%|██████▋   | 70/104 [03:53<01:44,  3.08s/it]\u001b[A\n",
      " 68%|██████▊   | 71/104 [03:53<01:13,  2.23s/it]\u001b[A\n",
      " 69%|██████▉   | 72/104 [03:53<00:52,  1.63s/it]\u001b[A\n",
      " 70%|███████   | 73/104 [03:59<01:34,  3.04s/it]\u001b[A\n",
      " 71%|███████   | 74/104 [04:00<01:06,  2.20s/it]\u001b[A\n",
      " 73%|███████▎  | 76/104 [04:00<00:44,  1.59s/it]\u001b[A\n",
      " 75%|███████▌  | 78/104 [04:01<00:32,  1.26s/it]\u001b[A\n",
      " 77%|███████▋  | 80/104 [04:07<00:42,  1.75s/it]\u001b[A\n",
      " 79%|███████▉  | 82/104 [04:07<00:27,  1.25s/it]\u001b[A\n",
      " 81%|████████  | 84/104 [04:08<00:20,  1.03s/it]\u001b[A\n",
      " 82%|████████▏ | 85/104 [04:14<00:46,  2.46s/it]\u001b[A\n",
      " 83%|████████▎ | 86/104 [04:14<00:32,  1.79s/it]\u001b[A\n",
      " 85%|████████▍ | 88/104 [04:14<00:20,  1.30s/it]\u001b[A\n",
      " 86%|████████▌ | 89/104 [04:35<01:47,  7.15s/it]\u001b[A\n",
      " 89%|████████▉ | 93/104 [04:35<00:55,  5.03s/it]\u001b[A\n",
      " 91%|█████████▏| 95/104 [04:36<00:32,  3.56s/it]\u001b[A\n",
      " 92%|█████████▏| 96/104 [04:41<00:32,  4.06s/it]\u001b[A\n",
      " 93%|█████████▎| 97/104 [04:41<00:20,  2.91s/it]\u001b[A\n",
      " 95%|█████████▌| 99/104 [04:41<00:10,  2.07s/it]\u001b[A\n",
      " 97%|█████████▋| 101/104 [04:46<00:06,  2.19s/it]\u001b[A\n",
      " 99%|█████████▉| 103/104 [05:27<00:07,  7.64s/it]\u001b[A\n",
      "100%|██████████| 104/104 [05:27<00:00,  3.15s/it]\u001b[A\n",
      " 53%|█████▎    | 18/34 [1:47:16<1:37:02, 363.89s/it]\n",
      "  0%|          | 0/105 [00:00<?, ?it/s]\u001b[A"
     ]
    },
    {
     "name": "stdout",
     "output_type": "stream",
     "text": [
      "reverse_light_on_attack_1.log\n"
     ]
    },
    {
     "name": "stderr",
     "output_type": "stream",
     "text": [
      "\n",
      "  2%|▏         | 2/105 [01:09<59:40, 34.76s/it]\u001b[A\n",
      "  4%|▍         | 4/105 [02:30<1:01:27, 36.51s/it]\u001b[A\n",
      "  6%|▌         | 6/105 [02:31<42:23, 25.69s/it]  \u001b[A\n",
      "  7%|▋         | 7/105 [02:32<29:47, 18.24s/it]\u001b[A\n",
      " 10%|▉         | 10/105 [03:43<31:31, 19.91s/it]\u001b[A\n",
      " 10%|█         | 11/105 [03:48<24:14, 15.48s/it]\u001b[A\n",
      " 11%|█▏        | 12/105 [04:06<24:57, 16.10s/it]\u001b[A\n",
      " 13%|█▎        | 14/105 [05:44<39:26, 26.01s/it]\u001b[A\n",
      " 14%|█▍        | 15/105 [05:45<27:37, 18.42s/it]\u001b[A\n",
      " 16%|█▌        | 17/105 [05:46<19:04, 13.00s/it]\u001b[A\n",
      " 19%|█▉        | 20/105 [06:05<15:39, 11.05s/it]\u001b[A\n",
      " 20%|██        | 21/105 [07:20<42:21, 30.26s/it]\u001b[A\n",
      " 22%|██▏       | 23/105 [07:21<29:06, 21.30s/it]\u001b[A\n",
      " 23%|██▎       | 24/105 [07:41<28:07, 20.83s/it]\u001b[A\n",
      " 24%|██▍       | 25/105 [08:00<26:58, 20.23s/it]\u001b[A\n",
      " 25%|██▍       | 26/105 [08:23<27:48, 21.12s/it]\u001b[A\n",
      " 26%|██▌       | 27/105 [08:41<26:27, 20.35s/it]\u001b[A\n",
      " 29%|██▊       | 30/105 [08:42<17:49, 14.27s/it]\u001b[A\n",
      " 30%|██▉       | 31/105 [08:42<12:37, 10.24s/it]\u001b[A\n",
      " 30%|███       | 32/105 [08:43<09:01,  7.42s/it]\u001b[A\n",
      " 32%|███▏      | 34/105 [08:44<06:18,  5.33s/it]\u001b[A\n",
      " 33%|███▎      | 35/105 [09:04<11:23,  9.77s/it]\u001b[A\n",
      " 35%|███▌      | 37/105 [09:24<11:02,  9.75s/it]\u001b[A\n",
      " 36%|███▌      | 38/105 [09:24<07:51,  7.04s/it]\u001b[A\n",
      " 37%|███▋      | 39/105 [09:25<05:40,  5.17s/it]\u001b[A\n",
      " 39%|███▉      | 41/105 [09:43<06:37,  6.21s/it]\u001b[A\n",
      " 41%|████      | 43/105 [09:43<04:32,  4.39s/it]\u001b[A\n",
      " 42%|████▏     | 44/105 [10:00<08:26,  8.30s/it]\u001b[A\n",
      " 43%|████▎     | 45/105 [10:08<07:59,  8.00s/it]\u001b[A\n",
      " 45%|████▍     | 47/105 [10:08<05:31,  5.71s/it]\u001b[A\n",
      " 46%|████▌     | 48/105 [10:08<03:50,  4.05s/it]\u001b[A\n",
      " 48%|████▊     | 50/105 [10:09<02:44,  2.98s/it]\u001b[A\n",
      " 50%|████▉     | 52/105 [10:10<01:55,  2.18s/it]\u001b[A\n",
      " 50%|█████     | 53/105 [10:11<01:31,  1.76s/it]\u001b[A\n",
      " 51%|█████▏    | 54/105 [10:12<01:14,  1.45s/it]\u001b[A\n",
      " 52%|█████▏    | 55/105 [10:29<05:10,  6.20s/it]\u001b[A\n",
      " 53%|█████▎    | 56/105 [10:30<03:43,  4.57s/it]\u001b[A\n",
      " 55%|█████▌    | 58/105 [10:33<02:52,  3.66s/it]\u001b[A\n",
      " 56%|█████▌    | 59/105 [10:34<02:08,  2.79s/it]\u001b[A\n",
      " 57%|█████▋    | 60/105 [11:44<17:24, 23.21s/it]\u001b[A\n",
      " 58%|█████▊    | 61/105 [12:04<16:10, 22.06s/it]\u001b[A\n",
      " 62%|██████▏   | 65/105 [12:14<10:48, 16.21s/it]\u001b[A\n",
      " 63%|██████▎   | 66/105 [12:15<07:31, 11.56s/it]\u001b[A\n",
      " 64%|██████▍   | 67/105 [12:15<05:15,  8.31s/it]\u001b[A\n",
      " 66%|██████▌   | 69/105 [12:16<03:33,  5.94s/it]\u001b[A\n",
      " 67%|██████▋   | 70/105 [12:36<05:52, 10.08s/it]\u001b[A\n",
      " 68%|██████▊   | 71/105 [12:37<04:08,  7.31s/it]\u001b[A\n",
      " 69%|██████▊   | 72/105 [12:38<02:56,  5.34s/it]\u001b[A\n",
      " 70%|██████▉   | 73/105 [12:57<05:03,  9.48s/it]\u001b[A\n",
      " 70%|███████   | 74/105 [12:57<03:33,  6.87s/it]\u001b[A\n",
      " 71%|███████▏  | 75/105 [12:58<02:26,  4.87s/it]\u001b[A\n",
      " 72%|███████▏  | 76/105 [12:58<01:45,  3.64s/it]\u001b[A\n",
      " 74%|███████▍  | 78/105 [13:01<01:19,  2.95s/it]\u001b[A\n",
      " 75%|███████▌  | 79/105 [13:01<00:55,  2.13s/it]\u001b[A\n",
      " 76%|███████▌  | 80/105 [13:21<03:05,  7.43s/it]\u001b[A\n",
      " 78%|███████▊  | 82/105 [13:22<02:01,  5.26s/it]\u001b[A\n",
      " 80%|████████  | 84/105 [13:25<01:27,  4.14s/it]\u001b[A\n",
      " 81%|████████  | 85/105 [13:45<02:58,  8.92s/it]\u001b[A\n",
      " 82%|████████▏ | 86/105 [13:45<02:03,  6.48s/it]\u001b[A\n",
      " 84%|████████▍ | 88/105 [13:46<01:19,  4.66s/it]\u001b[A\n",
      " 85%|████████▍ | 89/105 [14:55<06:23, 23.98s/it]\u001b[A\n",
      " 89%|████████▊ | 93/105 [14:56<03:22, 16.84s/it]\u001b[A\n",
      " 90%|█████████ | 95/105 [14:57<01:58, 11.90s/it]\u001b[A\n",
      " 91%|█████████▏| 96/105 [15:15<02:03, 13.70s/it]\u001b[A\n",
      " 92%|█████████▏| 97/105 [15:15<01:18,  9.82s/it]\u001b[A\n",
      " 95%|█████████▌| 100/105 [15:16<00:34,  6.97s/it]\u001b[A\n",
      " 97%|█████████▋| 102/105 [15:34<00:22,  7.46s/it]\u001b[A\n",
      " 99%|█████████▉| 104/105 [16:49<00:16, 16.49s/it]\u001b[A\n",
      "100%|██████████| 105/105 [16:49<00:00,  9.62s/it]\u001b[A\n",
      " 56%|█████▌    | 19/34 [2:04:06<2:19:25, 557.71s/it]\n",
      "  0%|          | 0/105 [00:00<?, ?it/s]\u001b[A"
     ]
    },
    {
     "name": "stdout",
     "output_type": "stream",
     "text": [
      "reverse_light_off_attack_1.log\n"
     ]
    },
    {
     "name": "stderr",
     "output_type": "stream",
     "text": [
      "\n",
      "  2%|▏         | 2/105 [00:36<31:01, 18.07s/it]\u001b[A\n",
      "  4%|▍         | 4/105 [01:12<30:26, 18.09s/it]\u001b[A\n",
      "  6%|▌         | 6/105 [01:12<21:00, 12.73s/it]\u001b[A\n",
      "  7%|▋         | 7/105 [01:13<14:44,  9.03s/it]\u001b[A\n",
      " 10%|▉         | 10/105 [01:48<15:31,  9.80s/it]\u001b[A\n",
      " 10%|█         | 11/105 [01:50<11:50,  7.56s/it]\u001b[A\n",
      " 11%|█▏        | 12/105 [01:59<12:14,  7.90s/it]\u001b[A\n",
      " 13%|█▎        | 14/105 [02:44<18:46, 12.38s/it]\u001b[A\n",
      " 14%|█▍        | 15/105 [02:45<13:11,  8.80s/it]\u001b[A\n",
      " 16%|█▌        | 17/105 [02:45<09:07,  6.22s/it]\u001b[A\n",
      " 19%|█▉        | 20/105 [02:56<07:39,  5.40s/it]\u001b[A\n",
      " 20%|██        | 21/105 [03:33<21:06, 15.07s/it]\u001b[A\n",
      " 22%|██▏       | 23/105 [03:34<14:30, 10.61s/it]\u001b[A\n",
      " 23%|██▎       | 24/105 [03:43<13:40, 10.13s/it]\u001b[A\n",
      " 24%|██▍       | 25/105 [03:52<13:01,  9.77s/it]\u001b[A\n",
      " 25%|██▍       | 26/105 [04:01<12:55,  9.82s/it]\u001b[A\n",
      " 26%|██▌       | 27/105 [04:11<12:30,  9.62s/it]\u001b[A\n",
      " 30%|██▉       | 31/105 [04:11<08:21,  6.77s/it]\u001b[A\n",
      " 30%|███       | 32/105 [04:12<05:56,  4.88s/it]\u001b[A\n",
      " 32%|███▏      | 34/105 [04:12<04:07,  3.48s/it]\u001b[A\n",
      " 33%|███▎      | 35/105 [04:23<06:33,  5.62s/it]\u001b[A\n",
      " 35%|███▌      | 37/105 [04:32<06:07,  5.40s/it]\u001b[A\n",
      " 36%|███▌      | 38/105 [04:33<04:21,  3.90s/it]\u001b[A\n",
      " 37%|███▋      | 39/105 [04:33<03:09,  2.87s/it]\u001b[A\n",
      " 39%|███▉      | 41/105 [04:43<03:41,  3.46s/it]\u001b[A\n",
      " 42%|████▏     | 44/105 [04:53<03:30,  3.44s/it]\u001b[A\n",
      " 43%|████▎     | 45/105 [04:58<03:44,  3.75s/it]\u001b[A\n",
      " 45%|████▍     | 47/105 [04:58<02:35,  2.68s/it]\u001b[A\n",
      " 48%|████▊     | 50/105 [04:59<01:46,  1.94s/it]\u001b[A\n",
      " 50%|████▉     | 52/105 [04:59<01:14,  1.41s/it]\u001b[A\n",
      " 50%|█████     | 53/105 [04:59<00:57,  1.11s/it]\u001b[A\n",
      " 51%|█████▏    | 54/105 [05:00<00:45,  1.12it/s]\u001b[A\n",
      " 52%|█████▏    | 55/105 [05:09<02:46,  3.33s/it]\u001b[A\n",
      " 53%|█████▎    | 56/105 [05:09<02:00,  2.46s/it]\u001b[A\n",
      " 55%|█████▌    | 58/105 [05:11<01:33,  1.98s/it]\u001b[A\n",
      " 56%|█████▌    | 59/105 [05:11<01:09,  1.51s/it]\u001b[A\n",
      " 57%|█████▋    | 60/105 [05:47<08:53, 11.85s/it]\u001b[A\n",
      " 58%|█████▊    | 61/105 [05:57<08:14, 11.24s/it]\u001b[A\n",
      " 62%|██████▏   | 65/105 [06:03<05:30,  8.27s/it]\u001b[A\n",
      " 63%|██████▎   | 66/105 [06:03<03:50,  5.91s/it]\u001b[A\n",
      " 64%|██████▍   | 67/105 [06:03<02:42,  4.27s/it]\u001b[A\n",
      " 66%|██████▌   | 69/105 [06:04<01:50,  3.06s/it]\u001b[A\n",
      " 67%|██████▋   | 70/105 [06:14<03:01,  5.18s/it]\u001b[A\n",
      " 68%|██████▊   | 71/105 [06:14<02:07,  3.75s/it]\u001b[A\n",
      " 69%|██████▊   | 72/105 [06:15<01:30,  2.75s/it]\u001b[A\n",
      " 70%|██████▉   | 73/105 [06:25<02:37,  4.91s/it]\u001b[A\n",
      " 70%|███████   | 74/105 [06:25<01:50,  3.57s/it]\u001b[A\n",
      " 71%|███████▏  | 75/105 [06:25<01:16,  2.54s/it]\u001b[A\n",
      " 72%|███████▏  | 76/105 [06:26<00:55,  1.91s/it]\u001b[A\n",
      " 74%|███████▍  | 78/105 [06:27<00:42,  1.58s/it]\u001b[A\n",
      " 75%|███████▌  | 79/105 [06:28<00:29,  1.14s/it]\u001b[A\n",
      " 76%|███████▌  | 80/105 [06:37<01:33,  3.76s/it]\u001b[A\n",
      " 78%|███████▊  | 82/105 [06:38<01:01,  2.66s/it]\u001b[A\n",
      " 80%|████████  | 84/105 [06:39<00:43,  2.08s/it]\u001b[A\n",
      " 81%|████████  | 85/105 [06:49<01:29,  4.45s/it]\u001b[A\n",
      " 82%|████████▏ | 86/105 [06:50<01:01,  3.24s/it]\u001b[A\n",
      " 84%|████████▍ | 88/105 [06:50<00:39,  2.34s/it]\u001b[A\n",
      " 85%|████████▍ | 89/105 [07:27<03:26, 12.89s/it]\u001b[A\n",
      " 89%|████████▊ | 93/105 [07:28<01:48,  9.05s/it]\u001b[A\n",
      " 90%|█████████ | 95/105 [07:28<01:04,  6.42s/it]\u001b[A\n",
      " 91%|█████████▏| 96/105 [07:38<01:04,  7.22s/it]\u001b[A\n",
      " 92%|█████████▏| 97/105 [07:38<00:41,  5.18s/it]\u001b[A\n",
      " 95%|█████████▌| 100/105 [07:38<00:18,  3.67s/it]\u001b[A\n",
      " 97%|█████████▋| 102/105 [07:48<00:12,  4.00s/it]\u001b[A\n",
      " 99%|█████████▉| 104/105 [08:26<00:08,  8.53s/it]\u001b[A\n",
      "100%|██████████| 105/105 [08:27<00:00,  4.83s/it]\u001b[A\n",
      " 59%|█████▉    | 20/34 [2:12:33<2:06:35, 542.52s/it]\n",
      "  0%|          | 0/105 [00:00<?, ?it/s]\u001b[A"
     ]
    },
    {
     "name": "stdout",
     "output_type": "stream",
     "text": [
      "correlated_signal_attack_1.log\n"
     ]
    },
    {
     "name": "stderr",
     "output_type": "stream",
     "text": [
      "\n",
      "  2%|▏         | 2/105 [00:43<37:22, 21.77s/it]\u001b[A\n",
      "  4%|▍         | 4/105 [01:30<37:24, 22.22s/it]\u001b[A\n",
      "  6%|▌         | 6/105 [01:30<25:52, 15.68s/it]\u001b[A\n",
      "  7%|▋         | 7/105 [01:31<18:15, 11.18s/it]\u001b[A\n",
      " 10%|▉         | 10/105 [02:29<21:29, 13.57s/it]\u001b[A\n",
      " 10%|█         | 11/105 [02:32<16:23, 10.47s/it]\u001b[A\n",
      " 11%|█▏        | 12/105 [02:42<15:59, 10.32s/it]\u001b[A\n",
      " 13%|█▎        | 14/105 [03:25<20:47, 13.71s/it]\u001b[A\n",
      " 14%|█▍        | 15/105 [03:25<14:35,  9.73s/it]\u001b[A\n",
      " 16%|█▌        | 17/105 [03:26<10:05,  6.88s/it]\u001b[A\n",
      " 19%|█▉        | 20/105 [03:38<08:29,  5.99s/it]\u001b[A\n",
      " 20%|██        | 21/105 [04:20<23:40, 16.91s/it]\u001b[A\n",
      " 22%|██▏       | 23/105 [04:20<16:16, 11.91s/it]\u001b[A\n",
      " 23%|██▎       | 24/105 [04:32<15:51, 11.75s/it]\u001b[A\n",
      " 24%|██▍       | 25/105 [04:43<15:22, 11.53s/it]\u001b[A\n",
      " 25%|██▍       | 26/105 [04:55<15:15, 11.59s/it]\u001b[A\n",
      " 26%|██▌       | 27/105 [05:05<14:37, 11.25s/it]\u001b[A\n",
      " 30%|██▉       | 31/105 [05:06<09:45,  7.92s/it]\u001b[A\n",
      " 30%|███       | 32/105 [05:06<06:55,  5.69s/it]\u001b[A\n",
      " 32%|███▏      | 34/105 [05:07<04:48,  4.06s/it]\u001b[A\n",
      " 33%|███▎      | 35/105 [05:18<07:24,  6.35s/it]\u001b[A\n",
      " 35%|███▌      | 37/105 [05:30<07:02,  6.22s/it]\u001b[A\n",
      " 36%|███▌      | 38/105 [05:31<05:01,  4.49s/it]\u001b[A\n",
      " 37%|███▋      | 39/105 [05:31<03:37,  3.30s/it]\u001b[A\n",
      " 39%|███▉      | 41/105 [05:41<04:06,  3.85s/it]\u001b[A\n",
      " 41%|████      | 43/105 [05:41<02:48,  2.71s/it]\u001b[A\n",
      " 42%|████▏     | 44/105 [05:52<05:09,  5.08s/it]\u001b[A\n",
      " 43%|████▎     | 45/105 [05:57<04:56,  4.94s/it]\u001b[A\n",
      " 45%|████▍     | 47/105 [05:57<03:24,  3.53s/it]\u001b[A\n",
      " 48%|████▊     | 50/105 [05:58<02:19,  2.54s/it]\u001b[A\n",
      " 50%|████▉     | 52/105 [05:58<01:37,  1.84s/it]\u001b[A\n",
      " 50%|█████     | 53/105 [05:59<01:14,  1.43s/it]\u001b[A\n",
      " 51%|█████▏    | 54/105 [05:59<00:57,  1.14s/it]\u001b[A\n",
      " 52%|█████▏    | 55/105 [06:10<03:19,  4.00s/it]\u001b[A\n",
      " 53%|█████▎    | 56/105 [06:10<02:23,  2.94s/it]\u001b[A\n",
      " 55%|█████▌    | 58/105 [06:12<01:50,  2.36s/it]\u001b[A\n",
      " 56%|█████▌    | 59/105 [06:13<01:22,  1.79s/it]\u001b[A\n",
      " 57%|█████▋    | 60/105 [06:58<11:00, 14.67s/it]\u001b[A\n",
      " 58%|█████▊    | 61/105 [07:09<10:03, 13.71s/it]\u001b[A\n",
      " 62%|██████▏   | 65/105 [07:16<06:43, 10.09s/it]\u001b[A\n",
      " 63%|██████▎   | 66/105 [07:16<04:40,  7.20s/it]\u001b[A\n",
      " 64%|██████▍   | 67/105 [07:17<03:18,  5.22s/it]\u001b[A\n",
      " 66%|██████▌   | 69/105 [07:17<02:14,  3.73s/it]\u001b[A\n",
      " 67%|██████▋   | 70/105 [07:32<04:01,  6.90s/it]\u001b[A\n",
      " 68%|██████▊   | 71/105 [07:32<02:50,  5.03s/it]\u001b[A\n",
      " 69%|██████▊   | 72/105 [07:33<02:01,  3.69s/it]\u001b[A\n",
      " 70%|██████▉   | 73/105 [07:46<03:30,  6.57s/it]\u001b[A\n",
      " 70%|███████   | 74/105 [07:47<02:27,  4.75s/it]\u001b[A\n",
      " 71%|███████▏  | 75/105 [07:47<01:40,  3.37s/it]\u001b[A\n",
      " 72%|███████▏  | 76/105 [07:47<01:12,  2.50s/it]\u001b[A\n",
      " 74%|███████▍  | 78/105 [07:49<00:54,  2.01s/it]\u001b[A\n",
      " 75%|███████▌  | 79/105 [07:49<00:37,  1.44s/it]\u001b[A\n",
      " 76%|███████▌  | 80/105 [08:01<01:52,  4.52s/it]\u001b[A\n",
      " 78%|███████▊  | 82/105 [08:01<01:13,  3.20s/it]\u001b[A\n",
      " 80%|████████  | 84/105 [08:03<00:52,  2.51s/it]\u001b[A\n",
      " 81%|████████  | 85/105 [08:15<01:47,  5.37s/it]\u001b[A\n",
      " 82%|████████▏ | 86/105 [08:15<01:14,  3.92s/it]\u001b[A\n",
      " 84%|████████▍ | 88/105 [08:16<00:47,  2.82s/it]\u001b[A\n",
      " 85%|████████▍ | 89/105 [09:04<04:21, 16.34s/it]\u001b[A\n",
      " 89%|████████▊ | 93/105 [09:04<02:17, 11.47s/it]\u001b[A\n",
      " 90%|█████████ | 95/105 [09:05<01:21,  8.10s/it]\u001b[A\n",
      " 91%|█████████▏| 96/105 [09:16<01:21,  9.07s/it]\u001b[A\n",
      " 92%|█████████▏| 97/105 [09:17<00:51,  6.50s/it]\u001b[A\n",
      " 95%|█████████▌| 100/105 [09:17<00:23,  4.60s/it]\u001b[A\n",
      " 97%|█████████▋| 102/105 [09:28<00:14,  4.89s/it]\u001b[A\n",
      " 99%|█████████▉| 104/105 [10:47<00:15, 15.28s/it]\u001b[A\n",
      "100%|██████████| 105/105 [10:48<00:00,  6.17s/it]\u001b[A\n",
      " 74%|███████▎  | 25/34 [2:23:21<1:02:47, 418.66s/it]\n",
      "  0%|          | 0/105 [00:00<?, ?it/s]\u001b[A"
     ]
    },
    {
     "name": "stdout",
     "output_type": "stream",
     "text": [
      "reverse_light_off_attack_2.log\n"
     ]
    },
    {
     "name": "stderr",
     "output_type": "stream",
     "text": [
      "\n",
      "  2%|▏         | 2/105 [00:56<48:11, 28.07s/it]\u001b[A\n",
      "  4%|▍         | 4/105 [01:51<46:59, 27.92s/it]\u001b[A\n",
      "  6%|▌         | 6/105 [01:52<32:28, 19.68s/it]\u001b[A\n",
      "  7%|▋         | 7/105 [01:52<22:49, 13.97s/it]\u001b[A\n",
      " 10%|▉         | 10/105 [02:46<24:01, 15.17s/it]\u001b[A\n",
      " 10%|█         | 11/105 [02:50<18:20, 11.71s/it]\u001b[A\n",
      " 11%|█▏        | 12/105 [03:03<18:45, 12.10s/it]\u001b[A\n",
      " 13%|█▎        | 14/105 [04:24<31:19, 20.66s/it]\u001b[A\n",
      " 14%|█▍        | 15/105 [04:25<21:56, 14.63s/it]\u001b[A\n",
      " 16%|█▌        | 17/105 [04:25<15:08, 10.33s/it]\u001b[A\n",
      " 19%|█▉        | 20/105 [04:41<12:24,  8.76s/it]\u001b[A\n",
      " 20%|██        | 21/105 [05:36<32:02, 22.88s/it]\u001b[A\n",
      " 22%|██▏       | 23/105 [05:37<22:00, 16.10s/it]\u001b[A\n",
      " 23%|██▎       | 24/105 [05:50<20:33, 15.23s/it]\u001b[A\n",
      " 24%|██▍       | 25/105 [06:04<19:41, 14.77s/it]\u001b[A\n",
      " 25%|██▍       | 26/105 [06:18<19:23, 14.73s/it]\u001b[A\n",
      " 26%|██▌       | 27/105 [06:33<19:07, 14.72s/it]\u001b[A\n",
      " 29%|██▊       | 30/105 [06:33<12:53, 10.32s/it]\u001b[A\n",
      " 30%|██▉       | 31/105 [06:34<09:10,  7.43s/it]\u001b[A\n",
      " 30%|███       | 32/105 [06:35<06:35,  5.42s/it]\u001b[A\n",
      " 32%|███▏      | 34/105 [06:35<04:37,  3.90s/it]\u001b[A\n",
      " 33%|███▎      | 35/105 [06:50<08:25,  7.22s/it]\u001b[A\n",
      " 35%|███▌      | 37/105 [07:06<08:23,  7.41s/it]\u001b[A\n",
      " 36%|███▌      | 38/105 [07:07<05:58,  5.35s/it]\u001b[A\n",
      " 37%|███▋      | 39/105 [07:07<04:19,  3.94s/it]\u001b[A\n",
      " 39%|███▉      | 41/105 [07:21<05:06,  4.79s/it]\u001b[A\n",
      " 41%|████      | 43/105 [07:21<03:29,  3.38s/it]\u001b[A\n",
      " 42%|████▏     | 44/105 [07:34<06:29,  6.38s/it]\u001b[A\n",
      " 43%|████▎     | 45/105 [07:40<06:15,  6.26s/it]\u001b[A\n",
      " 45%|████▍     | 47/105 [07:41<04:19,  4.47s/it]\u001b[A\n",
      " 46%|████▌     | 48/105 [07:41<03:00,  3.16s/it]\u001b[A\n",
      " 48%|████▊     | 50/105 [07:42<02:08,  2.34s/it]\u001b[A\n",
      " 50%|████▉     | 52/105 [07:42<01:31,  1.72s/it]\u001b[A\n",
      " 50%|█████     | 53/105 [07:43<01:11,  1.38s/it]\u001b[A\n",
      " 51%|█████▏    | 54/105 [07:44<00:57,  1.13s/it]\u001b[A\n",
      " 52%|█████▏    | 55/105 [07:57<04:00,  4.82s/it]\u001b[A\n",
      " 53%|█████▎    | 56/105 [07:58<02:53,  3.54s/it]\u001b[A\n",
      " 55%|█████▌    | 58/105 [08:00<02:14,  2.86s/it]\u001b[A\n",
      " 56%|█████▌    | 59/105 [08:01<01:39,  2.17s/it]\u001b[A\n",
      " 57%|█████▋    | 60/105 [08:52<12:46, 17.04s/it]\u001b[A\n",
      " 58%|█████▊    | 61/105 [09:06<11:47, 16.07s/it]\u001b[A\n",
      " 62%|██████▏   | 65/105 [09:14<07:52, 11.82s/it]\u001b[A\n",
      " 63%|██████▎   | 66/105 [09:14<05:28,  8.43s/it]\u001b[A\n",
      " 64%|██████▍   | 67/105 [09:15<03:50,  6.07s/it]\u001b[A\n",
      " 66%|██████▌   | 69/105 [09:15<02:36,  4.33s/it]\u001b[A\n",
      " 67%|██████▋   | 70/105 [09:29<04:08,  7.10s/it]\u001b[A\n",
      " 68%|██████▊   | 71/105 [09:30<02:54,  5.14s/it]\u001b[A\n",
      " 69%|██████▊   | 72/105 [09:30<02:04,  3.76s/it]\u001b[A\n",
      " 70%|██████▉   | 73/105 [09:44<03:38,  6.83s/it]\u001b[A\n",
      " 70%|███████   | 74/105 [09:45<02:33,  4.96s/it]\u001b[A\n",
      " 71%|███████▏  | 75/105 [09:45<01:45,  3.51s/it]\u001b[A\n",
      " 72%|███████▏  | 76/105 [09:45<01:16,  2.63s/it]\u001b[A\n",
      " 74%|███████▍  | 78/105 [09:47<00:57,  2.14s/it]\u001b[A\n",
      " 75%|███████▌  | 79/105 [09:48<00:40,  1.55s/it]\u001b[A\n",
      " 76%|███████▌  | 80/105 [10:01<02:09,  5.18s/it]\u001b[A\n",
      " 78%|███████▊  | 82/105 [10:01<01:24,  3.66s/it]\u001b[A\n",
      " 80%|████████  | 84/105 [10:04<01:00,  2.87s/it]\u001b[A\n",
      " 81%|████████  | 85/105 [10:17<02:03,  6.16s/it]\u001b[A\n",
      " 82%|████████▏ | 86/105 [10:18<01:25,  4.49s/it]\u001b[A\n",
      " 84%|████████▍ | 88/105 [10:19<00:54,  3.23s/it]\u001b[A\n",
      " 85%|████████▍ | 89/105 [11:13<04:56, 18.54s/it]\u001b[A\n",
      " 89%|████████▊ | 93/105 [11:13<02:36, 13.02s/it]\u001b[A\n",
      " 90%|█████████ | 95/105 [11:14<01:32,  9.20s/it]\u001b[A\n",
      " 91%|█████████▏| 96/105 [11:27<01:32, 10.28s/it]\u001b[A\n",
      " 92%|█████████▏| 97/105 [11:27<00:58,  7.36s/it]\u001b[A\n",
      " 95%|█████████▌| 100/105 [11:28<00:26,  5.21s/it]\u001b[A\n",
      " 97%|█████████▋| 102/105 [11:40<00:16,  5.46s/it]\u001b[A\n",
      " 99%|█████████▉| 104/105 [12:36<00:12, 12.25s/it]\u001b[A\n",
      "100%|██████████| 105/105 [12:37<00:00,  7.21s/it]\u001b[A\n",
      " 76%|███████▋  | 26/34 [2:35:58<1:09:21, 520.20s/it]\n",
      "  0%|          | 0/105 [00:00<?, ?it/s]\u001b[A"
     ]
    },
    {
     "name": "stdout",
     "output_type": "stream",
     "text": [
      "max_engine_coolant_temp_attack.log\n"
     ]
    },
    {
     "name": "stderr",
     "output_type": "stream",
     "text": [
      "\n",
      "  2%|▏         | 2/105 [00:34<29:45, 17.33s/it]\u001b[A\n",
      "  4%|▍         | 4/105 [01:10<29:20, 17.43s/it]\u001b[A\n",
      "  6%|▌         | 6/105 [01:10<20:14, 12.27s/it]\u001b[A\n",
      "  7%|▋         | 7/105 [01:10<14:12,  8.69s/it]\u001b[A\n",
      " 10%|▉         | 10/105 [01:44<14:56,  9.43s/it]\u001b[A\n",
      " 10%|█         | 11/105 [01:47<11:44,  7.49s/it]\u001b[A\n",
      " 11%|█▏        | 12/105 [01:55<11:56,  7.70s/it]\u001b[A\n",
      " 13%|█▎        | 14/105 [02:34<16:58, 11.19s/it]\u001b[A\n",
      " 14%|█▍        | 15/105 [02:34<11:55,  7.95s/it]\u001b[A\n",
      " 16%|█▌        | 17/105 [02:34<08:15,  5.63s/it]\u001b[A\n",
      " 19%|█▉        | 20/105 [02:44<06:57,  4.91s/it]\u001b[A\n",
      " 20%|██        | 21/105 [03:18<19:14, 13.74s/it]\u001b[A\n",
      " 22%|██▏       | 23/105 [03:19<13:14,  9.68s/it]\u001b[A\n",
      " 23%|██▎       | 24/105 [03:27<12:38,  9.37s/it]\u001b[A\n",
      " 24%|██▍       | 25/105 [03:36<12:05,  9.07s/it]\u001b[A\n",
      " 25%|██▍       | 26/105 [03:45<11:57,  9.09s/it]\u001b[A\n",
      " 26%|██▌       | 27/105 [03:54<11:43,  9.01s/it]\u001b[A\n",
      " 30%|██▉       | 31/105 [03:54<07:49,  6.35s/it]\u001b[A\n",
      " 30%|███       | 32/105 [03:55<05:33,  4.58s/it]\u001b[A\n",
      " 32%|███▏      | 34/105 [03:55<03:52,  3.27s/it]\u001b[A\n",
      " 33%|███▎      | 35/105 [04:04<05:53,  5.04s/it]\u001b[A\n",
      " 35%|███▌      | 37/105 [04:14<05:36,  4.95s/it]\u001b[A\n",
      " 36%|███▌      | 38/105 [04:14<03:59,  3.58s/it]\u001b[A\n",
      " 37%|███▋      | 39/105 [04:15<02:53,  2.63s/it]\u001b[A\n",
      " 39%|███▉      | 41/105 [04:23<03:17,  3.09s/it]\u001b[A\n",
      " 41%|████      | 43/105 [04:23<02:15,  2.18s/it]\u001b[A\n",
      " 42%|████▏     | 44/105 [04:32<04:17,  4.22s/it]\u001b[A\n",
      " 43%|████▎     | 45/105 [04:36<04:08,  4.15s/it]\u001b[A\n",
      " 45%|████▍     | 47/105 [04:36<02:51,  2.96s/it]\u001b[A\n",
      " 48%|████▊     | 50/105 [04:37<01:57,  2.13s/it]\u001b[A\n",
      " 50%|████▉     | 52/105 [04:37<01:21,  1.55s/it]\u001b[A\n",
      " 50%|█████     | 53/105 [04:38<01:02,  1.20s/it]\u001b[A\n",
      " 51%|█████▏    | 54/105 [04:38<00:48,  1.05it/s]\u001b[A\n",
      " 52%|█████▏    | 55/105 [04:47<02:42,  3.25s/it]\u001b[A\n",
      " 53%|█████▎    | 56/105 [04:47<01:57,  2.39s/it]\u001b[A\n",
      " 55%|█████▌    | 58/105 [04:49<01:29,  1.91s/it]\u001b[A\n",
      " 56%|█████▌    | 59/105 [04:49<01:06,  1.45s/it]\u001b[A\n",
      " 57%|█████▋    | 60/105 [05:26<08:59, 12.00s/it]\u001b[A\n",
      " 58%|█████▊    | 61/105 [05:35<08:10, 11.15s/it]\u001b[A\n",
      " 62%|██████▏   | 65/105 [05:40<05:27,  8.19s/it]\u001b[A\n",
      " 63%|██████▎   | 66/105 [05:40<03:47,  5.84s/it]\u001b[A\n",
      " 64%|██████▍   | 67/105 [05:41<02:39,  4.21s/it]\u001b[A\n",
      " 66%|██████▌   | 69/105 [05:41<01:48,  3.00s/it]\u001b[A\n",
      " 67%|██████▋   | 70/105 [05:50<02:47,  4.79s/it]\u001b[A\n",
      " 68%|██████▊   | 71/105 [05:50<01:58,  3.47s/it]\u001b[A\n",
      " 69%|██████▊   | 72/105 [05:51<01:23,  2.54s/it]\u001b[A\n",
      " 70%|██████▉   | 73/105 [06:01<02:30,  4.69s/it]\u001b[A\n",
      " 70%|███████   | 74/105 [06:01<01:46,  3.44s/it]\u001b[A\n",
      " 71%|███████▏  | 75/105 [06:01<01:13,  2.45s/it]\u001b[A\n",
      " 72%|███████▏  | 76/105 [06:02<00:54,  1.88s/it]\u001b[A\n",
      " 74%|███████▍  | 78/105 [06:03<00:41,  1.53s/it]\u001b[A\n",
      " 75%|███████▌  | 79/105 [06:03<00:28,  1.11s/it]\u001b[A\n",
      " 76%|███████▌  | 80/105 [06:12<01:25,  3.42s/it]\u001b[A\n",
      " 78%|███████▊  | 82/105 [06:12<00:55,  2.42s/it]\u001b[A\n",
      " 80%|████████  | 84/105 [06:14<00:39,  1.89s/it]\u001b[A\n",
      " 81%|████████  | 85/105 [06:23<01:20,  4.00s/it]\u001b[A\n",
      " 82%|████████▏ | 86/105 [06:23<00:55,  2.92s/it]\u001b[A\n",
      " 84%|████████▍ | 88/105 [06:23<00:35,  2.10s/it]\u001b[A\n",
      " 85%|████████▍ | 89/105 [06:57<03:06, 11.64s/it]\u001b[A\n",
      " 89%|████████▊ | 93/105 [06:58<01:38,  8.18s/it]\u001b[A\n",
      " 90%|█████████ | 95/105 [06:58<00:58,  5.80s/it]\u001b[A\n",
      " 91%|█████████▏| 96/105 [07:08<01:03,  7.04s/it]\u001b[A\n",
      " 92%|█████████▏| 97/105 [07:08<00:40,  5.03s/it]\u001b[A\n",
      " 95%|█████████▌| 100/105 [07:09<00:17,  3.56s/it]\u001b[A\n",
      " 97%|█████████▋| 102/105 [07:16<00:10,  3.63s/it]\u001b[A\n",
      " 99%|█████████▉| 104/105 [08:02<00:09,  9.45s/it]\u001b[A\n",
      "100%|██████████| 105/105 [08:03<00:00,  4.60s/it]\u001b[A\n",
      " 79%|███████▉  | 27/34 [2:44:02<59:23, 509.14s/it]  \n",
      "  0%|          | 0/105 [00:00<?, ?it/s]\u001b[A"
     ]
    },
    {
     "name": "stdout",
     "output_type": "stream",
     "text": [
      "max_speedometer_attack_1.log\n"
     ]
    },
    {
     "name": "stderr",
     "output_type": "stream",
     "text": [
      "\n",
      "  2%|▏         | 2/105 [01:53<1:37:46, 56.96s/it]\u001b[A\n",
      "  4%|▍         | 4/105 [03:42<1:34:30, 56.14s/it]\u001b[A\n",
      "  6%|▌         | 6/105 [03:43<1:05:09, 39.49s/it]\u001b[A\n",
      "  7%|▋         | 7/105 [03:44<45:41, 27.97s/it]  \u001b[A\n",
      " 10%|▉         | 10/105 [05:34<48:24, 30.57s/it]\u001b[A\n",
      " 10%|█         | 11/105 [05:41<36:56, 23.58s/it]\u001b[A\n",
      " 11%|█▏        | 12/105 [06:08<38:09, 24.62s/it]\u001b[A\n",
      " 13%|█▎        | 14/105 [08:30<58:17, 38.43s/it]\u001b[A\n",
      " 14%|█▍        | 15/105 [08:31<40:51, 27.24s/it]\u001b[A\n",
      " 16%|█▌        | 17/105 [08:32<28:14, 19.25s/it]\u001b[A\n",
      " 19%|█▉        | 20/105 [09:09<24:17, 17.15s/it]\u001b[A\n",
      " 20%|██        | 21/105 [11:04<1:05:15, 46.62s/it]\u001b[A\n",
      " 22%|██▏       | 23/105 [11:05<44:49, 32.80s/it]  \u001b[A\n",
      " 23%|██▎       | 24/105 [11:33<42:15, 31.30s/it]\u001b[A\n",
      " 24%|██▍       | 25/105 [12:00<39:53, 29.92s/it]\u001b[A\n",
      " 25%|██▍       | 26/105 [12:31<39:57, 30.35s/it]\u001b[A\n",
      " 26%|██▌       | 27/105 [12:59<38:32, 29.65s/it]\u001b[A\n",
      " 29%|██▊       | 30/105 [13:00<25:58, 20.78s/it]\u001b[A\n",
      " 30%|██▉       | 31/105 [13:01<18:24, 14.93s/it]\u001b[A\n",
      " 30%|███       | 32/105 [13:02<13:11, 10.84s/it]\u001b[A\n",
      " 32%|███▏      | 34/105 [13:03<09:12,  7.78s/it]\u001b[A\n",
      " 33%|███▎      | 35/105 [13:35<17:27, 14.96s/it]\u001b[A\n",
      " 35%|███▌      | 37/105 [14:08<17:26, 15.40s/it]\u001b[A\n",
      " 36%|███▌      | 38/105 [14:09<12:25, 11.12s/it]\u001b[A\n",
      " 37%|███▋      | 39/105 [14:10<08:58,  8.15s/it]\u001b[A\n",
      " 39%|███▉      | 41/105 [14:40<10:51, 10.18s/it]\u001b[A\n",
      " 41%|████      | 43/105 [14:41<07:26,  7.21s/it]\u001b[A\n",
      " 42%|████▏     | 44/105 [15:09<13:54, 13.68s/it]\u001b[A\n",
      " 43%|████▎     | 45/105 [15:22<13:28, 13.47s/it]\u001b[A\n",
      " 45%|████▍     | 47/105 [15:24<09:18,  9.62s/it]\u001b[A\n",
      " 46%|████▌     | 48/105 [15:24<06:28,  6.81s/it]\u001b[A\n",
      " 48%|████▊     | 50/105 [15:26<04:39,  5.08s/it]\u001b[A\n",
      " 50%|████▉     | 52/105 [15:27<03:17,  3.73s/it]\u001b[A\n",
      " 50%|█████     | 53/105 [15:29<02:40,  3.09s/it]\u001b[A\n",
      " 51%|█████▏    | 54/105 [15:30<02:16,  2.67s/it]\u001b[A\n",
      " 52%|█████▏    | 55/105 [16:00<09:03, 10.87s/it]\u001b[A\n",
      " 53%|█████▎    | 56/105 [16:02<06:34,  8.04s/it]\u001b[A\n",
      " 54%|█████▍    | 57/105 [16:02<04:31,  5.66s/it]\u001b[A\n",
      " 55%|█████▌    | 58/105 [16:07<04:21,  5.56s/it]\u001b[A\n",
      " 56%|█████▌    | 59/105 [16:09<03:15,  4.26s/it]\u001b[A\n",
      " 57%|█████▋    | 60/105 [18:10<29:28, 39.29s/it]\u001b[A\n",
      " 58%|█████▊    | 61/105 [18:41<27:09, 37.03s/it]\u001b[A\n",
      " 62%|██████▏   | 65/105 [19:00<18:11, 27.30s/it]\u001b[A\n",
      " 63%|██████▎   | 66/105 [19:01<12:40, 19.50s/it]\u001b[A\n",
      " 64%|██████▍   | 67/105 [19:02<08:52, 14.01s/it]\u001b[A\n",
      " 66%|██████▌   | 69/105 [19:04<06:01, 10.03s/it]\u001b[A\n",
      " 67%|██████▋   | 70/105 [19:36<09:40, 16.58s/it]\u001b[A\n",
      " 68%|██████▊   | 71/105 [19:37<06:46, 11.96s/it]\u001b[A\n",
      " 69%|██████▊   | 72/105 [19:38<04:48,  8.76s/it]\u001b[A\n",
      " 70%|██████▉   | 73/105 [20:09<08:09, 15.30s/it]\u001b[A\n",
      " 70%|███████   | 74/105 [20:10<05:43, 11.08s/it]\u001b[A\n",
      " 71%|███████▏  | 75/105 [20:10<03:55,  7.84s/it]\u001b[A\n",
      " 72%|███████▏  | 76/105 [20:11<02:48,  5.83s/it]\u001b[A\n",
      " 74%|███████▍  | 78/105 [20:15<02:07,  4.71s/it]\u001b[A\n",
      " 75%|███████▌  | 79/105 [20:16<01:28,  3.39s/it]\u001b[A\n",
      " 76%|███████▌  | 80/105 [20:46<04:47, 11.49s/it]\u001b[A\n",
      " 78%|███████▊  | 82/105 [20:47<03:07,  8.14s/it]\u001b[A\n",
      " 80%|████████  | 84/105 [20:51<02:13,  6.37s/it]\u001b[A\n",
      " 81%|████████  | 85/105 [21:23<04:39, 13.97s/it]\u001b[A\n",
      " 82%|████████▏ | 86/105 [21:24<03:14, 10.22s/it]\u001b[A\n",
      " 84%|████████▍ | 88/105 [21:26<02:05,  7.38s/it]\u001b[A\n",
      " 85%|████████▍ | 89/105 [23:29<11:12, 42.01s/it]\u001b[A\n",
      " 89%|████████▊ | 93/105 [23:30<05:54, 29.51s/it]\u001b[A\n",
      " 90%|█████████ | 95/105 [23:31<03:28, 20.84s/it]\u001b[A\n",
      " 91%|█████████▏| 96/105 [23:58<03:23, 22.60s/it]\u001b[A\n",
      " 92%|█████████▏| 97/105 [23:59<02:09, 16.15s/it]\u001b[A\n",
      " 95%|█████████▌| 100/105 [24:00<00:57, 11.42s/it]\u001b[A\n",
      " 97%|█████████▋| 102/105 [24:26<00:35, 11.91s/it]\u001b[A\n",
      " 99%|█████████▉| 104/105 [26:28<00:26, 26.64s/it]\u001b[A\n",
      "100%|██████████| 105/105 [26:30<00:00, 15.14s/it]\u001b[A\n",
      " 85%|████████▌ | 29/34 [3:10:32<49:34, 594.92s/it]\n",
      "  0%|          | 0/105 [00:00<?, ?it/s]\u001b[A"
     ]
    },
    {
     "name": "stdout",
     "output_type": "stream",
     "text": [
      "reverse_light_on_attack_2.log\n"
     ]
    },
    {
     "name": "stderr",
     "output_type": "stream",
     "text": [
      "\n",
      "  2%|▏         | 2/105 [01:33<1:20:28, 46.88s/it]\u001b[A\n",
      "  4%|▍         | 4/105 [03:04<1:18:02, 46.36s/it]\u001b[A\n",
      "  6%|▌         | 6/105 [03:05<53:49, 32.62s/it]  \u001b[A\n",
      "  7%|▋         | 7/105 [03:06<37:44, 23.11s/it]\u001b[A\n",
      " 10%|▉         | 10/105 [04:35<39:49, 25.15s/it]\u001b[A\n",
      " 10%|█         | 11/105 [04:41<30:27, 19.44s/it]\u001b[A\n",
      " 11%|█▏        | 12/105 [05:04<31:36, 20.39s/it]\u001b[A\n",
      " 13%|█▎        | 14/105 [07:23<53:19, 35.16s/it]\u001b[A\n",
      " 14%|█▍        | 15/105 [07:24<37:20, 24.90s/it]\u001b[A\n",
      " 16%|█▌        | 17/105 [07:25<25:47, 17.58s/it]\u001b[A\n",
      " 19%|█▉        | 20/105 [07:52<21:10, 14.95s/it]\u001b[A\n",
      " 20%|██        | 21/105 [09:27<54:43, 39.09s/it]\u001b[A\n",
      " 22%|██▏       | 23/105 [09:28<37:35, 27.50s/it]\u001b[A\n",
      " 23%|██▎       | 24/105 [09:50<35:03, 25.96s/it]\u001b[A\n",
      " 24%|██▍       | 25/105 [10:13<33:17, 24.97s/it]\u001b[A\n",
      " 25%|██▍       | 26/105 [10:40<33:37, 25.53s/it]\u001b[A\n",
      " 26%|██▌       | 27/105 [11:03<32:11, 24.76s/it]\u001b[A\n",
      " 29%|██▊       | 30/105 [11:03<21:41, 17.36s/it]\u001b[A\n",
      " 30%|██▉       | 31/105 [11:04<15:21, 12.45s/it]\u001b[A\n",
      " 30%|███       | 32/105 [11:05<10:59,  9.03s/it]\u001b[A\n",
      " 32%|███▏      | 34/105 [11:06<07:41,  6.50s/it]\u001b[A\n",
      " 33%|███▎      | 35/105 [11:33<14:38, 12.56s/it]\u001b[A\n",
      " 35%|███▌      | 37/105 [11:58<14:14, 12.57s/it]\u001b[A\n",
      " 36%|███▌      | 38/105 [11:59<10:09,  9.10s/it]\u001b[A\n",
      " 37%|███▋      | 39/105 [12:00<07:21,  6.70s/it]\u001b[A\n",
      " 39%|███▉      | 41/105 [12:25<08:58,  8.42s/it]\u001b[A\n",
      " 41%|████      | 43/105 [12:25<06:07,  5.93s/it]\u001b[A\n",
      " 42%|████▏     | 44/105 [12:49<11:28, 11.28s/it]\u001b[A\n",
      " 43%|████▎     | 45/105 [12:59<10:50, 10.84s/it]\u001b[A\n",
      " 45%|████▍     | 47/105 [13:00<07:29,  7.75s/it]\u001b[A\n",
      " 46%|████▌     | 48/105 [13:00<05:12,  5.48s/it]\u001b[A\n",
      " 48%|████▊     | 50/105 [13:02<03:41,  4.03s/it]\u001b[A\n",
      " 50%|████▉     | 52/105 [13:03<02:36,  2.96s/it]\u001b[A\n",
      " 50%|█████     | 53/105 [13:04<02:03,  2.37s/it]\u001b[A\n",
      " 51%|█████▏    | 54/105 [13:05<01:42,  2.00s/it]\u001b[A\n",
      " 52%|█████▏    | 55/105 [13:28<07:01,  8.44s/it]\u001b[A\n",
      " 53%|█████▎    | 56/105 [13:29<05:03,  6.19s/it]\u001b[A\n",
      " 55%|█████▌    | 58/105 [13:33<03:53,  4.97s/it]\u001b[A\n",
      " 56%|█████▌    | 59/105 [13:34<02:53,  3.77s/it]\u001b[A\n",
      " 57%|█████▋    | 60/105 [15:16<24:49, 33.10s/it]\u001b[A\n",
      " 58%|█████▊    | 61/105 [15:43<22:51, 31.17s/it]\u001b[A\n",
      " 62%|██████▏   | 65/105 [15:59<15:20, 23.02s/it]\u001b[A\n",
      " 63%|██████▎   | 66/105 [16:00<10:40, 16.42s/it]\u001b[A\n",
      " 64%|██████▍   | 67/105 [16:01<07:29, 11.82s/it]\u001b[A\n",
      " 66%|██████▌   | 69/105 [16:02<05:04,  8.45s/it]\u001b[A\n",
      " 67%|██████▋   | 70/105 [16:28<08:00, 13.73s/it]\u001b[A\n",
      " 68%|██████▊   | 71/105 [16:29<05:37,  9.94s/it]\u001b[A\n",
      " 69%|██████▊   | 72/105 [16:30<03:58,  7.24s/it]\u001b[A\n",
      " 70%|██████▉   | 73/105 [17:01<07:40, 14.38s/it]\u001b[A\n",
      " 70%|███████   | 74/105 [17:02<05:22, 10.40s/it]\u001b[A\n",
      " 71%|███████▏  | 75/105 [17:02<03:40,  7.36s/it]\u001b[A\n",
      " 72%|███████▏  | 76/105 [17:03<02:38,  5.45s/it]\u001b[A\n",
      " 74%|███████▍  | 78/105 [17:07<01:57,  4.35s/it]\u001b[A\n",
      " 75%|███████▌  | 79/105 [17:07<01:21,  3.13s/it]\u001b[A\n",
      " 76%|███████▌  | 80/105 [17:34<04:14, 10.16s/it]\u001b[A\n",
      " 77%|███████▋  | 81/105 [17:34<02:51,  7.14s/it]\u001b[A\n",
      " 78%|███████▊  | 82/105 [17:34<01:58,  5.15s/it]\u001b[A\n",
      " 80%|████████  | 84/105 [17:38<01:27,  4.16s/it]\u001b[A\n",
      " 81%|████████  | 85/105 [18:04<03:36, 10.81s/it]\u001b[A\n",
      " 82%|████████▏ | 86/105 [18:05<02:29,  7.88s/it]\u001b[A\n",
      " 84%|████████▍ | 88/105 [18:07<01:36,  5.68s/it]\u001b[A\n",
      " 85%|████████▍ | 89/105 [19:48<09:10, 34.41s/it]\u001b[A\n",
      " 89%|████████▊ | 93/105 [19:49<04:49, 24.16s/it]\u001b[A\n",
      " 90%|█████████ | 95/105 [19:50<02:50, 17.06s/it]\u001b[A\n",
      " 91%|█████████▏| 96/105 [20:14<02:52, 19.18s/it]\u001b[A\n",
      " 92%|█████████▏| 97/105 [20:15<01:49, 13.75s/it]\u001b[A\n",
      " 95%|█████████▌| 100/105 [20:16<00:48,  9.72s/it]\u001b[A\n",
      " 97%|█████████▋| 102/105 [20:38<00:30, 10.12s/it]\u001b[A\n",
      " 99%|█████████▉| 104/105 [22:21<00:22, 22.49s/it]\u001b[A\n",
      "100%|██████████| 105/105 [22:22<00:00, 12.79s/it]\u001b[A\n",
      " 94%|█████████▍| 32/34 [3:32:54<18:21, 550.69s/it]\n",
      "  0%|          | 0/105 [00:00<?, ?it/s]\u001b[A"
     ]
    },
    {
     "name": "stdout",
     "output_type": "stream",
     "text": [
      "fuzzing_attack_2.log\n"
     ]
    },
    {
     "name": "stderr",
     "output_type": "stream",
     "text": [
      "\n",
      "  2%|▏         | 2/105 [00:18<15:53,  9.25s/it]\u001b[A\n",
      "  4%|▍         | 4/105 [00:37<15:37,  9.28s/it]\u001b[A\n",
      "  6%|▌         | 6/105 [00:37<10:48,  6.55s/it]\u001b[A\n",
      "  7%|▋         | 7/105 [00:37<07:36,  4.66s/it]\u001b[A\n",
      " 10%|▉         | 10/105 [00:55<07:56,  5.02s/it]\u001b[A\n",
      " 10%|█         | 11/105 [00:56<06:02,  3.86s/it]\u001b[A\n",
      " 11%|█▏        | 12/105 [01:01<06:23,  4.12s/it]\u001b[A\n",
      " 13%|█▎        | 14/105 [01:19<08:32,  5.63s/it]\u001b[A\n",
      " 14%|█▍        | 15/105 [01:19<05:59,  4.00s/it]\u001b[A\n",
      " 16%|█▌        | 17/105 [01:19<04:09,  2.83s/it]\u001b[A\n",
      " 19%|█▉        | 20/105 [01:26<03:41,  2.61s/it]\u001b[A\n",
      " 20%|██        | 21/105 [01:44<10:08,  7.24s/it]\u001b[A\n",
      " 22%|██▏       | 23/105 [01:44<06:57,  5.10s/it]\u001b[A\n",
      " 23%|██▎       | 24/105 [01:48<06:32,  4.84s/it]\u001b[A\n",
      " 24%|██▍       | 25/105 [01:53<06:21,  4.77s/it]\u001b[A\n",
      " 25%|██▍       | 26/105 [01:58<06:23,  4.85s/it]\u001b[A\n",
      " 26%|██▌       | 27/105 [02:02<06:07,  4.71s/it]\u001b[A\n",
      " 30%|██▉       | 31/105 [02:02<04:05,  3.31s/it]\u001b[A\n",
      " 30%|███       | 32/105 [02:03<02:54,  2.39s/it]\u001b[A\n",
      " 32%|███▏      | 34/105 [02:03<02:01,  1.71s/it]\u001b[A\n",
      " 33%|███▎      | 35/105 [02:08<03:04,  2.63s/it]\u001b[A\n",
      " 35%|███▌      | 37/105 [02:13<02:58,  2.62s/it]\u001b[A\n",
      " 36%|███▌      | 38/105 [02:13<02:07,  1.90s/it]\u001b[A\n",
      " 37%|███▋      | 39/105 [02:13<01:32,  1.39s/it]\u001b[A\n",
      " 39%|███▉      | 41/105 [02:18<01:48,  1.69s/it]\u001b[A\n",
      " 42%|████▏     | 44/105 [02:23<01:41,  1.67s/it]\u001b[A\n",
      " 43%|████▎     | 45/105 [02:25<01:47,  1.78s/it]\u001b[A\n",
      " 45%|████▍     | 47/105 [02:25<01:14,  1.28s/it]\u001b[A\n",
      " 48%|████▊     | 50/105 [02:26<00:51,  1.07it/s]\u001b[A\n",
      " 50%|████▉     | 52/105 [02:26<00:36,  1.47it/s]\u001b[A\n",
      " 50%|█████     | 53/105 [02:26<00:28,  1.85it/s]\u001b[A\n",
      " 51%|█████▏    | 54/105 [02:26<00:22,  2.22it/s]\u001b[A\n",
      " 52%|█████▏    | 55/105 [02:31<01:27,  1.76s/it]\u001b[A\n",
      " 53%|█████▎    | 56/105 [02:31<01:03,  1.29s/it]\u001b[A\n",
      " 55%|█████▌    | 58/105 [02:32<00:48,  1.04s/it]\u001b[A\n",
      " 56%|█████▌    | 59/105 [02:32<00:36,  1.25it/s]\u001b[A\n",
      " 57%|█████▋    | 60/105 [02:50<04:26,  5.92s/it]\u001b[A\n",
      " 58%|█████▊    | 61/105 [02:55<04:10,  5.69s/it]\u001b[A\n",
      " 62%|██████▏   | 65/105 [02:58<02:47,  4.19s/it]\u001b[A\n",
      " 63%|██████▎   | 66/105 [02:58<01:56,  2.99s/it]\u001b[A\n",
      " 64%|██████▍   | 67/105 [02:59<01:21,  2.15s/it]\u001b[A\n",
      " 66%|██████▌   | 69/105 [02:59<00:55,  1.54s/it]\u001b[A\n",
      " 67%|██████▋   | 70/105 [03:03<01:26,  2.48s/it]\u001b[A\n",
      " 68%|██████▊   | 71/105 [03:04<01:01,  1.80s/it]\u001b[A\n",
      " 69%|██████▊   | 72/105 [03:04<00:43,  1.32s/it]\u001b[A\n",
      " 70%|██████▉   | 73/105 [03:09<01:16,  2.40s/it]\u001b[A\n",
      " 70%|███████   | 74/105 [03:09<00:54,  1.74s/it]\u001b[A\n",
      " 72%|███████▏  | 76/105 [03:09<00:36,  1.26s/it]\u001b[A\n",
      " 74%|███████▍  | 78/105 [03:10<00:27,  1.00s/it]\u001b[A\n",
      " 76%|███████▌  | 80/105 [03:15<00:35,  1.41s/it]\u001b[A\n",
      " 78%|███████▊  | 82/105 [03:15<00:23,  1.01s/it]\u001b[A\n",
      " 80%|████████  | 84/105 [03:16<00:17,  1.19it/s]\u001b[A\n",
      " 81%|████████  | 85/105 [03:21<00:44,  2.20s/it]\u001b[A\n",
      " 82%|████████▏ | 86/105 [03:21<00:30,  1.61s/it]\u001b[A\n",
      " 84%|████████▍ | 88/105 [03:22<00:19,  1.16s/it]\u001b[A\n",
      " 85%|████████▍ | 89/105 [03:39<01:37,  6.11s/it]\u001b[A\n",
      " 89%|████████▊ | 93/105 [03:40<00:51,  4.29s/it]\u001b[A\n",
      " 90%|█████████ | 95/105 [03:40<00:30,  3.04s/it]\u001b[A\n",
      " 91%|█████████▏| 96/105 [03:44<00:30,  3.34s/it]\u001b[A\n",
      " 92%|█████████▏| 97/105 [03:44<00:19,  2.39s/it]\u001b[A\n",
      " 95%|█████████▌| 100/105 [03:44<00:08,  1.70s/it]\u001b[A\n",
      " 97%|█████████▋| 102/105 [03:49<00:05,  1.86s/it]\u001b[A\n",
      " 99%|█████████▉| 104/105 [04:09<00:04,  4.33s/it]\u001b[A\n",
      "100%|██████████| 105/105 [04:09<00:00,  2.38s/it]\u001b[A\n",
      "100%|██████████| 34/34 [3:37:04<00:00, 383.07s/it]\n"
     ]
    }
   ],
   "source": [
    "reload(helper_functions)\n",
    "\n",
    "with open(\"capture_metadata.json\", \"r\") as read_file:\n",
    "    attack_dict = json.load(read_file)\n",
    "\n",
    "count = 0\n",
    "for file_name in tqdm(os.listdir(\".\")):\n",
    "    \n",
    "    if \"masquerade\" not in file_name and \"accelerator\" not in file_name and \"metadata\" not in file_name:\n",
    "    # if \"masquerade\" not in file_name and \"accelerator\" not in file_name and \"fuzzing\" not in file_name and \"metadata\" not in file_name:\n",
    "        print(file_name)\n",
    "        \n",
    "        # print(attack_dict[file_name[:-4]][\"injection_id\"], int(attack_dict[file_name[:-4]][\"injection_id\"], 16), attack_dict[file_name[:-4]][\"injection_data_str\"])\n",
    "    \n",
    "        # Add column to each attack dataframe to indicate attack the gaussian corresponding value\n",
    "        df_aggregation[count] = helper_functions.add_kde_val_col(df_aggregation[count], training_dict)                                                   \n",
    "        \n",
    "        count += 1"
   ]
  },
  {
   "cell_type": "code",
   "execution_count": 40,
   "metadata": {},
   "outputs": [
    {
     "data": {
      "text/html": [
       "<div>\n",
       "<style scoped>\n",
       "    .dataframe tbody tr th:only-of-type {\n",
       "        vertical-align: middle;\n",
       "    }\n",
       "\n",
       "    .dataframe tbody tr th {\n",
       "        vertical-align: top;\n",
       "    }\n",
       "\n",
       "    .dataframe thead th {\n",
       "        text-align: right;\n",
       "    }\n",
       "</style>\n",
       "<table border=\"1\" class=\"dataframe\">\n",
       "  <thead>\n",
       "    <tr style=\"text-align: right;\">\n",
       "      <th></th>\n",
       "      <th>time</th>\n",
       "      <th>aid</th>\n",
       "      <th>data</th>\n",
       "      <th>time_diffs</th>\n",
       "      <th>actual_attack</th>\n",
       "      <th>predicted_attack</th>\n",
       "      <th>alert_window</th>\n",
       "      <th>gauss_val</th>\n",
       "      <th>kde_val</th>\n",
       "    </tr>\n",
       "  </thead>\n",
       "  <tbody>\n",
       "    <tr>\n",
       "      <th>3125</th>\n",
       "      <td>1.308188</td>\n",
       "      <td>6</td>\n",
       "      <td>0800006400000000</td>\n",
       "      <td>0.999026</td>\n",
       "      <td>False</td>\n",
       "      <td>False</td>\n",
       "      <td>False</td>\n",
       "      <td>0.805905</td>\n",
       "      <td>4.611077</td>\n",
       "    </tr>\n",
       "    <tr>\n",
       "      <th>5520</th>\n",
       "      <td>2.309099</td>\n",
       "      <td>6</td>\n",
       "      <td>0800006400000000</td>\n",
       "      <td>1.000911</td>\n",
       "      <td>False</td>\n",
       "      <td>False</td>\n",
       "      <td>False</td>\n",
       "      <td>0.806001</td>\n",
       "      <td>4.611343</td>\n",
       "    </tr>\n",
       "    <tr>\n",
       "      <th>7912</th>\n",
       "      <td>3.309113</td>\n",
       "      <td>6</td>\n",
       "      <td>0800006400000000</td>\n",
       "      <td>1.000014</td>\n",
       "      <td>False</td>\n",
       "      <td>False</td>\n",
       "      <td>False</td>\n",
       "      <td>0.805957</td>\n",
       "      <td>4.611493</td>\n",
       "    </tr>\n",
       "    <tr>\n",
       "      <th>10304</th>\n",
       "      <td>4.309146</td>\n",
       "      <td>6</td>\n",
       "      <td>0800006400000000</td>\n",
       "      <td>1.000033</td>\n",
       "      <td>False</td>\n",
       "      <td>False</td>\n",
       "      <td>False</td>\n",
       "      <td>0.805958</td>\n",
       "      <td>4.611495</td>\n",
       "    </tr>\n",
       "    <tr>\n",
       "      <th>12695</th>\n",
       "      <td>5.308893</td>\n",
       "      <td>6</td>\n",
       "      <td>0800006400000000</td>\n",
       "      <td>0.999747</td>\n",
       "      <td>False</td>\n",
       "      <td>False</td>\n",
       "      <td>False</td>\n",
       "      <td>0.805943</td>\n",
       "      <td>4.611441</td>\n",
       "    </tr>\n",
       "    <tr>\n",
       "      <th>...</th>\n",
       "      <td>...</td>\n",
       "      <td>...</td>\n",
       "      <td>...</td>\n",
       "      <td>...</td>\n",
       "      <td>...</td>\n",
       "      <td>...</td>\n",
       "      <td>...</td>\n",
       "      <td>...</td>\n",
       "      <td>...</td>\n",
       "    </tr>\n",
       "    <tr>\n",
       "      <th>139722</th>\n",
       "      <td>57.415475</td>\n",
       "      <td>1788</td>\n",
       "      <td>0000075570B75820</td>\n",
       "      <td>0.099969</td>\n",
       "      <td>False</td>\n",
       "      <td>False</td>\n",
       "      <td>False</td>\n",
       "      <td>50.935240</td>\n",
       "      <td>413.742832</td>\n",
       "    </tr>\n",
       "    <tr>\n",
       "      <th>139958</th>\n",
       "      <td>57.515468</td>\n",
       "      <td>1788</td>\n",
       "      <td>00000755F0B75820</td>\n",
       "      <td>0.099993</td>\n",
       "      <td>False</td>\n",
       "      <td>False</td>\n",
       "      <td>False</td>\n",
       "      <td>50.937446</td>\n",
       "      <td>413.961176</td>\n",
       "    </tr>\n",
       "    <tr>\n",
       "      <th>140196</th>\n",
       "      <td>57.615419</td>\n",
       "      <td>1788</td>\n",
       "      <td>00000755B0B75820</td>\n",
       "      <td>0.099951</td>\n",
       "      <td>False</td>\n",
       "      <td>False</td>\n",
       "      <td>False</td>\n",
       "      <td>50.933233</td>\n",
       "      <td>413.397746</td>\n",
       "    </tr>\n",
       "    <tr>\n",
       "      <th>140438</th>\n",
       "      <td>57.715422</td>\n",
       "      <td>1788</td>\n",
       "      <td>0000075570B75820</td>\n",
       "      <td>0.100003</td>\n",
       "      <td>False</td>\n",
       "      <td>False</td>\n",
       "      <td>False</td>\n",
       "      <td>50.938278</td>\n",
       "      <td>413.974150</td>\n",
       "    </tr>\n",
       "    <tr>\n",
       "      <th>140674</th>\n",
       "      <td>57.815373</td>\n",
       "      <td>1788</td>\n",
       "      <td>0000075610B75820</td>\n",
       "      <td>0.099951</td>\n",
       "      <td>False</td>\n",
       "      <td>False</td>\n",
       "      <td>False</td>\n",
       "      <td>50.933233</td>\n",
       "      <td>413.397746</td>\n",
       "    </tr>\n",
       "  </tbody>\n",
       "</table>\n",
       "<p>132011 rows × 9 columns</p>\n",
       "</div>"
      ],
      "text/plain": [
       "             time   aid              data  time_diffs  actual_attack  \\\n",
       "3125     1.308188     6  0800006400000000    0.999026          False   \n",
       "5520     2.309099     6  0800006400000000    1.000911          False   \n",
       "7912     3.309113     6  0800006400000000    1.000014          False   \n",
       "10304    4.309146     6  0800006400000000    1.000033          False   \n",
       "12695    5.308893     6  0800006400000000    0.999747          False   \n",
       "...           ...   ...               ...         ...            ...   \n",
       "139722  57.415475  1788  0000075570B75820    0.099969          False   \n",
       "139958  57.515468  1788  00000755F0B75820    0.099993          False   \n",
       "140196  57.615419  1788  00000755B0B75820    0.099951          False   \n",
       "140438  57.715422  1788  0000075570B75820    0.100003          False   \n",
       "140674  57.815373  1788  0000075610B75820    0.099951          False   \n",
       "\n",
       "        predicted_attack  alert_window  gauss_val     kde_val  \n",
       "3125               False         False   0.805905    4.611077  \n",
       "5520               False         False   0.806001    4.611343  \n",
       "7912               False         False   0.805957    4.611493  \n",
       "10304              False         False   0.805958    4.611495  \n",
       "12695              False         False   0.805943    4.611441  \n",
       "...                  ...           ...        ...         ...  \n",
       "139722             False         False  50.935240  413.742832  \n",
       "139958             False         False  50.937446  413.961176  \n",
       "140196             False         False  50.933233  413.397746  \n",
       "140438             False         False  50.938278  413.974150  \n",
       "140674             False         False  50.933233  413.397746  \n",
       "\n",
       "[132011 rows x 9 columns]"
      ]
     },
     "execution_count": 40,
     "metadata": {},
     "output_type": "execute_result"
    }
   ],
   "source": [
    "df_aggregation[0]"
   ]
  },
  {
   "cell_type": "code",
   "execution_count": 42,
   "metadata": {},
   "outputs": [
    {
     "data": {
      "text/html": [
       "<div>\n",
       "<style scoped>\n",
       "    .dataframe tbody tr th:only-of-type {\n",
       "        vertical-align: middle;\n",
       "    }\n",
       "\n",
       "    .dataframe tbody tr th {\n",
       "        vertical-align: top;\n",
       "    }\n",
       "\n",
       "    .dataframe thead th {\n",
       "        text-align: right;\n",
       "    }\n",
       "</style>\n",
       "<table border=\"1\" class=\"dataframe\">\n",
       "  <thead>\n",
       "    <tr style=\"text-align: right;\">\n",
       "      <th></th>\n",
       "      <th>time</th>\n",
       "      <th>aid</th>\n",
       "      <th>data</th>\n",
       "      <th>time_diffs</th>\n",
       "      <th>actual_attack</th>\n",
       "      <th>predicted_attack</th>\n",
       "      <th>alert_window</th>\n",
       "      <th>gauss_val</th>\n",
       "      <th>kde_val</th>\n",
       "    </tr>\n",
       "  </thead>\n",
       "  <tbody>\n",
       "    <tr>\n",
       "      <th>3125</th>\n",
       "      <td>1.308188</td>\n",
       "      <td>6</td>\n",
       "      <td>0800006400000000</td>\n",
       "      <td>0.999026</td>\n",
       "      <td>False</td>\n",
       "      <td>False</td>\n",
       "      <td>False</td>\n",
       "      <td>0.805905</td>\n",
       "      <td>4.611077</td>\n",
       "    </tr>\n",
       "    <tr>\n",
       "      <th>5520</th>\n",
       "      <td>2.309099</td>\n",
       "      <td>6</td>\n",
       "      <td>0800006400000000</td>\n",
       "      <td>1.000911</td>\n",
       "      <td>False</td>\n",
       "      <td>False</td>\n",
       "      <td>False</td>\n",
       "      <td>0.806001</td>\n",
       "      <td>4.611343</td>\n",
       "    </tr>\n",
       "    <tr>\n",
       "      <th>7912</th>\n",
       "      <td>3.309113</td>\n",
       "      <td>6</td>\n",
       "      <td>0800006400000000</td>\n",
       "      <td>1.000014</td>\n",
       "      <td>False</td>\n",
       "      <td>False</td>\n",
       "      <td>False</td>\n",
       "      <td>0.805957</td>\n",
       "      <td>4.611493</td>\n",
       "    </tr>\n",
       "    <tr>\n",
       "      <th>10304</th>\n",
       "      <td>4.309146</td>\n",
       "      <td>6</td>\n",
       "      <td>0800006400000000</td>\n",
       "      <td>1.000033</td>\n",
       "      <td>False</td>\n",
       "      <td>False</td>\n",
       "      <td>False</td>\n",
       "      <td>0.805958</td>\n",
       "      <td>4.611495</td>\n",
       "    </tr>\n",
       "    <tr>\n",
       "      <th>12695</th>\n",
       "      <td>5.308893</td>\n",
       "      <td>6</td>\n",
       "      <td>0800006400000000</td>\n",
       "      <td>0.999747</td>\n",
       "      <td>False</td>\n",
       "      <td>False</td>\n",
       "      <td>False</td>\n",
       "      <td>0.805943</td>\n",
       "      <td>4.611441</td>\n",
       "    </tr>\n",
       "    <tr>\n",
       "      <th>...</th>\n",
       "      <td>...</td>\n",
       "      <td>...</td>\n",
       "      <td>...</td>\n",
       "      <td>...</td>\n",
       "      <td>...</td>\n",
       "      <td>...</td>\n",
       "      <td>...</td>\n",
       "      <td>...</td>\n",
       "      <td>...</td>\n",
       "    </tr>\n",
       "    <tr>\n",
       "      <th>139722</th>\n",
       "      <td>57.415475</td>\n",
       "      <td>1788</td>\n",
       "      <td>0000075570B75820</td>\n",
       "      <td>0.099969</td>\n",
       "      <td>False</td>\n",
       "      <td>False</td>\n",
       "      <td>False</td>\n",
       "      <td>50.935240</td>\n",
       "      <td>413.742832</td>\n",
       "    </tr>\n",
       "    <tr>\n",
       "      <th>139958</th>\n",
       "      <td>57.515468</td>\n",
       "      <td>1788</td>\n",
       "      <td>00000755F0B75820</td>\n",
       "      <td>0.099993</td>\n",
       "      <td>False</td>\n",
       "      <td>False</td>\n",
       "      <td>False</td>\n",
       "      <td>50.937446</td>\n",
       "      <td>413.961176</td>\n",
       "    </tr>\n",
       "    <tr>\n",
       "      <th>140196</th>\n",
       "      <td>57.615419</td>\n",
       "      <td>1788</td>\n",
       "      <td>00000755B0B75820</td>\n",
       "      <td>0.099951</td>\n",
       "      <td>False</td>\n",
       "      <td>False</td>\n",
       "      <td>False</td>\n",
       "      <td>50.933233</td>\n",
       "      <td>413.397746</td>\n",
       "    </tr>\n",
       "    <tr>\n",
       "      <th>140438</th>\n",
       "      <td>57.715422</td>\n",
       "      <td>1788</td>\n",
       "      <td>0000075570B75820</td>\n",
       "      <td>0.100003</td>\n",
       "      <td>False</td>\n",
       "      <td>False</td>\n",
       "      <td>False</td>\n",
       "      <td>50.938278</td>\n",
       "      <td>413.974150</td>\n",
       "    </tr>\n",
       "    <tr>\n",
       "      <th>140674</th>\n",
       "      <td>57.815373</td>\n",
       "      <td>1788</td>\n",
       "      <td>0000075610B75820</td>\n",
       "      <td>0.099951</td>\n",
       "      <td>False</td>\n",
       "      <td>False</td>\n",
       "      <td>False</td>\n",
       "      <td>50.933233</td>\n",
       "      <td>413.397746</td>\n",
       "    </tr>\n",
       "  </tbody>\n",
       "</table>\n",
       "<p>132011 rows × 9 columns</p>\n",
       "</div>"
      ],
      "text/plain": [
       "             time   aid              data  time_diffs  actual_attack  \\\n",
       "3125     1.308188     6  0800006400000000    0.999026          False   \n",
       "5520     2.309099     6  0800006400000000    1.000911          False   \n",
       "7912     3.309113     6  0800006400000000    1.000014          False   \n",
       "10304    4.309146     6  0800006400000000    1.000033          False   \n",
       "12695    5.308893     6  0800006400000000    0.999747          False   \n",
       "...           ...   ...               ...         ...            ...   \n",
       "139722  57.415475  1788  0000075570B75820    0.099969          False   \n",
       "139958  57.515468  1788  00000755F0B75820    0.099993          False   \n",
       "140196  57.615419  1788  00000755B0B75820    0.099951          False   \n",
       "140438  57.715422  1788  0000075570B75820    0.100003          False   \n",
       "140674  57.815373  1788  0000075610B75820    0.099951          False   \n",
       "\n",
       "        predicted_attack  alert_window  gauss_val     kde_val  \n",
       "3125               False         False   0.805905    4.611077  \n",
       "5520               False         False   0.806001    4.611343  \n",
       "7912               False         False   0.805957    4.611493  \n",
       "10304              False         False   0.805958    4.611495  \n",
       "12695              False         False   0.805943    4.611441  \n",
       "...                  ...           ...        ...         ...  \n",
       "139722             False         False  50.935240  413.742832  \n",
       "139958             False         False  50.937446  413.961176  \n",
       "140196             False         False  50.933233  413.397746  \n",
       "140438             False         False  50.938278  413.974150  \n",
       "140674             False         False  50.933233  413.397746  \n",
       "\n",
       "[132011 rows x 9 columns]"
      ]
     },
     "execution_count": 42,
     "metadata": {},
     "output_type": "execute_result"
    }
   ],
   "source": [
    "# helper_functions.picklify(df_aggregation, os.path.dirname(os.getcwd()) + \"/df_aggregation_final.pkl\")\n",
    "\n",
    "df_aggregation = helper_functions.unpickle(os.path.dirname(os.getcwd()) + \"/df_aggregation_final.pkl\") \n",
    "\n",
    "df_aggregation[0]"
   ]
  },
  {
   "cell_type": "code",
   "execution_count": 43,
   "metadata": {},
   "outputs": [
    {
     "name": "stdout",
     "output_type": "stream",
     "text": [
      "[0.0, 0.001, 0.002, 0.003, 0.004, 0.005, 0.006, 0.007, 0.008, 0.009000000000000001, 0.01, 0.02, 0.03, 0.04, 0.05, 0.06, 0.07, 0.08, 0.09]\n"
     ]
    }
   ],
   "source": [
    "# Fill this list with the pvals we want to find y_thresholds for\n",
    "pvals_kde = sorted(list(np.arange(0.001, 0.01, 0.001)) + list(np.arange(0, 0.1, 0.01)))\n",
    "print(pvals_kde)"
   ]
  },
  {
   "cell_type": "code",
   "execution_count": 94,
   "metadata": {},
   "outputs": [],
   "source": [
    "#training_dict"
   ]
  },
  {
   "cell_type": "code",
   "execution_count": 44,
   "metadata": {},
   "outputs": [
    {
     "name": "stderr",
     "output_type": "stream",
     "text": [
      "100%|██████████| 105/105 [1:39:35<00:00, 56.91s/it]  \n"
     ]
    }
   ],
   "source": [
    "# reload(helper_functions)\n",
    "\n",
    "# # Fill each 'y_thresholds_kde' dictionary with p values and their corresponding y_thresholds\n",
    "# # Once this has been done, results are pickled and don't need to be re-run.\n",
    "# # Will comment this out to avoid overwriting\n",
    "# #cc = 0\n",
    "# for aid in tqdm(df_training.aid.unique()):\n",
    "#     #cc += 1\n",
    "#     #print (f'aid {cc} of 128')\n",
    "#     for p in pvals_kde:\n",
    "#         helper_functions.y_threshold_kde(training_dict, aid, p)\n",
    "        \n",
    "# helper_functions.picklify(training_dict, os.path.dirname(os.getcwd()) + \"/training_dict.pkl\")"
   ]
  },
  {
   "cell_type": "code",
   "execution_count": 45,
   "metadata": {},
   "outputs": [],
   "source": [
    "training_dict = helper_functions.unpickle(os.path.dirname(os.getcwd()) + \"/training_dict.pkl\") "
   ]
  },
  {
   "cell_type": "code",
   "execution_count": 47,
   "metadata": {},
   "outputs": [],
   "source": [
    "#training_dict\n",
    "#df_aggregation[0]"
   ]
  },
  {
   "cell_type": "code",
   "execution_count": 48,
   "metadata": {},
   "outputs": [
    {
     "name": "stderr",
     "output_type": "stream",
     "text": [
      "100%|██████████| 19/19 [09:56<00:00, 31.42s/it]\n"
     ]
    }
   ],
   "source": [
    "# reload(helper_functions)\n",
    "# helper_functions.get_results_kde(pvals_kde, df_aggregation, training_dict)"
   ]
  },
  {
   "cell_type": "code",
   "execution_count": 25,
   "metadata": {},
   "outputs": [],
   "source": [
    "results_kde_final = helper_functions.unpickle(os.path.dirname(os.getcwd()) + \"/results_kde_final.pkl\") "
   ]
  },
  {
   "cell_type": "code",
   "execution_count": 26,
   "metadata": {},
   "outputs": [
    {
     "name": "stdout",
     "output_type": "stream",
     "text": [
      "0.0 0.000520054605733602\n",
      "0.001 0.07515461985381396\n",
      "0.002 0.0861183314766679\n",
      "0.003 0.10496345919610231\n",
      "0.004 0.11191400957456417\n",
      "0.005 0.11958008683756617\n",
      "0.006 0.1391314404672411\n",
      "0.007 0.15021969057262669\n",
      "0.008 0.15231128316065123\n",
      "0.009000000000000001 0.15585996094302776\n",
      "0.01 0.15881955395359318\n",
      "0.02 0.1804918604339314\n",
      "0.03 0.2060635621502285\n",
      "0.04 0.2455931627251979\n",
      "0.05 0.2553494341383736\n",
      "0.06 0.26240528812644737\n",
      "0.07 0.2683385307444069\n",
      "0.08 0.27406414311749794\n",
      "0.09 0.27793152206847793\n"
     ]
    },
    {
     "data": {
      "image/png": "[encoded data removed]",
      "text/plain": [
       "<Figure size 432x288 with 1 Axes>"
      ]
     },
     "metadata": {
      "needs_background": "light"
     },
     "output_type": "display_data"
    },
    {
     "data": {
      "image/png": "[encoded data removed]",
      "text/plain": [
       "<Figure size 432x288 with 1 Axes>"
      ]
     },
     "metadata": {
      "needs_background": "light"
     },
     "output_type": "display_data"
    },
    {
     "name": "stdout",
     "output_type": "stream",
     "text": [
      "confusion matrix: \n",
      " [[1503012   23735]\n",
      " [  47757   13759]]\n",
      "precision:  0.3669653811276471\n",
      "recall:  0.2236653878665713\n",
      "f1 score:  0.27793152206847793\n",
      "false positive rate 0.015546125192975654\n"
     ]
    }
   ],
   "source": [
    "pvals_kde = sorted(list(np.arange(0.001, 0.01, 0.001)) + list(np.arange(0, 0.1, 0.01)))\n",
    "# print(pvals_kde)\n",
    "\n",
    "for pval in pvals_kde:\n",
    "    print(pval, results_kde_final[pval][\"f1\"])\n",
    "    \n",
    "optimum = 0.09\n",
    "\n",
    "#Can use this dictionary to generate ROC curve\n",
    "x_roc_kde = [results_kde_final[p]['false_pos'] for p in pvals_kde]\n",
    "y_roc_kde = [results_kde_final[p]['recall'] for p in pvals_kde]\n",
    "\n",
    "# print(x_roc_kde, y_roc_kde)\n",
    "plt.plot(x_roc_kde, y_roc_kde, '.-')\n",
    "plt.plot(results_kde_final[optimum]['false_pos'], results_kde_final[optimum]['recall'], '.-r')\n",
    "plt.xlabel('False Positive Rate')\n",
    "plt.ylabel('Recall')\n",
    "plt.title('ROC Curve')\n",
    "\n",
    "plt.show()\n",
    "\n",
    "# Can use this dictionary to generate PRC curve\n",
    "x_prc_kde = [results_kde_final[p]['recall'] for p in pvals_kde]\n",
    "y_prc_kde = [results_kde_final[p]['prec'] for p in pvals_kde]\n",
    "\n",
    "# print(x_roc_kde, y_roc_kde)\n",
    "plt.plot(x_prc_kde, y_prc_kde, '.-')\n",
    "plt.plot(results_kde_final[optimum]['recall'], results_kde_final[optimum]['prec'], '.-r')\n",
    "plt.xlabel('Recall')\n",
    "plt.ylabel('Precision')\n",
    "plt.title('PRC Curve')\n",
    "\n",
    "plt.show()\n",
    "\n",
    "print(\"confusion matrix: \\n\", results_kde_final[optimum][\"cm\"])\n",
    "print(\"precision: \", results_kde_final[optimum][\"prec\"])\n",
    "print(\"recall: \", results_kde_final[optimum][\"recall\"])\n",
    "print(\"f1 score: \", results_kde_final[optimum][\"f1\"])\n",
    "print(\"false positive rate\", results_kde_final[optimum][\"false_pos\"])"
   ]
  },
  {
   "cell_type": "markdown",
   "metadata": {},
   "source": [
    "## Aggregated Figure"
   ]
  },
  {
   "cell_type": "code",
   "execution_count": 19,
   "metadata": {},
   "outputs": [
    {
     "name": "stdout",
     "output_type": "stream",
     "text": [
      "pr auc mean:  0.6905485457490329\n",
      "pr auc binning:  0.8218182467881244\n",
      "pr auc gauss:  0.08990743472868228\n",
      "pr auc kde:  0.13882084421367574\n"
     ]
    },
    {
     "data": {
      "image/png": "[encoded data removed]",
      "text/plain": [
       "<Figure size 244.8x244.8 with 1 Axes>"
      ]
     },
     "metadata": {
      "needs_background": "light"
     },
     "output_type": "display_data"
    }
   ],
   "source": [
    "fig, ax = plt.subplots(1, 1, figsize=(3.4, 3.4))\n",
    "\n",
    "ax.plot(x_prc_mean, y_prc_mean, color=\"#377eb8\", marker=\"o\", markersize=5, label=\"Mean\")\n",
    "# print(list(x_prc_mean))\n",
    "# print(list(y_prc_mean))\n",
    "print(\"pr auc mean: \", auc(np.nan_to_num(x_prc_mean), np.nan_to_num(y_prc_mean)))\n",
    "\n",
    "ax.plot(x_prc_binning, y_prc_binning, color=\"#ff7f00\", marker=\"s\", markersize=5, label=\"Binning\")\n",
    "print(\"pr auc binning: \", auc(x_prc_binning, y_prc_binning))\n",
    "\n",
    "ax.plot(x_prc_gauss, y_prc_gauss, color=\"#4daf4a\", marker=\"^\", markersize=5, label=\"Gaussian\")\n",
    "print(\"pr auc gauss: \", auc(x_prc_gauss, y_prc_gauss))\n",
    "\n",
    "ax.plot(x_prc_kde, y_prc_kde, color=\"#f781bf\", marker=\"v\", markersize=5, label=\"KDE\")\n",
    "print(\"pr auc kde: \", auc(x_prc_kde, y_prc_kde))\n",
    "\n",
    "ax.plot(np.linspace(0, 1, 20), 20*[0.039], \"--\", color=\"gray\", markersize=5)\n",
    "ax.text(0.25, -0.05, \"Baseline: 0.039\", color=\"gray\")\n",
    "\n",
    "ax.set_xticks(np.arange(0, 1.25, 0.25))\n",
    "ax.set_yticks(np.arange(0, 1.25, 0.25))\n",
    "\n",
    "ax.set_xlim([-0.1, 1.1])\n",
    "ax.set_ylim([-0.1, 1.1])\n",
    "\n",
    "ax.set_xlabel(\"Recall\")\n",
    "ax.set_ylabel(\"Precision\")\n",
    "ax.legend(loc=\"upper center\", frameon=False, bbox_to_anchor=(0.5, 1.2),  ncol=2, fancybox=False, shadow=False, labelspacing=0.5, columnspacing=1)\n",
    "\n",
    "\n",
    "#plt.savefig(\"../../figs/figure_prc.pdf\", dpi=200, bbox_inches=\"tight\")\n",
    "plt.show()"
   ]
  },
  {
   "cell_type": "code",
   "execution_count": 45,
   "metadata": {},
   "outputs": [
    {
     "name": "stdout",
     "output_type": "stream",
     "text": [
      "18 [0.001, 0.002, 0.003, 0.004, 0.005, 0.006, 0.007, 0.008, 0.009000000000000001, 0.01, 0.02, 0.03, 0.04, 0.05, 0.060000000000000005, 0.06999999999999999, 0.08, 0.09]\n"
     ]
    }
   ],
   "source": [
    "pvals_gauss = sorted(list(np.arange(0.001, 0.01, 0.001)) + list(np.arange(0.01, 0.1, 0.01)))\n",
    "print(len(pvals_gauss), pvals_gauss)"
   ]
  },
  {
   "cell_type": "markdown",
   "metadata": {},
   "source": [
    "## Unified Figure"
   ]
  },
  {
   "cell_type": "code",
   "execution_count": 18,
   "metadata": {},
   "outputs": [],
   "source": [
    "# Without outliers\n",
    "\n",
    "results_mean_final_no_pretraining = helper_functions.unpickle(os.path.dirname(os.getcwd()) + \"/results_mean_final_no_pretraining.pkl\") \n",
    "pvals_mean_no_pretraining = np.linspace(0, 1, 19)\n",
    "x_prc_mean_no_pretraining = [results_mean_final_no_pretraining[p]['recall'] for p in pvals_mean_no_pretraining]\n",
    "y_prc_mean_no_pretraining = [results_mean_final_no_pretraining[p]['prec'] for p in pvals_mean_no_pretraining]\n",
    "\n",
    "results_binning_final_no_pretraining = helper_functions.unpickle(os.path.dirname(os.getcwd()) + \"/results_binning_final_no_pretraining.pkl\") \n",
    "pvals_binning_no_pretraining = np.linspace(1, 10, 19)\n",
    "x_prc_binning_no_pretraining = [results_binning_final_no_pretraining[p]['recall'] for p in pvals_binning_no_pretraining]\n",
    "y_prc_binning_no_pretraining = [results_binning_final_no_pretraining[p]['prec'] for p in pvals_binning_no_pretraining]\n",
    "\n",
    "results_gauss_final_no_pretraining = helper_functions.unpickle(os.path.dirname(os.getcwd()) + \"/results_gauss_final_no_pretraining.pkl\")\n",
    "pvals_gauss_no_pretraining = sorted(list(np.arange(0.001, 0.01, 0.001)) + list(np.arange(0.01, 0.1, 0.01)))\n",
    "x_prc_gauss_no_pretraining  = [results_gauss_final_no_pretraining [p]['recall'] for p in pvals_gauss_no_pretraining]\n",
    "y_prc_gauss_no_pretraining  = [results_gauss_final_no_pretraining [p]['prec'] for p in pvals_gauss_no_pretraining]\n",
    "\n",
    "results_kde_final_no_pretraining = helper_functions.unpickle(os.path.dirname(os.getcwd()) + \"/results_kde_final_no_pretraining.pkl\")\n",
    "pvals_kde_no_pretraining = sorted(list(np.arange(0.001, 0.01, 0.001)) + list(np.arange(0, 0.1, 0.01)))\n",
    "x_prc_kde_no_pretraining  = [results_kde_final_no_pretraining [p]['recall'] for p in pvals_kde_no_pretraining]\n",
    "y_prc_kde_no_pretraining  = [results_kde_final_no_pretraining [p]['prec'] for p in pvals_kde_no_pretraining]\n",
    "\n",
    "# With outliers\n",
    "\n",
    "results_mean_final = helper_functions.unpickle(os.path.dirname(os.getcwd()) + \"/results_mean_final.pkl\") \n",
    "pvals_mean = np.linspace(0, 1, 19)\n",
    "x_prc_mean = [results_mean_final[p]['recall'] for p in pvals_mean]\n",
    "y_prc_mean = [results_mean_final[p]['prec'] for p in pvals_mean]\n",
    "\n",
    "results_binning_final = helper_functions.unpickle(os.path.dirname(os.getcwd()) + \"/results_binning_final.pkl\") \n",
    "pvals_binning = np.linspace(1, 10, 19)\n",
    "x_prc_binning = [results_binning_final[p]['recall'] for p in pvals_binning]\n",
    "y_prc_binning = [results_binning_final[p]['prec'] for p in pvals_binning]\n",
    "\n",
    "results_gauss_final = helper_functions.unpickle(os.path.dirname(os.getcwd()) + \"/results_gauss_final.pkl\") \n",
    "pvals_gauss = sorted(list(np.arange(0.001, 0.01, 0.001)) + list(np.arange(0.01, 0.1, 0.01)))\n",
    "x_prc_gauss = [results_gauss_final[p]['recall'] for p in pvals_gauss]\n",
    "y_prc_gauss = [results_gauss_final[p]['prec'] for p in pvals_gauss]\n",
    "\n",
    "results_kde_final = helper_functions.unpickle(os.path.dirname(os.getcwd()) + \"/results_kde_final.pkl\")\n",
    "pvals_kde = sorted(list(np.arange(0.001, 0.01, 0.001)) + list(np.arange(0, 0.1, 0.01)))\n",
    "x_prc_kde = [results_kde_final[p]['recall'] for p in pvals_kde]\n",
    "y_prc_kde = [results_kde_final[p]['prec'] for p in pvals_kde]"
   ]
  },
  {
   "cell_type": "code",
   "execution_count": 39,
   "metadata": {},
   "outputs": [
    {
     "data": {
      "image/png": "[encoded data removed]",
      "text/plain": [
       "<Figure size 460.8x201.6 with 2 Axes>"
      ]
     },
     "metadata": {
      "needs_background": "light"
     },
     "output_type": "display_data"
    }
   ],
   "source": [
    "fig, axes = plt.subplots(1, 2, figsize=(6.4, 2.8)) # figsize=(3.4, 1.7) (default: [6.4, 4.8])\n",
    "fig.subplots_adjust(wspace=0.3)\n",
    "\n",
    "axes[0].plot(x_prc_mean_no_pretraining, y_prc_mean_no_pretraining, color=\"#377eb8\", marker=\"o\", markersize=5, label=\"Mean\")\n",
    "# print(\"pr auc mean: \", auc(np.nan_to_num(x_prc_mean), np.nan_to_num(y_prc_mean)))\n",
    "\n",
    "axes[0].plot(x_prc_binning_no_pretraining, y_prc_binning_no_pretraining, color=\"#ff7f00\", marker=\"s\", markersize=5, label=\"Binning\")\n",
    "# print(\"pr auc binning: \", auc(x_prc_binning, y_prc_binning))\n",
    "\n",
    "axes[0].plot(x_prc_gauss_no_pretraining, y_prc_gauss_no_pretraining, color=\"#4daf4a\", marker=\"^\", markersize=5, label=\"Gaussian\")\n",
    "# print(\"pr auc gauss: \", auc(x_prc_gauss, y_prc_gauss))\n",
    "\n",
    "axes[0].plot(x_prc_kde_no_pretraining, y_prc_kde_no_pretraining, color=\"#f781bf\", marker=\"v\", markersize=5, label=\"KDE\")\n",
    "# print(\"pr auc kde: \", auc(x_prc_kde, y_prc_kde))\n",
    "\n",
    "axes[0].plot(np.linspace(0, 1, 20), 20*[0.039], \"--\", color=\"gray\", markersize=5)\n",
    "axes[0].text(0.25, -0.05, \"Baseline: 0.039\", color=\"gray\")\n",
    "\n",
    "axes[0].set_xticks(np.arange(0, 1.25, 0.25))\n",
    "axes[0].set_yticks(np.arange(0, 1.25, 0.25))\n",
    "\n",
    "axes[0].set_xlim([-0.1, 1.1])\n",
    "axes[0].set_ylim([-0.1, 1.1])\n",
    "\n",
    "#axes[0].set_xlabel(\"Recall\")\n",
    "axes[0].set_ylabel(\"Precision\")\n",
    "axes[0].annotate(\"(a)\", xy=(0.15, 0.95))\n",
    "\n",
    "axes[1].plot(x_prc_mean, y_prc_mean, color=\"#377eb8\", marker=\"o\", markersize=5, label=\"Mean\")\n",
    "# print(\"pr auc mean: \", auc(np.nan_to_num(x_prc_mean), np.nan_to_num(y_prc_mean)))\n",
    "\n",
    "axes[1].plot(x_prc_binning, y_prc_binning, color=\"#ff7f00\", marker=\"s\", markersize=5, label=\"Binning\")\n",
    "# print(\"pr auc binning: \", auc(x_prc_binning, y_prc_binning))\n",
    "\n",
    "axes[1].plot(x_prc_gauss, y_prc_gauss, color=\"#4daf4a\", marker=\"^\", markersize=5, label=\"Gaussian\")\n",
    "# print(\"pr auc gauss: \", auc(x_prc_gauss, y_prc_gauss))\n",
    "\n",
    "axes[1].plot(x_prc_kde, y_prc_kde, color=\"#f781bf\", marker=\"v\", markersize=5, label=\"KDE\")\n",
    "# print(\"pr auc kde: \", auc(x_prc_kde, y_prc_kde))\n",
    "\n",
    "axes[1].plot(np.linspace(0, 1, 20), 20*[0.039], \"--\", color=\"gray\", markersize=5)\n",
    "axes[1].text(0.25, -0.05, \"Baseline: 0.039\", color=\"gray\")\n",
    "\n",
    "axes[1].set_xticks(np.arange(0, 1.25, 0.25))\n",
    "axes[1].set_yticks(np.arange(0, 1.25, 0.25))\n",
    "\n",
    "axes[1].set_xlim([-0.1, 1.1])\n",
    "axes[1].set_ylim([-0.1, 1.1])\n",
    "\n",
    "#axes[0].set_xlabel(\"Recall\")\n",
    "#axes[1].set_ylabel(\"Precision\")\n",
    "axes[1].annotate(\"(b)\", xy=(0.15, 0.95))\n",
    "\n",
    "fig.text(0.5, 0.00, \"Recall\", ha=\"center\")\n",
    "\n",
    "plt.legend(loc=\"upper center\", frameon=False, bbox_to_anchor=(-0.15, 1.2),  ncol=4, fancybox=False, shadow=False, labelspacing=0.5, columnspacing=1)\n",
    "\n",
    "#plt.savefig(\"../../figs/figure_prc_condensed.pdf\", dpi=200, bbox_inches=\"tight\")\n",
    "\n",
    "plt.show()"
   ]
  },
  {
   "cell_type": "code",
   "execution_count": null,
   "metadata": {},
   "outputs": [],
   "source": []
  }
 ],
 "metadata": {
  "kernelspec": {
   "display_name": "Python 3",
   "language": "python",
   "name": "python3"
  },
  "language_info": {
   "codemirror_mode": {
    "name": "ipython",
    "version": 3
   },
   "file_extension": ".py",
   "mimetype": "text/x-python",
   "name": "python",
   "nbconvert_exporter": "python",
   "pygments_lexer": "ipython3",
   "version": "3.8.8"
  }
 },
 "nbformat": 4,
 "nbformat_minor": 4
}
